{
  "nbformat": 4,
  "nbformat_minor": 0,
  "metadata": {
    "colab": {
      "name": "ListaInversa.ipynb",
      "provenance": [],
      "authorship_tag": "ABX9TyPLTWgx78QdULWxyOYY6slZ",
      "include_colab_link": true
    },
    "kernelspec": {
      "name": "python3",
      "display_name": "Python 3"
    },
    "language_info": {
      "name": "python"
    }
  },
  "cells": [
    {
      "cell_type": "markdown",
      "metadata": {
        "id": "view-in-github",
        "colab_type": "text"
      },
      "source": [
        "<a href=\"https://colab.research.google.com/github/jasielserra/Exemplo-DevPro/blob/main/ListaInversa.ipynb\" target=\"_parent\"><img src=\"https://colab.research.google.com/assets/colab-badge.svg\" alt=\"Open In Colab\"/></a>"
      ]
    },
    {
      "cell_type": "code",
      "metadata": {
        "colab": {
          "base_uri": "https://localhost:8080/"
        },
        "id": "ztLFyZZUvNKz",
        "outputId": "b30a056e-0b89-4588-caeb-44637fc26ba4"
      },
      "source": [
        "lista = []\n",
        "\n",
        "for _ in range(10):\n",
        "  numero = float(input(\"Digite um número: \"))\n",
        "  lista.append(numero)\n",
        "\n",
        "lista.reverse()\n",
        "print(lista)"
      ],
      "execution_count": 3,
      "outputs": [
        {
          "output_type": "stream",
          "text": [
            "Digite um número: 6\n",
            "Digite um número: 8\n",
            "Digite um número: 12\n",
            "Digite um número: 16\n",
            "Digite um número: 78\n",
            "Digite um número: 45\n",
            "Digite um número: 23\n",
            "Digite um número: 12\n",
            "Digite um número: 56\n",
            "Digite um número: 45\n",
            "[45.0, 56.0, 12.0, 23.0, 45.0, 78.0, 16.0, 12.0, 8.0, 6.0]\n"
          ],
          "name": "stdout"
        }
      ]
    },
    {
      "cell_type": "code",
      "metadata": {
        "id": "xUP_gLEgv8lT"
      },
      "source": [
        "5"
      ],
      "execution_count": null,
      "outputs": []
    }
  ]
}