{
  "nbformat": 4,
  "nbformat_minor": 0,
  "metadata": {
    "colab": {
      "name": "LaçosWhile.ipynb",
      "provenance": [],
      "authorship_tag": "ABX9TyMdIy6DiRN9ddPWqp+Q6QW3",
      "include_colab_link": true
    },
    "kernelspec": {
      "name": "python3",
      "display_name": "Python 3"
    },
    "language_info": {
      "name": "python"
    }
  },
  "cells": [
    {
      "cell_type": "markdown",
      "metadata": {
        "id": "view-in-github",
        "colab_type": "text"
      },
      "source": [
        "<a href=\"https://colab.research.google.com/github/jasielserra/Exemplo-DevPro/blob/main/La%C3%A7osWhile.ipynb\" target=\"_parent\"><img src=\"https://colab.research.google.com/assets/colab-badge.svg\" alt=\"Open In Colab\"/></a>"
      ]
    },
    {
      "cell_type": "code",
      "metadata": {
        "colab": {
          "base_uri": "https://localhost:8080/"
        },
        "id": "n-SNojbKJfz2",
        "outputId": "afe8c7b5-c451-4550-abcd-0a519f206aec"
      },
      "source": [
        "lista = [\"Morango\",\"Banana\", \"Abacaxi\", \"Uva\"]\n",
        "lista_tamanho = len(lista)\n",
        "for i in range(0, lista_tamanho):\n",
        "  print(lista[i])"
      ],
      "execution_count": 1,
      "outputs": [
        {
          "output_type": "stream",
          "text": [
            "Morango\n",
            "Banana\n",
            "Abacaxi\n",
            "Uva\n"
          ],
          "name": "stdout"
        }
      ]
    },
    {
      "cell_type": "code",
      "metadata": {
        "colab": {
          "base_uri": "https://localhost:8080/"
        },
        "id": "_hWS1kyMKT4W",
        "outputId": "188dc44c-6da5-4927-f734-cbfe17247201"
      },
      "source": [
        "counter = 0\n",
        "while counter < 10:\n",
        "  print(counter)\n",
        "  counter = counter + 1"
      ],
      "execution_count": 2,
      "outputs": [
        {
          "output_type": "stream",
          "text": [
            "0\n",
            "1\n",
            "2\n",
            "3\n",
            "4\n",
            "5\n",
            "6\n",
            "7\n",
            "8\n",
            "9\n"
          ],
          "name": "stdout"
        }
      ]
    },
    {
      "cell_type": "code",
      "metadata": {
        "colab": {
          "base_uri": "https://localhost:8080/"
        },
        "id": "G3OjOZC5NPAH",
        "outputId": "421b6853-8266-4549-8836-91fb527ba8e5"
      },
      "source": [
        "counter = 0\n",
        "while counter < 100:\n",
        "  if counter == 4:\n",
        "    break\n",
        "  else:\n",
        "    pass\n",
        "  print(counter)\n",
        "  counter = counter + 1"
      ],
      "execution_count": 3,
      "outputs": [
        {
          "output_type": "stream",
          "text": [
            "0\n",
            "1\n",
            "2\n",
            "3\n"
          ],
          "name": "stdout"
        }
      ]
    },
    {
      "cell_type": "code",
      "metadata": {
        "id": "DY-so76NN6DV"
      },
      "source": [
        ""
      ],
      "execution_count": null,
      "outputs": []
    }
  ]
}