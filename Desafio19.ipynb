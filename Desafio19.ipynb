{
  "nbformat": 4,
  "nbformat_minor": 0,
  "metadata": {
    "colab": {
      "name": "Desafio19.ipynb",
      "provenance": [],
      "authorship_tag": "ABX9TyMOLnueRm2l0yECrlDNz0qV",
      "include_colab_link": true
    },
    "kernelspec": {
      "name": "python3",
      "display_name": "Python 3"
    },
    "language_info": {
      "name": "python"
    }
  },
  "cells": [
    {
      "cell_type": "markdown",
      "metadata": {
        "id": "view-in-github",
        "colab_type": "text"
      },
      "source": [
        "<a href=\"https://colab.research.google.com/github/jasielserra/Exemplo-DevPro/blob/main/Desafio19.ipynb\" target=\"_parent\"><img src=\"https://colab.research.google.com/assets/colab-badge.svg\" alt=\"Open In Colab\"/></a>"
      ]
    },
    {
      "cell_type": "code",
      "metadata": {
        "colab": {
          "base_uri": "https://localhost:8080/"
        },
        "id": "47CzigRjDk9g",
        "outputId": "61f4e457-63e7-447e-e8a2-4b0c9644edd9"
      },
      "source": [
        "numero = 321\n",
        "centenas_str = dezenas_str = unidades_str = ''\n",
        "\n",
        "centenas_int, numero = divmod(numero, 100)\n",
        "\n",
        "if centenas_int == 1:\n",
        "  centenas_str = '1 centena'\n",
        "elif centenas_int > 1:\n",
        "  centanas_str = f'{centenas_int} centenas'\n",
        "\n",
        "dezenas_int, numero = divmod(numero, 10)\n",
        "\n",
        "if dezenas_int == 1:\n",
        "  dezenas_str = '1 dezena'\n",
        "elif dezenas_int > 1:\n",
        "  dezenas_str = f'{dezenas_int} dezenas'\n",
        "\n",
        "if numero == 1:\n",
        "  unidades_str = '1 unidades'\n",
        "elif numero > 1:\n",
        "  unidades_str = f'{numero} unidades'\n",
        "\n",
        "print(centenas_str, dezenas_str, unidades_str)\n",
        "\n"
      ],
      "execution_count": 6,
      "outputs": [
        {
          "output_type": "stream",
          "text": [
            " 2 dezenas 1 unidades\n"
          ],
          "name": "stdout"
        }
      ]
    },
    {
      "cell_type": "code",
      "metadata": {
        "id": "l68eWy0AF7bi"
      },
      "source": [
        ""
      ],
      "execution_count": null,
      "outputs": []
    }
  ]
}