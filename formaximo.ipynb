{
  "nbformat": 4,
  "nbformat_minor": 0,
  "metadata": {
    "colab": {
      "name": "formaximo.ipynb",
      "provenance": [],
      "authorship_tag": "ABX9TyN+x4GlUuqOr5gYCgRNbLVW",
      "include_colab_link": true
    },
    "kernelspec": {
      "name": "python3",
      "display_name": "Python 3"
    },
    "language_info": {
      "name": "python"
    }
  },
  "cells": [
    {
      "cell_type": "markdown",
      "metadata": {
        "id": "view-in-github",
        "colab_type": "text"
      },
      "source": [
        "<a href=\"https://colab.research.google.com/github/jasielserra/Exemplo-DevPro/blob/main/formaximo.ipynb\" target=\"_parent\"><img src=\"https://colab.research.google.com/assets/colab-badge.svg\" alt=\"Open In Colab\"/></a>"
      ]
    },
    {
      "cell_type": "code",
      "metadata": {
        "id": "oBbUSlHJ_YcT"
      },
      "source": [
        "maximo = float(input(\"Digite um número: \"))\n",
        "\n",
        "for _ in range(4):\n",
        "  maximo = max(maximo, float(input(\"Digite um número: \")))\n",
        "  print(f'Número máximo encontrado até agora é: {maximo}')"
      ],
      "execution_count": null,
      "outputs": []
    }
  ]
}