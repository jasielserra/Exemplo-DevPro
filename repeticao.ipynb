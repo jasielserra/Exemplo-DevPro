{
  "nbformat": 4,
  "nbformat_minor": 0,
  "metadata": {
    "colab": {
      "name": "repeticao.ipynb",
      "provenance": [],
      "authorship_tag": "ABX9TyPOd0aQ5Vg6Kw56wMzq1e9A",
      "include_colab_link": true
    },
    "kernelspec": {
      "name": "python3",
      "display_name": "Python 3"
    },
    "language_info": {
      "name": "python"
    }
  },
  "cells": [
    {
      "cell_type": "markdown",
      "metadata": {
        "id": "view-in-github",
        "colab_type": "text"
      },
      "source": [
        "<a href=\"https://colab.research.google.com/github/jasielserra/Exemplo-DevPro/blob/main/repeticao.ipynb\" target=\"_parent\"><img src=\"https://colab.research.google.com/assets/colab-badge.svg\" alt=\"Open In Colab\"/></a>"
      ]
    },
    {
      "cell_type": "code",
      "metadata": {
        "colab": {
          "base_uri": "https://localhost:8080/"
        },
        "id": "dn8yj2Fg94rK",
        "outputId": "0fd23b79-50e7-45a6-e45a-2f77a928f7a9"
      },
      "source": [
        "while True:\n",
        "  try:\n",
        "    numero = int(input(\"Digite um valor de 0 a 10: \"))\n",
        "  except ValueError:\n",
        "    print(\"Deve ser fornecido um valor inteiro\")\n",
        "  else:\n",
        "    if 0 <= numero <= 10:\n",
        "      print(f'Número informado é: {numero}')\n",
        "      break\n",
        "    else:\n",
        "      print(\"O número deve estar entre 0 e 10\")"
      ],
      "execution_count": 2,
      "outputs": [
        {
          "output_type": "stream",
          "text": [
            "Digite um valor de 0 a 10: 8\n",
            "Número informado é: 8\n"
          ],
          "name": "stdout"
        }
      ]
    },
    {
      "cell_type": "code",
      "metadata": {
        "id": "wvJnFeGf_Jvf"
      },
      "source": [
        ""
      ],
      "execution_count": 1,
      "outputs": []
    }
  ]
}