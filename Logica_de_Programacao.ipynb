{
  "nbformat": 4,
  "nbformat_minor": 0,
  "metadata": {
    "colab": {
      "name": "Logica de Programacao.ipynb",
      "provenance": [],
      "history_visible": true,
      "authorship_tag": "ABX9TyPy5hrN7CtHj0WL3xJBXIIF",
      "include_colab_link": true
    },
    "kernelspec": {
      "name": "python3",
      "display_name": "Python 3"
    },
    "language_info": {
      "name": "python"
    }
  },
  "cells": [
    {
      "cell_type": "markdown",
      "metadata": {
        "id": "view-in-github",
        "colab_type": "text"
      },
      "source": [
        "<a href=\"https://colab.research.google.com/github/jasielserra/Exemplo-DevPro/blob/main/Logica_de_Programacao.ipynb\" target=\"_parent\"><img src=\"https://colab.research.google.com/assets/colab-badge.svg\" alt=\"Open In Colab\"/></a>"
      ]
    },
    {
      "cell_type": "markdown",
      "metadata": {
        "id": "zlR3XHc49liz"
      },
      "source": [
        ""
      ]
    },
    {
      "cell_type": "code",
      "metadata": {
        "colab": {
          "base_uri": "https://localhost:8080/"
        },
        "id": "hVaUd84Cyoka",
        "outputId": "38e768ed-65a3-4497-bbaf-cb061b77a7e3"
      },
      "source": [
        "idade = 70\n",
        "if idade < 18:\n",
        "  print(f'menor de idade: {idade}')\n",
        "  print('Acabou o if')\n",
        "elif idade >= 65:\n",
        "  print(f'pessoa idosa:{idade}')\n",
        "else:\n",
        "  print(f'maior de idade:{idade}')\n"
      ],
      "execution_count": null,
      "outputs": [
        {
          "output_type": "stream",
          "text": [
            "pessoa idosa:70\n"
          ],
          "name": "stdout"
        }
      ]
    },
    {
      "cell_type": "markdown",
      "metadata": {
        "id": "aVvHZGEF0n8q"
      },
      "source": [
        "### Função"
      ]
    },
    {
      "cell_type": "code",
      "metadata": {
        "colab": {
          "base_uri": "https://localhost:8080/",
          "height": 35
        },
        "id": "cZVUue6i0w18",
        "outputId": "37abe039-333e-4641-eef2-05783366b67c"
      },
      "source": [
        "def classificar(idade, nome):\n",
        "  if idade < 18:\n",
        "    return f'{nome} é menor de idade: {idade}'\n",
        "  elif idade >= 65:\n",
        "    return f'{nome} é um idoso(a):{idade}'\n",
        "  else:\n",
        "    return f'{nome} é maior de idade: {idade}'\n",
        "\n",
        "classificar(38,'Jasiel')\n",
        "\n",
        "\n",
        "\n",
        "    \n",
        "\n",
        "\n"
      ],
      "execution_count": null,
      "outputs": [
        {
          "output_type": "execute_result",
          "data": {
            "application/vnd.google.colaboratory.intrinsic+json": {
              "type": "string"
            },
            "text/plain": [
              "'Jasiel é maior de idade: 38'"
            ]
          },
          "metadata": {
            "tags": []
          },
          "execution_count": 14
        }
      ]
    },
    {
      "cell_type": "markdown",
      "metadata": {
        "id": "z0PXe_9N3N92"
      },
      "source": [
        "## Sequências"
      ]
    },
    {
      "cell_type": "code",
      "metadata": {
        "colab": {
          "base_uri": "https://localhost:8080/"
        },
        "id": "eCUY-vDQ3Ry5",
        "outputId": "8682db00-8791-4646-9500-61fbd25ae888"
      },
      "source": [
        "lista = [11,'23',4.56]\n",
        "type(lista)"
      ],
      "execution_count": null,
      "outputs": [
        {
          "output_type": "execute_result",
          "data": {
            "text/plain": [
              "list"
            ]
          },
          "metadata": {
            "tags": []
          },
          "execution_count": 16
        }
      ]
    },
    {
      "cell_type": "markdown",
      "metadata": {
        "id": "kRAGPxtx3xcS"
      },
      "source": [
        ""
      ]
    },
    {
      "cell_type": "code",
      "metadata": {
        "id": "HKYEjr2YyuTm"
      },
      "source": [
        "## Acesso a elementos"
      ],
      "execution_count": null,
      "outputs": []
    },
    {
      "cell_type": "code",
      "metadata": {
        "colab": {
          "base_uri": "https://localhost:8080/"
        },
        "id": "1cnFYTrw31ve",
        "outputId": "41e6e35c-7291-4a12-b4ec-44d5a5ebf538"
      },
      "source": [
        "lista[2]"
      ],
      "execution_count": null,
      "outputs": [
        {
          "output_type": "execute_result",
          "data": {
            "text/plain": [
              "4.56"
            ]
          },
          "metadata": {
            "tags": []
          },
          "execution_count": 17
        }
      ]
    },
    {
      "cell_type": "code",
      "metadata": {
        "colab": {
          "base_uri": "https://localhost:8080/"
        },
        "id": "qCtI-HO_4FCU",
        "outputId": "3800d82d-5001-4eb5-fd82-c16be87fdff1"
      },
      "source": [
        "len(lista)"
      ],
      "execution_count": null,
      "outputs": [
        {
          "output_type": "execute_result",
          "data": {
            "text/plain": [
              "3"
            ]
          },
          "metadata": {
            "tags": []
          },
          "execution_count": 19
        }
      ]
    },
    {
      "cell_type": "code",
      "metadata": {
        "colab": {
          "base_uri": "https://localhost:8080/"
        },
        "id": "hbC_YR7I4QuJ",
        "outputId": "ddef2dbb-0127-48ff-824f-4fed3443b67b"
      },
      "source": [
        "lista[len(lista)-1]"
      ],
      "execution_count": null,
      "outputs": [
        {
          "output_type": "execute_result",
          "data": {
            "text/plain": [
              "4.56"
            ]
          },
          "metadata": {
            "tags": []
          },
          "execution_count": 20
        }
      ]
    },
    {
      "cell_type": "code",
      "metadata": {
        "id": "WeNqAAGe4ZF8",
        "colab": {
          "base_uri": "https://localhost:8080/"
        },
        "outputId": "193763cf-911a-44f7-9c5b-2251a96f6e91"
      },
      "source": [
        "lista[0:1]\n"
      ],
      "execution_count": null,
      "outputs": [
        {
          "output_type": "execute_result",
          "data": {
            "text/plain": [
              "[11]"
            ]
          },
          "metadata": {
            "tags": []
          },
          "execution_count": 21
        }
      ]
    },
    {
      "cell_type": "markdown",
      "metadata": {
        "id": "ltSa7vK69o68"
      },
      "source": [
        ""
      ]
    },
    {
      "cell_type": "markdown",
      "metadata": {
        "id": "hIng4mc89rak"
      },
      "source": [
        "\n",
        "# Fundamentos de Lógica de Programação com Python\n"
      ]
    },
    {
      "cell_type": "markdown",
      "metadata": {
        "id": "DiQ4AglU9WG7"
      },
      "source": [
        ""
      ]
    },
    {
      "cell_type": "markdown",
      "metadata": {
        "id": "fPfxJIUm9Ouc"
      },
      "source": [
        "**negrito**"
      ]
    }
  ]
}