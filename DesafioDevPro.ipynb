{
  "nbformat": 4,
  "nbformat_minor": 0,
  "metadata": {
    "colab": {
      "name": "DesafioDevPro.ipynb",
      "provenance": [],
      "authorship_tag": "ABX9TyMTMQc4twS2dOVst3ePfOda",
      "include_colab_link": true
    },
    "kernelspec": {
      "name": "python3",
      "display_name": "Python 3"
    },
    "language_info": {
      "name": "python"
    }
  },
  "cells": [
    {
      "cell_type": "markdown",
      "metadata": {
        "id": "view-in-github",
        "colab_type": "text"
      },
      "source": [
        "<a href=\"https://colab.research.google.com/github/jasielserra/Exemplo-DevPro/blob/main/DesafioDevPro.ipynb\" target=\"_parent\"><img src=\"https://colab.research.google.com/assets/colab-badge.svg\" alt=\"Open In Colab\"/></a>"
      ]
    },
    {
      "cell_type": "markdown",
      "metadata": {
        "id": "mydebb8NQxC_"
      },
      "source": [
        "Nesse notebook vamos resolver vários exercícios da [lista Python Brasil](https://wiki.python.org.br/ListaDeExercicios/).\n",
        "\n"
      ]
    },
    {
      "cell_type": "markdown",
      "metadata": {
        "id": "k0C4waq-emzH"
      },
      "source": [
        ""
      ]
    },
    {
      "cell_type": "markdown",
      "metadata": {
        "id": "s8LvxjjTR7Ca"
      },
      "source": [
        "# [Estrutura Sequencial](https://wiki.python.org.br/EstruturaSequencial)\n"
      ]
    },
    {
      "cell_type": "markdown",
      "metadata": {
        "id": "QmwA3N2GSdhs"
      },
      "source": [
        "Exercicio 1"
      ]
    },
    {
      "cell_type": "code",
      "metadata": {
        "colab": {
          "base_uri": "https://localhost:8080/"
        },
        "id": "c0Ngdl-MSq4Z",
        "outputId": "d78bd445-40fb-4c8a-9b0b-a679e0a3da34"
      },
      "source": [
        "print(\"Hello World!\")"
      ],
      "execution_count": null,
      "outputs": [
        {
          "output_type": "stream",
          "text": [
            "Hello World!\n"
          ],
          "name": "stdout"
        }
      ]
    },
    {
      "cell_type": "code",
      "metadata": {
        "colab": {
          "base_uri": "https://localhost:8080/"
        },
        "id": "BK2f2uUhS24s",
        "outputId": "30e7f29a-b3ba-4baf-84fe-fd5c561c88d1"
      },
      "source": [
        "type(\"Hello World!\")"
      ],
      "execution_count": null,
      "outputs": [
        {
          "output_type": "execute_result",
          "data": {
            "text/plain": [
              "str"
            ]
          },
          "metadata": {
            "tags": []
          },
          "execution_count": 2
        }
      ]
    },
    {
      "cell_type": "markdown",
      "metadata": {
        "id": "Pj5d-jENTP2A"
      },
      "source": [
        "Exercicio 2 \n"
      ]
    },
    {
      "cell_type": "code",
      "metadata": {
        "colab": {
          "base_uri": "https://localhost:8080/"
        },
        "id": "ZbsXDbhgTUwg",
        "outputId": "70f69229-ed65-43cd-81f9-53c34a05582f"
      },
      "source": [
        "numero = input(\"Digite um número: \")\n",
        "print(f'O numero informado foi {numero}')"
      ],
      "execution_count": null,
      "outputs": [
        {
          "output_type": "stream",
          "text": [
            "Digite um número: 8058965\n",
            "O numero informado foi 8058965\n"
          ],
          "name": "stdout"
        }
      ]
    },
    {
      "cell_type": "markdown",
      "metadata": {
        "id": "J4XShHb5Uu8p"
      },
      "source": [
        "Exercicio 3"
      ]
    },
    {
      "cell_type": "code",
      "metadata": {
        "colab": {
          "base_uri": "https://localhost:8080/"
        },
        "id": "fZFWqd--U2KJ",
        "outputId": "606d1b36-822d-4e25-bf09-a65a082b8bb5"
      },
      "source": [
        "numero1 = int(input(\"Informe o primeiro numero: \"))\n",
        "numero2 = int(input(\"Informe o segundo numero: \"))\n",
        "soma = numero1 + numero2\n",
        "print(f\"A soma dos números : {soma}\")"
      ],
      "execution_count": null,
      "outputs": [
        {
          "output_type": "stream",
          "text": [
            "Informe o primeiro numero: 1234567\n",
            "Informe o segundo numero: 8764589\n",
            "A soma dos números : 9999156\n"
          ],
          "name": "stdout"
        }
      ]
    },
    {
      "cell_type": "code",
      "metadata": {
        "id": "TCPXgOQVWbau"
      },
      "source": [
        ""
      ],
      "execution_count": null,
      "outputs": []
    },
    {
      "cell_type": "markdown",
      "metadata": {
        "id": "I3KZd5Leeo4t"
      },
      "source": [
        "# Lição de Casa: Exercício de número 17"
      ]
    },
    {
      "cell_type": "code",
      "metadata": {
        "colab": {
          "base_uri": "https://localhost:8080/"
        },
        "id": "dcYPIIDbfDHj",
        "outputId": "7533a135-d867-4fdb-8bd9-0c667f3258a0"
      },
      "source": [
        "import math\n",
        "area_a_ser_pintada = int(input(\"Digite a area, em metros quadrados a ser pintada : \"))\n",
        "area_com_folga = area_a_ser_pintada * 1.1\n",
        "print(area_com_folga, type(area_com_folga))\n",
        "litros_por_metros = 6\n",
        "litros_a_serem_usados = area_com_folga / litros_por_metros\n",
        "litros_por_lata = 18\n",
        "numero_de_latas = math.ceil(litros_a_serem_usados / litros_por_lata)\n",
        "valor_com_apenas_latas = numero_de_latas * 80\n",
        "print(f'Você deverá usar {numero_de_latas} latas de 18 litros, no valor de R$ {valor_com_apenas_latas}')\n",
        "\n",
        "litros_por_galao = 3.6\n",
        "numero_de_galoes = math.ceil(litros_a_serem_usados / litros_por_galao)\n",
        "valor_com_apenas_galoes = numero_de_galoes * 25\n",
        "print(f'Você deverá usar {numero_de_galoes} galões de 3.6 litros, no valor de R$ {valor_com_apenas_galoes}')"
      ],
      "execution_count": null,
      "outputs": [
        {
          "output_type": "stream",
          "text": [
            "Digite a area, em metros quadrados a ser pintada : 200\n",
            "220.00000000000003 <class 'float'>\n",
            "Você deverá usar 3 latas de 18 litros, no valor de R$ 240\n",
            "Você deverá usar 11 galões de 3.6 litros, no valor de R$ 275\n"
          ],
          "name": "stdout"
        }
      ]
    },
    {
      "cell_type": "markdown",
      "metadata": {
        "id": "7baO-7Ca4WbA"
      },
      "source": [
        "# Estrutura de Decisão \n",
        "\n",
        "Exercicio 3"
      ]
    },
    {
      "cell_type": "code",
      "metadata": {
        "colab": {
          "base_uri": "https://localhost:8080/"
        },
        "id": "mA7ND8Tw4fSW",
        "outputId": "b4f215e8-15f2-4872-dc15-04c6295e6c5a"
      },
      "source": [
        "sexo = input(\"Digite o seu sexo. (M para Masculino, F para Feminino, I para Indefinido\").upper()\n",
        "if sexo == 'M':\n",
        "  print('Masculino')\n",
        "elif sexo == 'F':\n",
        "  print('Feminino')\n",
        "elif sexo == 'I':\n",
        "  print('Indefinido')\n",
        "else:\n",
        "  print('Sexo Inválido')\n",
        "\n",
        "print(\"Finalizou o programa\")"
      ],
      "execution_count": null,
      "outputs": [
        {
          "output_type": "stream",
          "text": [
            "Digite o seu sexo. (M para Masculino, F para Feminino, I para IndefinidoF\n",
            "Feminino\n",
            "Finalizou o programa\n"
          ],
          "name": "stdout"
        }
      ]
    },
    {
      "cell_type": "markdown",
      "metadata": {
        "id": "XCb_7Q2t_j9x"
      },
      "source": [
        "# Exercicío 4"
      ]
    },
    {
      "cell_type": "code",
      "metadata": {
        "colab": {
          "base_uri": "https://localhost:8080/"
        },
        "id": "rrocoUqm_rwx",
        "outputId": "9f593df8-c910-47ce-a7e2-7f068925652f"
      },
      "source": [
        "nota1 = float(input(\"Informe a primeira nota: \"))\n",
        "nota2 = float(input(\"Informe a segunda nota: \"))\n",
        "\n",
        "media = (nota1 + nota2)/2\n",
        "\n",
        "print(f'Sua média foi: {media}')\n",
        "\n",
        "if media == 10:\n",
        "  print(\"Aprovado com distinção\")\n",
        "elif media >= 7:\n",
        "  print(\"Aprovado\")\n",
        "else:\n",
        "  print(\"Reprovado\")\n",
        "\n",
        "\n",
        "\n",
        "\n"
      ],
      "execution_count": null,
      "outputs": [
        {
          "output_type": "stream",
          "text": [
            "Informe a primeira nota: 8\n",
            "Informe a segunda nota: 9\n",
            "Sua média foi: 8.5\n",
            "Aprovado\n"
          ],
          "name": "stdout"
        }
      ]
    },
    {
      "cell_type": "markdown",
      "metadata": {
        "id": "jeMorAfg_jbY"
      },
      "source": [
        ""
      ]
    },
    {
      "cell_type": "markdown",
      "metadata": {
        "id": "b4QFyQ84OJcq"
      },
      "source": [
        "# Strings podem ser utilizadas"
      ]
    },
    {
      "cell_type": "code",
      "metadata": {
        "colab": {
          "base_uri": "https://localhost:8080/",
          "height": 35
        },
        "id": "r7CdJmvfOP6Y",
        "outputId": "da12dbfd-fbad-4480-b7d9-fe75c0f7c95d"
      },
      "source": [
        "'Criando uma String em Python'"
      ],
      "execution_count": 1,
      "outputs": [
        {
          "output_type": "execute_result",
          "data": {
            "application/vnd.google.colaboratory.intrinsic+json": {
              "type": "string"
            },
            "text/plain": [
              "'Criando uma String em Python'"
            ]
          },
          "metadata": {
            "tags": []
          },
          "execution_count": 1
        }
      ]
    },
    {
      "cell_type": "code",
      "metadata": {
        "colab": {
          "base_uri": "https://localhost:8080/",
          "height": 35
        },
        "id": "qMS1UDSvOgD7",
        "outputId": "b2aa648d-08e6-4cfa-bd6b-b21a884082e6"
      },
      "source": [
        "\"Podemos utilizar aspas duplas ou simples em Python\""
      ],
      "execution_count": 2,
      "outputs": [
        {
          "output_type": "execute_result",
          "data": {
            "application/vnd.google.colaboratory.intrinsic+json": {
              "type": "string"
            },
            "text/plain": [
              "'Podemos utilizar aspas duplas ou simples em Python'"
            ]
          },
          "metadata": {
            "tags": []
          },
          "execution_count": 2
        }
      ]
    },
    {
      "cell_type": "code",
      "metadata": {
        "colab": {
          "base_uri": "https://localhost:8080/"
        },
        "id": "HHmr8utuOsRo",
        "outputId": "3538429f-6e6d-41a8-e6b1-afb761baa6b3"
      },
      "source": [
        "print(\"Testando\\n Strings\\n em\\n Python\\n\")"
      ],
      "execution_count": 3,
      "outputs": [
        {
          "output_type": "stream",
          "text": [
            "Testando\n",
            " Strings\n",
            " em\n",
            " Python\n",
            "\n"
          ],
          "name": "stdout"
        }
      ]
    },
    {
      "cell_type": "code",
      "metadata": {
        "colab": {
          "base_uri": "https://localhost:8080/"
        },
        "id": "KCMnB-IxO5m3",
        "outputId": "66b8a29b-8836-4c33-fc58-8b9af1f864c2"
      },
      "source": [
        "s = 'Provas de TI'\n",
        "\n",
        "print(s[0])\n"
      ],
      "execution_count": 4,
      "outputs": [
        {
          "output_type": "stream",
          "text": [
            "P\n"
          ],
          "name": "stdout"
        }
      ]
    },
    {
      "cell_type": "code",
      "metadata": {
        "colab": {
          "base_uri": "https://localhost:8080/"
        },
        "id": "9Z9cyWNXQNkc",
        "outputId": "025866da-73c1-4709-cd2f-109358d2e0bd"
      },
      "source": [
        "print(s[2])"
      ],
      "execution_count": 5,
      "outputs": [
        {
          "output_type": "stream",
          "text": [
            "o\n"
          ],
          "name": "stdout"
        }
      ]
    },
    {
      "cell_type": "code",
      "metadata": {
        "colab": {
          "base_uri": "https://localhost:8080/"
        },
        "id": "9gF_lx68QR7d",
        "outputId": "be598320-cf99-4b4f-f630-c3730179d1e3"
      },
      "source": [
        "print(s[1])"
      ],
      "execution_count": 6,
      "outputs": [
        {
          "output_type": "stream",
          "text": [
            "r\n"
          ],
          "name": "stdout"
        }
      ]
    },
    {
      "cell_type": "code",
      "metadata": {
        "colab": {
          "base_uri": "https://localhost:8080/",
          "height": 35
        },
        "id": "fV6frKkZQXiD",
        "outputId": "428ec776-3b1f-4710-d05c-952968a09111"
      },
      "source": [
        "s[0:]"
      ],
      "execution_count": 7,
      "outputs": [
        {
          "output_type": "execute_result",
          "data": {
            "application/vnd.google.colaboratory.intrinsic+json": {
              "type": "string"
            },
            "text/plain": [
              "'Provas de TI'"
            ]
          },
          "metadata": {
            "tags": []
          },
          "execution_count": 7
        }
      ]
    },
    {
      "cell_type": "code",
      "metadata": {
        "colab": {
          "base_uri": "https://localhost:8080/",
          "height": 35
        },
        "id": "OqZdSaYDRQIY",
        "outputId": "cde347ea-eb79-4dce-9aed-0de13a3a0f46"
      },
      "source": [
        "s[:3] #Retorna tudo até a posição 3"
      ],
      "execution_count": 8,
      "outputs": [
        {
          "output_type": "execute_result",
          "data": {
            "application/vnd.google.colaboratory.intrinsic+json": {
              "type": "string"
            },
            "text/plain": [
              "'Pro'"
            ]
          },
          "metadata": {
            "tags": []
          },
          "execution_count": 8
        }
      ]
    },
    {
      "cell_type": "code",
      "metadata": {
        "colab": {
          "base_uri": "https://localhost:8080/",
          "height": 35
        },
        "id": "1dM6jvUHRWDz",
        "outputId": "d2b099a4-1337-4b49-f0be-1989ada16ba3"
      },
      "source": [
        "s[:]"
      ],
      "execution_count": 9,
      "outputs": [
        {
          "output_type": "execute_result",
          "data": {
            "application/vnd.google.colaboratory.intrinsic+json": {
              "type": "string"
            },
            "text/plain": [
              "'Provas de TI'"
            ]
          },
          "metadata": {
            "tags": []
          },
          "execution_count": 9
        }
      ]
    },
    {
      "cell_type": "code",
      "metadata": {
        "colab": {
          "base_uri": "https://localhost:8080/",
          "height": 35
        },
        "id": "3KYJeVi8RjRN",
        "outputId": "d8abedd9-86ae-4bc4-eb72-b28f42bb9994"
      },
      "source": [
        "s[:-1] # Retorna tudo, exceto a última letra."
      ],
      "execution_count": 10,
      "outputs": [
        {
          "output_type": "execute_result",
          "data": {
            "application/vnd.google.colaboratory.intrinsic+json": {
              "type": "string"
            },
            "text/plain": [
              "'Provas de T'"
            ]
          },
          "metadata": {
            "tags": []
          },
          "execution_count": 10
        }
      ]
    },
    {
      "cell_type": "code",
      "metadata": {
        "colab": {
          "base_uri": "https://localhost:8080/",
          "height": 35
        },
        "id": "EoolhMARR9Mv",
        "outputId": "35ffa299-b448-4ce6-cec8-fb893372e88b"
      },
      "source": [
        "s[::1] #Fatiamento"
      ],
      "execution_count": 11,
      "outputs": [
        {
          "output_type": "execute_result",
          "data": {
            "application/vnd.google.colaboratory.intrinsic+json": {
              "type": "string"
            },
            "text/plain": [
              "'Provas de TI'"
            ]
          },
          "metadata": {
            "tags": []
          },
          "execution_count": 11
        }
      ]
    },
    {
      "cell_type": "code",
      "metadata": {
        "colab": {
          "base_uri": "https://localhost:8080/",
          "height": 35
        },
        "id": "8a_jOT7ISbDG",
        "outputId": "8e54f111-b8ca-4436-d3a9-f19ecbcd1f1b"
      },
      "source": [
        "s[::2] #Fatiamento de 2 em 2"
      ],
      "execution_count": 12,
      "outputs": [
        {
          "output_type": "execute_result",
          "data": {
            "application/vnd.google.colaboratory.intrinsic+json": {
              "type": "string"
            },
            "text/plain": [
              "'Poa eT'"
            ]
          },
          "metadata": {
            "tags": []
          },
          "execution_count": 12
        }
      ]
    },
    {
      "cell_type": "code",
      "metadata": {
        "colab": {
          "base_uri": "https://localhost:8080/",
          "height": 35
        },
        "id": "sbxt0ATTSmNi",
        "outputId": "e962afca-ef79-4541-d834-bfad6b94e1f7"
      },
      "source": [
        "s[::-1]"
      ],
      "execution_count": 13,
      "outputs": [
        {
          "output_type": "execute_result",
          "data": {
            "application/vnd.google.colaboratory.intrinsic+json": {
              "type": "string"
            },
            "text/plain": [
              "'IT ed savorP'"
            ]
          },
          "metadata": {
            "tags": []
          },
          "execution_count": 13
        }
      ]
    },
    {
      "cell_type": "code",
      "metadata": {
        "colab": {
          "base_uri": "https://localhost:8080/",
          "height": 35
        },
        "id": "1sEeGrxrSzFP",
        "outputId": "32373e7a-05ba-452c-b30b-571bdb066eaa"
      },
      "source": [
        "s + \"É a melhor plataforma de Ensino a Distância\""
      ],
      "execution_count": 14,
      "outputs": [
        {
          "output_type": "execute_result",
          "data": {
            "application/vnd.google.colaboratory.intrinsic+json": {
              "type": "string"
            },
            "text/plain": [
              "'Provas de TIÉ a melhor plataforma de Ensino a Distância'"
            ]
          },
          "metadata": {
            "tags": []
          },
          "execution_count": 14
        }
      ]
    },
    {
      "cell_type": "code",
      "metadata": {
        "colab": {
          "base_uri": "https://localhost:8080/"
        },
        "id": "tU8JYCrdUDju",
        "outputId": "277297ea-8f75-4328-a500-13f47e32c363"
      },
      "source": [
        "saudacao = 'Boa noite'\n",
        "print(saudacao * 3)"
      ],
      "execution_count": 19,
      "outputs": [
        {
          "output_type": "stream",
          "text": [
            "Boa noiteBoa noiteBoa noite\n"
          ],
          "name": "stdout"
        }
      ]
    },
    {
      "cell_type": "code",
      "metadata": {
        "id": "lA7bD39FUpOp"
      },
      "source": [
        ""
      ],
      "execution_count": null,
      "outputs": []
    }
  ]
}