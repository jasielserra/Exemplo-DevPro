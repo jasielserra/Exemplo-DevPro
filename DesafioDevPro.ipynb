{
  "nbformat": 4,
  "nbformat_minor": 0,
  "metadata": {
    "colab": {
      "name": "DesafioDevPro.ipynb",
      "provenance": [],
      "authorship_tag": "ABX9TyPf8M+xpKvQzG/Kixjgib0/",
      "include_colab_link": true
    },
    "kernelspec": {
      "name": "python3",
      "display_name": "Python 3"
    },
    "language_info": {
      "name": "python"
    }
  },
  "cells": [
    {
      "cell_type": "markdown",
      "metadata": {
        "id": "view-in-github",
        "colab_type": "text"
      },
      "source": [
        "<a href=\"https://colab.research.google.com/github/jasielserra/Exemplo-DevPro/blob/main/DesafioDevPro.ipynb\" target=\"_parent\"><img src=\"https://colab.research.google.com/assets/colab-badge.svg\" alt=\"Open In Colab\"/></a>"
      ]
    },
    {
      "cell_type": "markdown",
      "metadata": {
        "id": "mydebb8NQxC_"
      },
      "source": [
        "Nesse notebook vamos resolver vários exercícios da [lista Python Brasil](https://wiki.python.org.br/ListaDeExercicios/).\n",
        "\n"
      ]
    },
    {
      "cell_type": "markdown",
      "metadata": {
        "id": "s8LvxjjTR7Ca"
      },
      "source": [
        "# [Estrutura Sequencial](https://wiki.python.org.br/EstruturaSequencial)\n"
      ]
    },
    {
      "cell_type": "markdown",
      "metadata": {
        "id": "QmwA3N2GSdhs"
      },
      "source": [
        "Exercicio 1"
      ]
    },
    {
      "cell_type": "code",
      "metadata": {
        "colab": {
          "base_uri": "https://localhost:8080/"
        },
        "id": "c0Ngdl-MSq4Z",
        "outputId": "d78bd445-40fb-4c8a-9b0b-a679e0a3da34"
      },
      "source": [
        "print(\"Hello World!\")"
      ],
      "execution_count": 1,
      "outputs": [
        {
          "output_type": "stream",
          "text": [
            "Hello World!\n"
          ],
          "name": "stdout"
        }
      ]
    },
    {
      "cell_type": "code",
      "metadata": {
        "colab": {
          "base_uri": "https://localhost:8080/"
        },
        "id": "BK2f2uUhS24s",
        "outputId": "30e7f29a-b3ba-4baf-84fe-fd5c561c88d1"
      },
      "source": [
        "type(\"Hello World!\")"
      ],
      "execution_count": 2,
      "outputs": [
        {
          "output_type": "execute_result",
          "data": {
            "text/plain": [
              "str"
            ]
          },
          "metadata": {
            "tags": []
          },
          "execution_count": 2
        }
      ]
    },
    {
      "cell_type": "markdown",
      "metadata": {
        "id": "Pj5d-jENTP2A"
      },
      "source": [
        "Exercicio 2 \n"
      ]
    },
    {
      "cell_type": "code",
      "metadata": {
        "colab": {
          "base_uri": "https://localhost:8080/"
        },
        "id": "ZbsXDbhgTUwg",
        "outputId": "70f69229-ed65-43cd-81f9-53c34a05582f"
      },
      "source": [
        "numero = input(\"Digite um número: \")\n",
        "print(f'O numero informado foi {numero}')"
      ],
      "execution_count": 5,
      "outputs": [
        {
          "output_type": "stream",
          "text": [
            "Digite um número: 8058965\n",
            "O numero informado foi 8058965\n"
          ],
          "name": "stdout"
        }
      ]
    },
    {
      "cell_type": "markdown",
      "metadata": {
        "id": "J4XShHb5Uu8p"
      },
      "source": [
        "Exercicio 3"
      ]
    },
    {
      "cell_type": "code",
      "metadata": {
        "colab": {
          "base_uri": "https://localhost:8080/"
        },
        "id": "fZFWqd--U2KJ",
        "outputId": "17de1556-4c1b-4dad-b0be-409997526730"
      },
      "source": [
        "numero1 = int(input(\"Informe o primeiro numero.\"))\n",
        "numero2 = int(input(\"Informe o segundo numero.\"))\n",
        "soma = numero1 + numero2\n",
        "print(f\"A soma dos números: {soma}\")"
      ],
      "execution_count": 6,
      "outputs": [
        {
          "output_type": "stream",
          "text": [
            "Informe o primeiro numero.9518592\n",
            "Informe o segundo numero.4587896\n",
            "A soma dos números: 14106488\n"
          ],
          "name": "stdout"
        }
      ]
    },
    {
      "cell_type": "code",
      "metadata": {
        "id": "TCPXgOQVWbau"
      },
      "source": [
        ""
      ],
      "execution_count": null,
      "outputs": []
    }
  ]
}