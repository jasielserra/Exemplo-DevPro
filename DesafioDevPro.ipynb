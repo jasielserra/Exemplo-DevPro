{
  "nbformat": 4,
  "nbformat_minor": 0,
  "metadata": {
    "colab": {
      "name": "DesafioDevPro.ipynb",
      "provenance": [],
      "authorship_tag": "ABX9TyMfzVe/S6FSvsiBbh992Jto",
      "include_colab_link": true
    },
    "kernelspec": {
      "name": "python3",
      "display_name": "Python 3"
    },
    "language_info": {
      "name": "python"
    }
  },
  "cells": [
    {
      "cell_type": "markdown",
      "metadata": {
        "id": "view-in-github",
        "colab_type": "text"
      },
      "source": [
        "<a href=\"https://colab.research.google.com/github/jasielserra/Exemplo-DevPro/blob/main/DesafioDevPro.ipynb\" target=\"_parent\"><img src=\"https://colab.research.google.com/assets/colab-badge.svg\" alt=\"Open In Colab\"/></a>"
      ]
    },
    {
      "cell_type": "markdown",
      "metadata": {
        "id": "mydebb8NQxC_"
      },
      "source": [
        "Nesse notebook vamos resolver vários exercícios da [lista Python Brasil](https://wiki.python.org.br/ListaDeExercicios/).\n",
        "\n"
      ]
    },
    {
      "cell_type": "markdown",
      "metadata": {
        "id": "k0C4waq-emzH"
      },
      "source": [
        ""
      ]
    },
    {
      "cell_type": "markdown",
      "metadata": {
        "id": "s8LvxjjTR7Ca"
      },
      "source": [
        "# [Estrutura Sequencial](https://wiki.python.org.br/EstruturaSequencial)\n"
      ]
    },
    {
      "cell_type": "markdown",
      "metadata": {
        "id": "QmwA3N2GSdhs"
      },
      "source": [
        "Exercicio 1"
      ]
    },
    {
      "cell_type": "code",
      "metadata": {
        "colab": {
          "base_uri": "https://localhost:8080/"
        },
        "id": "c0Ngdl-MSq4Z",
        "outputId": "d78bd445-40fb-4c8a-9b0b-a679e0a3da34"
      },
      "source": [
        "print(\"Hello World!\")"
      ],
      "execution_count": null,
      "outputs": [
        {
          "output_type": "stream",
          "text": [
            "Hello World!\n"
          ],
          "name": "stdout"
        }
      ]
    },
    {
      "cell_type": "code",
      "metadata": {
        "colab": {
          "base_uri": "https://localhost:8080/"
        },
        "id": "BK2f2uUhS24s",
        "outputId": "30e7f29a-b3ba-4baf-84fe-fd5c561c88d1"
      },
      "source": [
        "type(\"Hello World!\")"
      ],
      "execution_count": null,
      "outputs": [
        {
          "output_type": "execute_result",
          "data": {
            "text/plain": [
              "str"
            ]
          },
          "metadata": {
            "tags": []
          },
          "execution_count": 2
        }
      ]
    },
    {
      "cell_type": "markdown",
      "metadata": {
        "id": "Pj5d-jENTP2A"
      },
      "source": [
        "Exercicio 2 \n"
      ]
    },
    {
      "cell_type": "code",
      "metadata": {
        "colab": {
          "base_uri": "https://localhost:8080/"
        },
        "id": "ZbsXDbhgTUwg",
        "outputId": "70f69229-ed65-43cd-81f9-53c34a05582f"
      },
      "source": [
        "numero = input(\"Digite um número: \")\n",
        "print(f'O numero informado foi {numero}')"
      ],
      "execution_count": null,
      "outputs": [
        {
          "output_type": "stream",
          "text": [
            "Digite um número: 8058965\n",
            "O numero informado foi 8058965\n"
          ],
          "name": "stdout"
        }
      ]
    },
    {
      "cell_type": "markdown",
      "metadata": {
        "id": "J4XShHb5Uu8p"
      },
      "source": [
        "Exercicio 3"
      ]
    },
    {
      "cell_type": "code",
      "metadata": {
        "colab": {
          "base_uri": "https://localhost:8080/"
        },
        "id": "fZFWqd--U2KJ",
        "outputId": "606d1b36-822d-4e25-bf09-a65a082b8bb5"
      },
      "source": [
        "numero1 = int(input(\"Informe o primeiro numero: \"))\n",
        "numero2 = int(input(\"Informe o segundo numero: \"))\n",
        "soma = numero1 + numero2\n",
        "print(f\"A soma dos números : {soma}\")"
      ],
      "execution_count": null,
      "outputs": [
        {
          "output_type": "stream",
          "text": [
            "Informe o primeiro numero: 1234567\n",
            "Informe o segundo numero: 8764589\n",
            "A soma dos números : 9999156\n"
          ],
          "name": "stdout"
        }
      ]
    },
    {
      "cell_type": "code",
      "metadata": {
        "id": "TCPXgOQVWbau"
      },
      "source": [
        ""
      ],
      "execution_count": null,
      "outputs": []
    },
    {
      "cell_type": "markdown",
      "metadata": {
        "id": "I3KZd5Leeo4t"
      },
      "source": [
        "# Lição de Casa: Exercício de número 17"
      ]
    },
    {
      "cell_type": "code",
      "metadata": {
        "colab": {
          "base_uri": "https://localhost:8080/"
        },
        "id": "dcYPIIDbfDHj",
        "outputId": "7533a135-d867-4fdb-8bd9-0c667f3258a0"
      },
      "source": [
        "import math\n",
        "area_a_ser_pintada = int(input(\"Digite a area, em metros quadrados a ser pintada : \"))\n",
        "area_com_folga = area_a_ser_pintada * 1.1\n",
        "print(area_com_folga, type(area_com_folga))\n",
        "litros_por_metros = 6\n",
        "litros_a_serem_usados = area_com_folga / litros_por_metros\n",
        "litros_por_lata = 18\n",
        "numero_de_latas = math.ceil(litros_a_serem_usados / litros_por_lata)\n",
        "valor_com_apenas_latas = numero_de_latas * 80\n",
        "print(f'Você deverá usar {numero_de_latas} latas de 18 litros, no valor de R$ {valor_com_apenas_latas}')\n",
        "\n",
        "litros_por_galao = 3.6\n",
        "numero_de_galoes = math.ceil(litros_a_serem_usados / litros_por_galao)\n",
        "valor_com_apenas_galoes = numero_de_galoes * 25\n",
        "print(f'Você deverá usar {numero_de_galoes} galões de 3.6 litros, no valor de R$ {valor_com_apenas_galoes}')"
      ],
      "execution_count": null,
      "outputs": [
        {
          "output_type": "stream",
          "text": [
            "Digite a area, em metros quadrados a ser pintada : 200\n",
            "220.00000000000003 <class 'float'>\n",
            "Você deverá usar 3 latas de 18 litros, no valor de R$ 240\n",
            "Você deverá usar 11 galões de 3.6 litros, no valor de R$ 275\n"
          ],
          "name": "stdout"
        }
      ]
    },
    {
      "cell_type": "markdown",
      "metadata": {
        "id": "7baO-7Ca4WbA"
      },
      "source": [
        "# Estrutura de Decisão \n",
        "\n",
        "Exercicio 3"
      ]
    },
    {
      "cell_type": "code",
      "metadata": {
        "colab": {
          "base_uri": "https://localhost:8080/"
        },
        "id": "mA7ND8Tw4fSW",
        "outputId": "b4f215e8-15f2-4872-dc15-04c6295e6c5a"
      },
      "source": [
        "sexo = input(\"Digite o seu sexo. (M para Masculino, F para Feminino, I para Indefinido\").upper()\n",
        "if sexo == 'M':\n",
        "  print('Masculino')\n",
        "elif sexo == 'F':\n",
        "  print('Feminino')\n",
        "elif sexo == 'I':\n",
        "  print('Indefinido')\n",
        "else:\n",
        "  print('Sexo Inválido')\n",
        "\n",
        "print(\"Finalizou o programa\")"
      ],
      "execution_count": 1,
      "outputs": [
        {
          "output_type": "stream",
          "text": [
            "Digite o seu sexo. (M para Masculino, F para Feminino, I para IndefinidoF\n",
            "Feminino\n",
            "Finalizou o programa\n"
          ],
          "name": "stdout"
        }
      ]
    },
    {
      "cell_type": "code",
      "metadata": {
        "id": "YaQNo4Fn6L3D"
      },
      "source": [
        ""
      ],
      "execution_count": null,
      "outputs": []
    }
  ]
}