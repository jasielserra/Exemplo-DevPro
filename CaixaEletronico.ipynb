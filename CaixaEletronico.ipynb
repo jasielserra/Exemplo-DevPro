{
  "nbformat": 4,
  "nbformat_minor": 0,
  "metadata": {
    "colab": {
      "name": "CaixaEletronico.ipynb",
      "provenance": [],
      "authorship_tag": "ABX9TyOm0l5q1ufdV4aAXs7ihedk",
      "include_colab_link": true
    },
    "kernelspec": {
      "name": "python3",
      "display_name": "Python 3"
    },
    "language_info": {
      "name": "python"
    }
  },
  "cells": [
    {
      "cell_type": "markdown",
      "metadata": {
        "id": "view-in-github",
        "colab_type": "text"
      },
      "source": [
        "<a href=\"https://colab.research.google.com/github/jasielserra/Exemplo-DevPro/blob/main/CaixaEletronico.ipynb\" target=\"_parent\"><img src=\"https://colab.research.google.com/assets/colab-badge.svg\" alt=\"Open In Colab\"/></a>"
      ]
    },
    {
      "cell_type": "code",
      "metadata": {
        "colab": {
          "base_uri": "https://localhost:8080/"
        },
        "id": "ZYTN2OuqVN8C",
        "outputId": "0d7bfe7b-9264-4aae-9705-64cee1743281"
      },
      "source": [
        "saque = 300\n",
        "\n",
        "notas_100 = notas_de_50 = notas_10 = notas_5 = notas_1 = 0\n",
        "\n",
        "notas_de_100, saque = divmod(saque, 100)\n",
        "\n",
        "notas_de_50, saque = divmod(saque, 50)\n",
        "\n",
        "notas_de_10, saque = divmod(saque, 10)\n",
        "\n",
        "notas_de_5, notas_de_1 = divmod(saque, 5)\n",
        "\n",
        "if notas_de_100 > 0:\n",
        "  print(f'{notas_de_100} nota(s) de 100')\n",
        "\n",
        "if notas_de_50 > 0:\n",
        "  print(f'{notas_de_50} notas(s) de 50')\n",
        "\n",
        "if notas_de_10 > 0:\n",
        "  print(f'{notas_de_10} notas(s) de 10')\n",
        "\n",
        "if notas_de_5 > 0:\n",
        "  print(f'{notas_de_5} notas(s) de 5')\n",
        "\n",
        "if notas_de_1 > 0:\n",
        "  print(f'{notas_de_1} nota(s) de 1')\n",
        "      "
      ],
      "execution_count": 8,
      "outputs": [
        {
          "output_type": "stream",
          "text": [
            "3 nota(s) de 100\n"
          ],
          "name": "stdout"
        }
      ]
    },
    {
      "cell_type": "code",
      "metadata": {
        "colab": {
          "base_uri": "https://localhost:8080/"
        },
        "id": "doxzbfTrVR0h",
        "outputId": "1f33f722-cad3-4670-a718-5ac965810599"
      },
      "source": [
        "divmod(300, 100)"
      ],
      "execution_count": 5,
      "outputs": [
        {
          "output_type": "execute_result",
          "data": {
            "text/plain": [
              "(3, 0)"
            ]
          },
          "metadata": {
            "tags": []
          },
          "execution_count": 5
        }
      ]
    },
    {
      "cell_type": "code",
      "metadata": {
        "id": "9_FPDO0OZ__3"
      },
      "source": [
        ""
      ],
      "execution_count": null,
      "outputs": []
    }
  ]
}