{
  "nbformat": 4,
  "nbformat_minor": 0,
  "metadata": {
    "colab": {
      "name": "crescimentode2populacoes.ipynb",
      "provenance": [],
      "authorship_tag": "ABX9TyPIwQ6bRtdEzFFZ5BmgXTxc",
      "include_colab_link": true
    },
    "kernelspec": {
      "name": "python3",
      "display_name": "Python 3"
    },
    "language_info": {
      "name": "python"
    }
  },
  "cells": [
    {
      "cell_type": "markdown",
      "metadata": {
        "id": "view-in-github",
        "colab_type": "text"
      },
      "source": [
        "<a href=\"https://colab.research.google.com/github/jasielserra/Exemplo-DevPro/blob/main/crescimentode2populacoes.ipynb\" target=\"_parent\"><img src=\"https://colab.research.google.com/assets/colab-badge.svg\" alt=\"Open In Colab\"/></a>"
      ]
    },
    {
      "cell_type": "code",
      "metadata": {
        "colab": {
          "base_uri": "https://localhost:8080/"
        },
        "id": "Zm8UnaExLwL4",
        "outputId": "cbd87824-6fa7-49d5-9ca4-31d3561f0bed"
      },
      "source": [
        "populacao_a = 80_000\n",
        "populacao_b = 200_000\n",
        "\n",
        "taxa_de_crescimento_de_a = 1.03\n",
        "taxa_de_crescimento_de_b = 1.015\n",
        "anos = 0\n",
        "\n",
        "while populacao_a < populacao_b:\n",
        "  #print(f' #### Populações no ano: {anos}')\n",
        "  #print(f'População de A: {populacao_a}')\n",
        "  #print(f'População de C: {populacao_b}')\n",
        "  anos += 1\n",
        "  populacao_a = int(populacao_a * taxa_de_crescimento_de_a)\n",
        "  populacao_b *= taxa_de_crescimento_de_b\n",
        "  populacao_b = int(populacao_b)\n",
        "\n",
        "print(f'###### População no ano {anos}')\n",
        "print(f'População de A: {populacao_a}')\n",
        "print(f'População de B: {populacao_b}')"
      ],
      "execution_count": 4,
      "outputs": [
        {
          "output_type": "stream",
          "text": [
            "###### População no ano 63\n",
            "População de A: 514954\n",
            "População de B: 510908\n"
          ],
          "name": "stdout"
        }
      ]
    },
    {
      "cell_type": "code",
      "metadata": {
        "id": "-rPqVAHwO9rO"
      },
      "source": [
        ""
      ],
      "execution_count": null,
      "outputs": []
    }
  ]
}