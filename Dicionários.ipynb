{
  "nbformat": 4,
  "nbformat_minor": 0,
  "metadata": {
    "colab": {
      "name": "Dicionários.ipynb",
      "provenance": [],
      "authorship_tag": "ABX9TyMQwGL5LoUtMD5+ejR12oOJ",
      "include_colab_link": true
    },
    "kernelspec": {
      "name": "python3",
      "display_name": "Python 3"
    },
    "language_info": {
      "name": "python"
    }
  },
  "cells": [
    {
      "cell_type": "markdown",
      "metadata": {
        "id": "view-in-github",
        "colab_type": "text"
      },
      "source": [
        "<a href=\"https://colab.research.google.com/github/jasielserra/Exemplo-DevPro/blob/main/Dicion%C3%A1rios.ipynb\" target=\"_parent\"><img src=\"https://colab.research.google.com/assets/colab-badge.svg\" alt=\"Open In Colab\"/></a>"
      ]
    },
    {
      "cell_type": "markdown",
      "metadata": {
        "id": "RviDK9SHjZYF"
      },
      "source": [
        "# Formado por pares de chave e valor e utiliza chaves\n"
      ]
    },
    {
      "cell_type": "code",
      "metadata": {
        "id": "hljBJ5FjjmgL"
      },
      "source": [
        "# Isso é um dicionário\n",
        "estudantes_dict = {\"Mateus\":24, \"Fernanda\":22, \"Tamires\":26, \"Cristiano\": 25}"
      ],
      "execution_count": 1,
      "outputs": []
    },
    {
      "cell_type": "code",
      "metadata": {
        "colab": {
          "base_uri": "https://localhost:8080/"
        },
        "id": "SbaTNiEAj8-a",
        "outputId": "e281e5e3-fbab-4a23-8635-d3a3dab5ee4a"
      },
      "source": [
        "estudantes_dict"
      ],
      "execution_count": 3,
      "outputs": [
        {
          "output_type": "execute_result",
          "data": {
            "text/plain": [
              "{'Cristiano': 25, 'Fernanda': 22, 'Mateus': 24, 'Tamires': 26}"
            ]
          },
          "metadata": {
            "tags": []
          },
          "execution_count": 3
        }
      ]
    },
    {
      "cell_type": "code",
      "metadata": {
        "id": "7EiXlkm6kGl8"
      },
      "source": [
        "estudantes_dict[\"Pedro\"] = 23"
      ],
      "execution_count": 4,
      "outputs": []
    },
    {
      "cell_type": "code",
      "metadata": {
        "colab": {
          "base_uri": "https://localhost:8080/"
        },
        "id": "2FKt--7pkSA8",
        "outputId": "60d8e4ae-0296-44f5-c62e-8e88537a9df7"
      },
      "source": [
        "estudantes_dict[\"Pedro\"]"
      ],
      "execution_count": 5,
      "outputs": [
        {
          "output_type": "execute_result",
          "data": {
            "text/plain": [
              "23"
            ]
          },
          "metadata": {
            "tags": []
          },
          "execution_count": 5
        }
      ]
    },
    {
      "cell_type": "code",
      "metadata": {
        "colab": {
          "base_uri": "https://localhost:8080/"
        },
        "id": "p88cGGl_kg8W",
        "outputId": "0587cb6d-5e1d-4453-bd2b-5b2dc1cbea47"
      },
      "source": [
        "estudantes_dict"
      ],
      "execution_count": 6,
      "outputs": [
        {
          "output_type": "execute_result",
          "data": {
            "text/plain": [
              "{'Cristiano': 25, 'Fernanda': 22, 'Mateus': 24, 'Pedro': 23, 'Tamires': 26}"
            ]
          },
          "metadata": {
            "tags": []
          },
          "execution_count": 6
        }
      ]
    },
    {
      "cell_type": "code",
      "metadata": {
        "id": "XI057VXvkoDv"
      },
      "source": [
        "estudantes_dict[\"Well\"]= 55"
      ],
      "execution_count": 8,
      "outputs": []
    },
    {
      "cell_type": "code",
      "metadata": {
        "colab": {
          "base_uri": "https://localhost:8080/"
        },
        "id": "wNtyG4tmkyqp",
        "outputId": "90ad7503-871a-4f29-80ae-e26a50961f9f"
      },
      "source": [
        "estudantes_dict[\"Well\"]"
      ],
      "execution_count": 9,
      "outputs": [
        {
          "output_type": "execute_result",
          "data": {
            "text/plain": [
              "55"
            ]
          },
          "metadata": {
            "tags": []
          },
          "execution_count": 9
        }
      ]
    },
    {
      "cell_type": "code",
      "metadata": {
        "colab": {
          "base_uri": "https://localhost:8080/"
        },
        "id": "ihbv9gZmk_fi",
        "outputId": "8890961f-778c-419d-c898-e7684c06197d"
      },
      "source": [
        "estudantes_dict"
      ],
      "execution_count": 10,
      "outputs": [
        {
          "output_type": "execute_result",
          "data": {
            "text/plain": [
              "{'Cristiano': 25,\n",
              " 'Fernanda': 22,\n",
              " 'Mateus': 24,\n",
              " 'Pedro': 23,\n",
              " 'Tamires': 26,\n",
              " 'Well': 55}"
            ]
          },
          "metadata": {
            "tags": []
          },
          "execution_count": 10
        }
      ]
    },
    {
      "cell_type": "code",
      "metadata": {
        "id": "lILm8552lF-D"
      },
      "source": [
        "estudantes_dict[\"Pedro Ze\"]= 70"
      ],
      "execution_count": 11,
      "outputs": []
    },
    {
      "cell_type": "code",
      "metadata": {
        "colab": {
          "base_uri": "https://localhost:8080/"
        },
        "id": "62KjijXolRt0",
        "outputId": "2c5b76e8-30a0-49cc-f2f3-e7d2bb2b4616"
      },
      "source": [
        "estudantes_dict"
      ],
      "execution_count": 12,
      "outputs": [
        {
          "output_type": "execute_result",
          "data": {
            "text/plain": [
              "{'Cristiano': 25,\n",
              " 'Fernanda': 22,\n",
              " 'Mateus': 24,\n",
              " 'Pedro': 23,\n",
              " 'Pedro Ze': 70,\n",
              " 'Tamires': 26,\n",
              " 'Well': 55}"
            ]
          },
          "metadata": {
            "tags": []
          },
          "execution_count": 12
        }
      ]
    },
    {
      "cell_type": "code",
      "metadata": {
        "id": "1K-8UBjVlUj9"
      },
      "source": [
        ""
      ],
      "execution_count": null,
      "outputs": []
    }
  ]
}