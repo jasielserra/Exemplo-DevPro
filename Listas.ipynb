{
  "nbformat": 4,
  "nbformat_minor": 0,
  "metadata": {
    "colab": {
      "name": "Listas",
      "provenance": [],
      "authorship_tag": "ABX9TyPJPwgYjdiz7cmwG4t5+yQm",
      "include_colab_link": true
    },
    "kernelspec": {
      "name": "python3",
      "display_name": "Python 3"
    },
    "language_info": {
      "name": "python"
    }
  },
  "cells": [
    {
      "cell_type": "markdown",
      "metadata": {
        "id": "view-in-github",
        "colab_type": "text"
      },
      "source": [
        "<a href=\"https://colab.research.google.com/github/jasielserra/Exemplo-DevPro/blob/main/Listas.ipynb\" target=\"_parent\"><img src=\"https://colab.research.google.com/assets/colab-badge.svg\" alt=\"Open In Colab\"/></a>"
      ]
    },
    {
      "cell_type": "code",
      "metadata": {
        "colab": {
          "base_uri": "https://localhost:8080/"
        },
        "id": "YN9-6IN6y-d6",
        "outputId": "0b7c42cd-00aa-4b36-b871-ffd83bf2d997"
      },
      "source": [
        "#Criando uma lista\n",
        "listadomercado = [\"ovos, farinha, leite, maças\"]\n",
        "print(listadomercado[0])\n"
      ],
      "execution_count": 2,
      "outputs": [
        {
          "output_type": "stream",
          "text": [
            "ovos, farinha, leite, maças\n"
          ],
          "name": "stdout"
        }
      ]
    },
    {
      "cell_type": "code",
      "metadata": {
        "id": "g_T_tYgAzx55"
      },
      "source": [
        ""
      ],
      "execution_count": null,
      "outputs": []
    }
  ]
}