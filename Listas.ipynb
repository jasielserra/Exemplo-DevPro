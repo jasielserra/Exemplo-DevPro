{
  "nbformat": 4,
  "nbformat_minor": 0,
  "metadata": {
    "colab": {
      "name": "Listas",
      "provenance": [],
      "authorship_tag": "ABX9TyOMfOzoNRJvNdOSNUjLyYQo",
      "include_colab_link": true
    },
    "kernelspec": {
      "name": "python3",
      "display_name": "Python 3"
    },
    "language_info": {
      "name": "python"
    }
  },
  "cells": [
    {
      "cell_type": "markdown",
      "metadata": {
        "id": "view-in-github",
        "colab_type": "text"
      },
      "source": [
        "<a href=\"https://colab.research.google.com/github/jasielserra/Exemplo-DevPro/blob/main/Listas.ipynb\" target=\"_parent\"><img src=\"https://colab.research.google.com/assets/colab-badge.svg\" alt=\"Open In Colab\"/></a>"
      ]
    },
    {
      "cell_type": "code",
      "metadata": {
        "colab": {
          "base_uri": "https://localhost:8080/"
        },
        "id": "YN9-6IN6y-d6",
        "outputId": "0b7c42cd-00aa-4b36-b871-ffd83bf2d997"
      },
      "source": [
        "#Criando uma lista\n",
        "listadomercado = [\"ovos, farinha, leite, maças\"]\n",
        "print(listadomercado[0])\n"
      ],
      "execution_count": 2,
      "outputs": [
        {
          "output_type": "stream",
          "text": [
            "ovos, farinha, leite, maças\n"
          ],
          "name": "stdout"
        }
      ]
    },
    {
      "cell_type": "code",
      "metadata": {
        "colab": {
          "base_uri": "https://localhost:8080/"
        },
        "id": "NmSRx5nN0PrY",
        "outputId": "f7d2f268-ec06-4b9f-da2d-85f8f5f76ea2"
      },
      "source": [
        "#Imprimindo a lista\n",
        "print(listadomercado)"
      ],
      "execution_count": 3,
      "outputs": [
        {
          "output_type": "stream",
          "text": [
            "['ovos, farinha, leite, maças']\n"
          ],
          "name": "stdout"
        }
      ]
    },
    {
      "cell_type": "code",
      "metadata": {
        "colab": {
          "base_uri": "https://localhost:8080/"
        },
        "id": "ZhtYc52S0O6X",
        "outputId": "05bd2e06-f4de-4351-e7b8-f509854546a1"
      },
      "source": [
        "# Criando lista\n",
        "lista3 = [12,100, \"Universidades\"]\n",
        "\n",
        "#Imprimindo\n",
        "print(lista3)"
      ],
      "execution_count": 4,
      "outputs": [
        {
          "output_type": "stream",
          "text": [
            "[12, 100, 'Universidades']\n"
          ],
          "name": "stdout"
        }
      ]
    },
    {
      "cell_type": "code",
      "metadata": {
        "id": "RG4Wp-QZ00OC"
      },
      "source": [
        "# Atribuindo cada valor da lista a uma variável\n",
        "item1 = lista3[0]\n",
        "item2 = lista3[1]\n",
        "item3 = lista3[2]"
      ],
      "execution_count": 11,
      "outputs": []
    },
    {
      "cell_type": "code",
      "metadata": {
        "colab": {
          "base_uri": "https://localhost:8080/"
        },
        "id": "37y55zRr1gSC",
        "outputId": "cc919fb4-60ea-498f-a56f-186903b63e31"
      },
      "source": [
        "#Imprimindo as variáveis\n",
        "print(item1,item2,item3)"
      ],
      "execution_count": 14,
      "outputs": [
        {
          "output_type": "stream",
          "text": [
            "12 100 Universidades\n"
          ],
          "name": "stdout"
        }
      ]
    },
    {
      "cell_type": "code",
      "metadata": {
        "colab": {
          "base_uri": "https://localhost:8080/",
          "height": 35
        },
        "id": "sk6SSH5c1rMB",
        "outputId": "d0bb9b20-40a7-4a08-bbd3-086742ddc805"
      },
      "source": [
        "#Imprindo um item da lista\n",
        "lista3[2]"
      ],
      "execution_count": 15,
      "outputs": [
        {
          "output_type": "execute_result",
          "data": {
            "application/vnd.google.colaboratory.intrinsic+json": {
              "type": "string"
            },
            "text/plain": [
              "'Universidades'"
            ]
          },
          "metadata": {
            "tags": []
          },
          "execution_count": 15
        }
      ]
    },
    {
      "cell_type": "code",
      "metadata": {
        "id": "p1ev0ObS4bSa"
      },
      "source": [
        "#Atualizando um item da lista\n",
        "lista3[2] = \"Chocolate\""
      ],
      "execution_count": 16,
      "outputs": []
    },
    {
      "cell_type": "code",
      "metadata": {
        "colab": {
          "base_uri": "https://localhost:8080/"
        },
        "id": "QDQ2yFTM4s17",
        "outputId": "d93e63b1-4a8d-44bf-995e-17c7e699c27e"
      },
      "source": [
        "#Imprimindo lista alterada\n",
        "lista3"
      ],
      "execution_count": 18,
      "outputs": [
        {
          "output_type": "execute_result",
          "data": {
            "text/plain": [
              "[12, 100, 'Chocolate']"
            ]
          },
          "metadata": {
            "tags": []
          },
          "execution_count": 18
        }
      ]
    },
    {
      "cell_type": "code",
      "metadata": {
        "id": "d2tuyjBI4yd3"
      },
      "source": [
        "#Deletando um item específico da lista\n",
        "del lista3[2]"
      ],
      "execution_count": 19,
      "outputs": []
    },
    {
      "cell_type": "code",
      "metadata": {
        "colab": {
          "base_uri": "https://localhost:8080/"
        },
        "id": "p8hkNUVn5LS-",
        "outputId": "3c8a6c54-1f8f-4141-b212-4ffaefb8b1ad"
      },
      "source": [
        "#Imprimindo o item com a lista alterada\n",
        "lista3"
      ],
      "execution_count": 20,
      "outputs": [
        {
          "output_type": "execute_result",
          "data": {
            "text/plain": [
              "[12, 100]"
            ]
          },
          "metadata": {
            "tags": []
          },
          "execution_count": 20
        }
      ]
    },
    {
      "cell_type": "code",
      "metadata": {
        "id": "jFvlUXjJ5-qk"
      },
      "source": [
        "lista_s1 = [34,32,56]"
      ],
      "execution_count": 21,
      "outputs": []
    },
    {
      "cell_type": "code",
      "metadata": {
        "colab": {
          "base_uri": "https://localhost:8080/"
        },
        "id": "RETIZgiM6sfH",
        "outputId": "292bd623-a52b-4dd9-b22d-be8b02c4ac02"
      },
      "source": [
        "lista_s1"
      ],
      "execution_count": 22,
      "outputs": [
        {
          "output_type": "execute_result",
          "data": {
            "text/plain": [
              "[34, 32, 56]"
            ]
          },
          "metadata": {
            "tags": []
          },
          "execution_count": 22
        }
      ]
    },
    {
      "cell_type": "code",
      "metadata": {
        "id": "tzfQMtCF6x1b"
      },
      "source": [
        "lista_s2 = [21,90,51]"
      ],
      "execution_count": 23,
      "outputs": []
    },
    {
      "cell_type": "code",
      "metadata": {
        "colab": {
          "base_uri": "https://localhost:8080/"
        },
        "id": "xsMYuHhX68NJ",
        "outputId": "841c0341-9ded-4b05-a6e8-23bdee0816a4"
      },
      "source": [
        "lista_s2"
      ],
      "execution_count": 24,
      "outputs": [
        {
          "output_type": "execute_result",
          "data": {
            "text/plain": [
              "[21, 90, 51]"
            ]
          },
          "metadata": {
            "tags": []
          },
          "execution_count": 24
        }
      ]
    },
    {
      "cell_type": "code",
      "metadata": {
        "id": "TfiAfQJp6_K7"
      },
      "source": [
        "# Concatenando Listas\n",
        "lista_total = lista_s1 + lista_s2"
      ],
      "execution_count": 26,
      "outputs": []
    },
    {
      "cell_type": "code",
      "metadata": {
        "colab": {
          "base_uri": "https://localhost:8080/"
        },
        "id": "3lu3sVhU7PQp",
        "outputId": "e860a3aa-007f-4557-cbcf-79161264c262"
      },
      "source": [
        "lista_total"
      ],
      "execution_count": 27,
      "outputs": [
        {
          "output_type": "execute_result",
          "data": {
            "text/plain": [
              "[34, 32, 56, 21, 90, 51]"
            ]
          },
          "metadata": {
            "tags": []
          },
          "execution_count": 27
        }
      ]
    },
    {
      "cell_type": "code",
      "metadata": {
        "id": "i0OacQaU7RuW"
      },
      "source": [
        ""
      ],
      "execution_count": null,
      "outputs": []
    }
  ]
}