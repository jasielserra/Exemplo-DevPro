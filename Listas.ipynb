{
  "nbformat": 4,
  "nbformat_minor": 0,
  "metadata": {
    "colab": {
      "name": "Listas",
      "provenance": [],
      "authorship_tag": "ABX9TyPOlfeuWjULUpmX9AMhBlxS",
      "include_colab_link": true
    },
    "kernelspec": {
      "name": "python3",
      "display_name": "Python 3"
    },
    "language_info": {
      "name": "python"
    }
  },
  "cells": [
    {
      "cell_type": "markdown",
      "metadata": {
        "id": "view-in-github",
        "colab_type": "text"
      },
      "source": [
        "<a href=\"https://colab.research.google.com/github/jasielserra/Exemplo-DevPro/blob/main/Listas.ipynb\" target=\"_parent\"><img src=\"https://colab.research.google.com/assets/colab-badge.svg\" alt=\"Open In Colab\"/></a>"
      ]
    },
    {
      "cell_type": "code",
      "metadata": {
        "colab": {
          "base_uri": "https://localhost:8080/"
        },
        "id": "YN9-6IN6y-d6",
        "outputId": "0b7c42cd-00aa-4b36-b871-ffd83bf2d997"
      },
      "source": [
        "#Criando uma lista\n",
        "listadomercado = [\"ovos, farinha, leite, maças\"]\n",
        "print(listadomercado[0])\n"
      ],
      "execution_count": 2,
      "outputs": [
        {
          "output_type": "stream",
          "text": [
            "ovos, farinha, leite, maças\n"
          ],
          "name": "stdout"
        }
      ]
    },
    {
      "cell_type": "code",
      "metadata": {
        "colab": {
          "base_uri": "https://localhost:8080/"
        },
        "id": "NmSRx5nN0PrY",
        "outputId": "f7d2f268-ec06-4b9f-da2d-85f8f5f76ea2"
      },
      "source": [
        "#Imprimindo a lista\n",
        "print(listadomercado)"
      ],
      "execution_count": 3,
      "outputs": [
        {
          "output_type": "stream",
          "text": [
            "['ovos, farinha, leite, maças']\n"
          ],
          "name": "stdout"
        }
      ]
    },
    {
      "cell_type": "code",
      "metadata": {
        "colab": {
          "base_uri": "https://localhost:8080/"
        },
        "id": "ZhtYc52S0O6X",
        "outputId": "05bd2e06-f4de-4351-e7b8-f509854546a1"
      },
      "source": [
        "# Criando lista\n",
        "lista3 = [12,100, \"Universidades\"]\n",
        "\n",
        "#Imprimindo\n",
        "print(lista3)"
      ],
      "execution_count": 4,
      "outputs": [
        {
          "output_type": "stream",
          "text": [
            "[12, 100, 'Universidades']\n"
          ],
          "name": "stdout"
        }
      ]
    },
    {
      "cell_type": "code",
      "metadata": {
        "id": "RG4Wp-QZ00OC"
      },
      "source": [
        "# Atribuindo cada valor da lista a uma variável\n",
        "item1 = lista3[0]\n",
        "item2 = lista3[1]\n",
        "item3 = lista3[2]"
      ],
      "execution_count": 11,
      "outputs": []
    },
    {
      "cell_type": "code",
      "metadata": {
        "colab": {
          "base_uri": "https://localhost:8080/"
        },
        "id": "37y55zRr1gSC",
        "outputId": "cc919fb4-60ea-498f-a56f-186903b63e31"
      },
      "source": [
        "#Imprimindo as variáveis\n",
        "print(item1,item2,item3)"
      ],
      "execution_count": 14,
      "outputs": [
        {
          "output_type": "stream",
          "text": [
            "12 100 Universidades\n"
          ],
          "name": "stdout"
        }
      ]
    },
    {
      "cell_type": "code",
      "metadata": {
        "id": "sk6SSH5c1rMB"
      },
      "source": [
        ""
      ],
      "execution_count": null,
      "outputs": []
    }
  ]
}