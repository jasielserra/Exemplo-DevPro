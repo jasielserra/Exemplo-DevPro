{
  "nbformat": 4,
  "nbformat_minor": 0,
  "metadata": {
    "colab": {
      "name": "media.ipynb",
      "provenance": [],
      "authorship_tag": "ABX9TyMl5ly12thXPvut0sEvQWNd",
      "include_colab_link": true
    },
    "kernelspec": {
      "name": "python3",
      "display_name": "Python 3"
    },
    "language_info": {
      "name": "python"
    }
  },
  "cells": [
    {
      "cell_type": "markdown",
      "metadata": {
        "id": "view-in-github",
        "colab_type": "text"
      },
      "source": [
        "<a href=\"https://colab.research.google.com/github/jasielserra/Exemplo-DevPro/blob/main/media.ipynb\" target=\"_parent\"><img src=\"https://colab.research.google.com/assets/colab-badge.svg\" alt=\"Open In Colab\"/></a>"
      ]
    },
    {
      "cell_type": "code",
      "metadata": {
        "colab": {
          "base_uri": "https://localhost:8080/"
        },
        "id": "qYnMr6qoC_s3",
        "outputId": "65914e63-9ffd-4669-9b43-62df967e777c"
      },
      "source": [
        "soma = float(input(\"Digite um número: \"))\n",
        "\n",
        "for n in range(2,6):\n",
        "  soma += float(input(\"Digite um número: \"))\n",
        "  media = soma / n\n",
        "  print(f'A soma dos números é {soma}, e a média é {media}')"
      ],
      "execution_count": null,
      "outputs": [
        {
          "output_type": "stream",
          "text": [
            "Digite um número: 3\n",
            "Digite um número: 5\n",
            "A soma dos números é 8.0, e a média é 4.0\n"
          ],
          "name": "stdout"
        }
      ]
    },
    {
      "cell_type": "code",
      "metadata": {
        "id": "FSx8L6fcD3YY"
      },
      "source": [
        ""
      ],
      "execution_count": null,
      "outputs": []
    }
  ]
}