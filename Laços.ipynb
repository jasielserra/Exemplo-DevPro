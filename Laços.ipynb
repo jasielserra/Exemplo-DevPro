{
  "nbformat": 4,
  "nbformat_minor": 0,
  "metadata": {
    "colab": {
      "name": "Laços.ipynb",
      "provenance": [],
      "authorship_tag": "ABX9TyN3E5GkoVX0NAvBk8j0iIQW",
      "include_colab_link": true
    },
    "kernelspec": {
      "name": "python3",
      "display_name": "Python 3"
    },
    "language_info": {
      "name": "python"
    }
  },
  "cells": [
    {
      "cell_type": "markdown",
      "metadata": {
        "id": "view-in-github",
        "colab_type": "text"
      },
      "source": [
        "<a href=\"https://colab.research.google.com/github/jasielserra/Exemplo-DevPro/blob/main/La%C3%A7os.ipynb\" target=\"_parent\"><img src=\"https://colab.research.google.com/assets/colab-badge.svg\" alt=\"Open In Colab\"/></a>"
      ]
    },
    {
      "cell_type": "code",
      "metadata": {
        "colab": {
          "base_uri": "https://localhost:8080/"
        },
        "id": "ZhkDT6Dh3X5f",
        "outputId": "b8de6427-44c3-48b4-9e73-e9527be460e3"
      },
      "source": [
        "ListaDoMercado = [\"leite\", \"Futas\", \"Carne\"]\n",
        "for i in ListaDoMercado:\n",
        "  print(i)"
      ],
      "execution_count": 1,
      "outputs": [
        {
          "output_type": "stream",
          "text": [
            "leite\n",
            "Futas\n",
            "Carne\n"
          ],
          "name": "stdout"
        }
      ]
    },
    {
      "cell_type": "code",
      "metadata": {
        "colab": {
          "base_uri": "https://localhost:8080/"
        },
        "id": "YO7FmQ2-4aEK",
        "outputId": "4d8f14ac-94ae-4667-c4cc-f780871f2c94"
      },
      "source": [
        "for contador in range(0,5):\n",
        "  print(contador)"
      ],
      "execution_count": 2,
      "outputs": [
        {
          "output_type": "stream",
          "text": [
            "0\n",
            "1\n",
            "2\n",
            "3\n",
            "4\n"
          ],
          "name": "stdout"
        }
      ]
    },
    {
      "cell_type": "code",
      "metadata": {
        "colab": {
          "base_uri": "https://localhost:8080/"
        },
        "id": "X2wkeqaz53I-",
        "outputId": "89a1d0e2-286a-4873-d12b-b4d01d2dbc02"
      },
      "source": [
        "lista = [1,2,3,4,5,6,7,8,9,10]\n",
        "for num in lista:\n",
        "  if num % 2 == 0:\n",
        "    print(num)"
      ],
      "execution_count": 3,
      "outputs": [
        {
          "output_type": "stream",
          "text": [
            "2\n",
            "4\n",
            "6\n",
            "8\n",
            "10\n"
          ],
          "name": "stdout"
        }
      ]
    },
    {
      "cell_type": "code",
      "metadata": {
        "colab": {
          "base_uri": "https://localhost:8080/"
        },
        "id": "M_oRLYCj8W1D",
        "outputId": "bce435b9-79b1-4848-ab74-71c9c498ce08"
      },
      "source": [
        "for i in range(0,20,2):\n",
        "  print(i)"
      ],
      "execution_count": 4,
      "outputs": [
        {
          "output_type": "stream",
          "text": [
            "0\n",
            "2\n",
            "4\n",
            "6\n",
            "8\n",
            "10\n",
            "12\n",
            "14\n",
            "16\n",
            "18\n"
          ],
          "name": "stdout"
        }
      ]
    },
    {
      "cell_type": "code",
      "metadata": {
        "colab": {
          "base_uri": "https://localhost:8080/"
        },
        "id": "DXrhZ7ri8h_E",
        "outputId": "f525dbff-863f-463b-ee58-3d8fea29d90a"
      },
      "source": [
        "for caracter in 'Python':\n",
        "  print(caracter)"
      ],
      "execution_count": 1,
      "outputs": [
        {
          "output_type": "stream",
          "text": [
            "P\n",
            "y\n",
            "t\n",
            "h\n",
            "o\n",
            "n\n"
          ],
          "name": "stdout"
        }
      ]
    },
    {
      "cell_type": "code",
      "metadata": {
        "colab": {
          "base_uri": "https://localhost:8080/"
        },
        "id": "47lK0Ha7Ek1o",
        "outputId": "d74e3c73-7e49-4a6b-d7d6-5f6cbdb5de96"
      },
      "source": [
        "#Pesquisando em Listas\n",
        "listaC = [5,6,7,10,50]\n",
        "\n",
        "#Loop através da lista\n",
        "for item in listaC:\n",
        "  if item == 5:\n",
        "    print(\"Número encontrado na lista\")"
      ],
      "execution_count": 2,
      "outputs": [
        {
          "output_type": "stream",
          "text": [
            "Número encontrado na lista\n"
          ],
          "name": "stdout"
        }
      ]
    },
    {
      "cell_type": "code",
      "metadata": {
        "colab": {
          "base_uri": "https://localhost:8080/"
        },
        "id": "B3uKgRUTFYcA",
        "outputId": "6878c7e2-2eb8-4331-a9c4-7bb24498f540"
      },
      "source": [
        "for verificador in \"Python\":\n",
        "  if verificador == 'h':\n",
        "    continue\n",
        "  print(verificador)"
      ],
      "execution_count": 5,
      "outputs": [
        {
          "output_type": "stream",
          "text": [
            "P\n",
            "y\n",
            "t\n",
            "o\n",
            "n\n"
          ],
          "name": "stdout"
        }
      ]
    },
    {
      "cell_type": "code",
      "metadata": {
        "id": "yTaoKEoaF1Mt"
      },
      "source": [
        ""
      ],
      "execution_count": null,
      "outputs": []
    }
  ]
}