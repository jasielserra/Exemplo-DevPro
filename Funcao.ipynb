{
  "nbformat": 4,
  "nbformat_minor": 0,
  "metadata": {
    "colab": {
      "name": "Funcao.ipynb",
      "provenance": [],
      "authorship_tag": "ABX9TyMd2cMIuyjpl86r2NxeMRhd",
      "include_colab_link": true
    },
    "kernelspec": {
      "name": "python3",
      "display_name": "Python 3"
    },
    "language_info": {
      "name": "python"
    }
  },
  "cells": [
    {
      "cell_type": "markdown",
      "metadata": {
        "id": "view-in-github",
        "colab_type": "text"
      },
      "source": [
        "<a href=\"https://colab.research.google.com/github/jasielserra/Exemplo-DevPro/blob/main/Funcao.ipynb\" target=\"_parent\"><img src=\"https://colab.research.google.com/assets/colab-badge.svg\" alt=\"Open In Colab\"/></a>"
      ]
    },
    {
      "cell_type": "code",
      "metadata": {
        "id": "xB9XNXq5mAaI"
      },
      "source": [
        "def funcao():\n",
        "  return \"Olá mundo\""
      ],
      "execution_count": 1,
      "outputs": []
    },
    {
      "cell_type": "code",
      "metadata": {
        "colab": {
          "base_uri": "https://localhost:8080/",
          "height": 35
        },
        "id": "5uI7qFUYmJMY",
        "outputId": "6c71ea05-07c2-4cea-b430-b03c7c747000"
      },
      "source": [
        "funcao()"
      ],
      "execution_count": 2,
      "outputs": [
        {
          "output_type": "execute_result",
          "data": {
            "application/vnd.google.colaboratory.intrinsic+json": {
              "type": "string"
            },
            "text/plain": [
              "'Olá mundo'"
            ]
          },
          "metadata": {},
          "execution_count": 2
        }
      ]
    },
    {
      "cell_type": "code",
      "metadata": {
        "id": "IJgg2tummO5y"
      },
      "source": [
        "def f():\n",
        "  pass\n",
        "  "
      ],
      "execution_count": 3,
      "outputs": []
    },
    {
      "cell_type": "code",
      "metadata": {
        "id": "5_UAplg6mTPR"
      },
      "source": [
        "f()"
      ],
      "execution_count": 4,
      "outputs": []
    },
    {
      "cell_type": "code",
      "metadata": {
        "colab": {
          "base_uri": "https://localhost:8080/"
        },
        "id": "-LLtlg9FmUeo",
        "outputId": "a68cbeda-41cf-4741-be73-4da3f4b74b45"
      },
      "source": [
        "print(f())"
      ],
      "execution_count": 5,
      "outputs": [
        {
          "output_type": "stream",
          "text": [
            "None\n"
          ],
          "name": "stdout"
        }
      ]
    },
    {
      "cell_type": "code",
      "metadata": {
        "id": "Wuos92_bmdDG"
      },
      "source": [
        "def hello(name):\n",
        "  return f'Hello {name}'"
      ],
      "execution_count": 6,
      "outputs": []
    },
    {
      "cell_type": "code",
      "metadata": {
        "colab": {
          "base_uri": "https://localhost:8080/",
          "height": 35
        },
        "id": "wLyq9DOYo1Z_",
        "outputId": "9e6ed8cd-e772-44bd-f9e9-88cc8d78df99"
      },
      "source": [
        "hello('Jasiel')"
      ],
      "execution_count": 7,
      "outputs": [
        {
          "output_type": "execute_result",
          "data": {
            "application/vnd.google.colaboratory.intrinsic+json": {
              "type": "string"
            },
            "text/plain": [
              "'Hello Jasiel'"
            ]
          },
          "metadata": {},
          "execution_count": 7
        }
      ]
    },
    {
      "cell_type": "code",
      "metadata": {
        "id": "1KLTDFn2o-fH"
      },
      "source": [
        "def hello(first_name, last_name):\n",
        "  return f'Hello {first_name} {last_name}' "
      ],
      "execution_count": 9,
      "outputs": []
    },
    {
      "cell_type": "code",
      "metadata": {
        "colab": {
          "base_uri": "https://localhost:8080/",
          "height": 35
        },
        "id": "b4pS5yPkpdhS",
        "outputId": "95e93041-af2c-4231-97f5-b42df24a34f9"
      },
      "source": [
        "hello('Jasiel', 'Serra')"
      ],
      "execution_count": 10,
      "outputs": [
        {
          "output_type": "execute_result",
          "data": {
            "application/vnd.google.colaboratory.intrinsic+json": {
              "type": "string"
            },
            "text/plain": [
              "'Hello Jasiel Serra'"
            ]
          },
          "metadata": {},
          "execution_count": 10
        }
      ]
    },
    {
      "cell_type": "code",
      "metadata": {
        "id": "auYiz9nQpmz-"
      },
      "source": [
        "def hello2(first_name, last_name, age=38):\n",
        "  return f'Hello {first_name} {last_name} has {age}'"
      ],
      "execution_count": 16,
      "outputs": []
    },
    {
      "cell_type": "code",
      "metadata": {
        "colab": {
          "base_uri": "https://localhost:8080/",
          "height": 35
        },
        "id": "cvVODaH6qN3W",
        "outputId": "105a8493-4542-4384-f562-4492200e973f"
      },
      "source": [
        "hello2('Jasiel', 'Serra')"
      ],
      "execution_count": 17,
      "outputs": [
        {
          "output_type": "execute_result",
          "data": {
            "application/vnd.google.colaboratory.intrinsic+json": {
              "type": "string"
            },
            "text/plain": [
              "'Hello Jasiel Serra has 38'"
            ]
          },
          "metadata": {},
          "execution_count": 17
        }
      ]
    },
    {
      "cell_type": "code",
      "metadata": {
        "colab": {
          "base_uri": "https://localhost:8080/",
          "height": 35
        },
        "id": "13tHDTynrM1k",
        "outputId": "5953a003-bc78-41b7-887b-604b80463542"
      },
      "source": [
        "hello2(age=39, last_name='Serra', first_name=\"Jaziel\")"
      ],
      "execution_count": 18,
      "outputs": [
        {
          "output_type": "execute_result",
          "data": {
            "application/vnd.google.colaboratory.intrinsic+json": {
              "type": "string"
            },
            "text/plain": [
              "'Hello Jaziel Serra has 39'"
            ]
          },
          "metadata": {},
          "execution_count": 18
        }
      ]
    },
    {
      "cell_type": "code",
      "metadata": {
        "id": "gvOvfWGerkm-"
      },
      "source": [
        ""
      ],
      "execution_count": null,
      "outputs": []
    }
  ]
}