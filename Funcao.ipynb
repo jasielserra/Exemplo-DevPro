{
  "nbformat": 4,
  "nbformat_minor": 0,
  "metadata": {
    "colab": {
      "name": "Funcao.ipynb",
      "provenance": [],
      "authorship_tag": "ABX9TyPfja49lNhcd2yt8Bay9RBR",
      "include_colab_link": true
    },
    "kernelspec": {
      "name": "python3",
      "display_name": "Python 3"
    },
    "language_info": {
      "name": "python"
    }
  },
  "cells": [
    {
      "cell_type": "markdown",
      "metadata": {
        "id": "view-in-github",
        "colab_type": "text"
      },
      "source": [
        "<a href=\"https://colab.research.google.com/github/jasielserra/Exemplo-DevPro/blob/main/Funcao.ipynb\" target=\"_parent\"><img src=\"https://colab.research.google.com/assets/colab-badge.svg\" alt=\"Open In Colab\"/></a>"
      ]
    },
    {
      "cell_type": "code",
      "metadata": {
        "id": "pkshXeoQhviK"
      },
      "source": [
        "# Definindo uma função\n",
        "def primeiraFunc():\n",
        "  print(\"Hello World\")"
      ],
      "execution_count": 1,
      "outputs": []
    },
    {
      "cell_type": "code",
      "metadata": {
        "colab": {
          "base_uri": "https://localhost:8080/"
        },
        "id": "aJMH4GE7iGhF",
        "outputId": "9adc95b4-99eb-498a-ee92-b6e1fcb476ee"
      },
      "source": [
        "primeiraFunc()"
      ],
      "execution_count": 2,
      "outputs": [
        {
          "output_type": "stream",
          "text": [
            "Hello World\n"
          ],
          "name": "stdout"
        }
      ]
    },
    {
      "cell_type": "code",
      "metadata": {
        "id": "Yiv7CNAWiJGW"
      },
      "source": [
        "# Definindo uma função com parâmetro\n",
        "def primeiraFunc(nome):\n",
        "  print(\"Hello %s\" %(nome))\n"
      ],
      "execution_count": 3,
      "outputs": []
    },
    {
      "cell_type": "code",
      "metadata": {
        "colab": {
          "base_uri": "https://localhost:8080/"
        },
        "id": "LDpVothdjEjm",
        "outputId": "fd34ffec-4a3e-4c49-a6d5-8b3217a9a6ad"
      },
      "source": [
        "primeiraFunc(\"Aluno\")"
      ],
      "execution_count": 4,
      "outputs": [
        {
          "output_type": "stream",
          "text": [
            "Hello Aluno\n"
          ],
          "name": "stdout"
        }
      ]
    },
    {
      "cell_type": "code",
      "metadata": {
        "id": "lBSZJAyPjKRQ"
      },
      "source": [
        "def funcLeitura():\n",
        "  for i in range(0,5):\n",
        "    print(\"Número \" + str(i))"
      ],
      "execution_count": 5,
      "outputs": []
    },
    {
      "cell_type": "code",
      "metadata": {
        "colab": {
          "base_uri": "https://localhost:8080/"
        },
        "id": "bjDutnvnkeRx",
        "outputId": "ff0b9cc8-c496-4d4d-8808-0ea9fd462c78"
      },
      "source": [
        "funcLeitura()"
      ],
      "execution_count": 6,
      "outputs": [
        {
          "output_type": "stream",
          "text": [
            "Número 0\n",
            "Número 1\n",
            "Número 2\n",
            "Número 3\n",
            "Número 4\n"
          ],
          "name": "stdout"
        }
      ]
    },
    {
      "cell_type": "code",
      "metadata": {
        "id": "f_kQE-gUkixy"
      },
      "source": [
        "def listaString(texto):\n",
        "  print(texto.upper())\n",
        "  return"
      ],
      "execution_count": 7,
      "outputs": []
    },
    {
      "cell_type": "code",
      "metadata": {
        "colab": {
          "base_uri": "https://localhost:8080/"
        },
        "id": "XT9fQVJNlDYH",
        "outputId": "42e35d8c-396a-4595-c8a1-51833ba36252"
      },
      "source": [
        "listaString(\"Welcome to the Django\")"
      ],
      "execution_count": 8,
      "outputs": [
        {
          "output_type": "stream",
          "text": [
            "WELCOME TO THE DJANGO\n"
          ],
          "name": "stdout"
        }
      ]
    },
    {
      "cell_type": "code",
      "metadata": {
        "id": "D8BAqF6NlKaL"
      },
      "source": [
        "def addNum(firstnum, secondnum):\n",
        "  print(\"Primeiro número: \" + str(firstnum))\n",
        "  print(\"Segundo número: \" + str(secondnum))\n",
        "  print(\"Soma: \", firstnum + secondnum)\n",
        "  "
      ],
      "execution_count": 9,
      "outputs": []
    },
    {
      "cell_type": "code",
      "metadata": {
        "colab": {
          "base_uri": "https://localhost:8080/"
        },
        "id": "OhuTok7el6fC",
        "outputId": "2642ac28-2046-4b6d-a00a-1bc6c7aa2afa"
      },
      "source": [
        "addNum(45,3)"
      ],
      "execution_count": 10,
      "outputs": [
        {
          "output_type": "stream",
          "text": [
            "Primeiro número: 45\n",
            "Segundo número: 3\n",
            "Soma:  48\n"
          ],
          "name": "stdout"
        }
      ]
    },
    {
      "cell_type": "code",
      "metadata": {
        "id": "SlaM183pmAuN"
      },
      "source": [
        ""
      ],
      "execution_count": null,
      "outputs": []
    }
  ]
}