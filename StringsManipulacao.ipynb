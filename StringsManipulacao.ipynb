{
  "nbformat": 4,
  "nbformat_minor": 0,
  "metadata": {
    "colab": {
      "name": "StringsManipulacao.ipynb",
      "provenance": [],
      "authorship_tag": "ABX9TyN2waf/7CDRrqK+EP+I0fHR",
      "include_colab_link": true
    },
    "kernelspec": {
      "name": "python3",
      "display_name": "Python 3"
    },
    "language_info": {
      "name": "python"
    }
  },
  "cells": [
    {
      "cell_type": "markdown",
      "metadata": {
        "id": "view-in-github",
        "colab_type": "text"
      },
      "source": [
        "<a href=\"https://colab.research.google.com/github/jasielserra/Exemplo-DevPro/blob/main/StringsManipulacao.ipynb\" target=\"_parent\"><img src=\"https://colab.research.google.com/assets/colab-badge.svg\" alt=\"Open In Colab\"/></a>"
      ]
    },
    {
      "cell_type": "code",
      "metadata": {
        "colab": {
          "base_uri": "https://localhost:8080/"
        },
        "id": "YHxrrWsF00Cu",
        "outputId": "0ecb8fc7-dc77-420d-88a6-14fd1b7915de"
      },
      "source": [
        "s = 'seja bem vindo ao universo de python'\n",
        "print(\" \".join(s))"
      ],
      "execution_count": 2,
      "outputs": [
        {
          "output_type": "stream",
          "text": [
            "s e j a   b e m   v i n d o   a o   u n i v e r s o   d e   p y t h o n\n"
          ],
          "name": "stdout"
        }
      ]
    },
    {
      "cell_type": "code",
      "metadata": {
        "colab": {
          "base_uri": "https://localhost:8080/"
        },
        "id": "dOL49le_1GbH",
        "outputId": "3769e832-ebfc-4432-a0fb-932f0f275b52"
      },
      "source": [
        "print(\" \".join(reversed(s)))"
      ],
      "execution_count": 3,
      "outputs": [
        {
          "output_type": "stream",
          "text": [
            "n o h t y p   e d   o s r e v i n u   o a   o d n i v   m e b   a j e s\n"
          ],
          "name": "stdout"
        }
      ]
    },
    {
      "cell_type": "code",
      "metadata": {
        "colab": {
          "base_uri": "https://localhost:8080/",
          "height": 35
        },
        "id": "SxmsiPwZ1r2o",
        "outputId": "d5944172-ae82-43c3-f720-6255a691ba05"
      },
      "source": [
        "s.replace('python','R')"
      ],
      "execution_count": 5,
      "outputs": [
        {
          "output_type": "execute_result",
          "data": {
            "application/vnd.google.colaboratory.intrinsic+json": {
              "type": "string"
            },
            "text/plain": [
              "'seja bem vindo ao universo de R'"
            ]
          },
          "metadata": {
            "tags": []
          },
          "execution_count": 5
        }
      ]
    },
    {
      "cell_type": "code",
      "metadata": {
        "colab": {
          "base_uri": "https://localhost:8080/"
        },
        "id": "jUFQw6fb2LsU",
        "outputId": "474451a8-96de-4fbe-e588-1eed5d58cdf2"
      },
      "source": [
        "print(\"| \".join([\"Java\", \"Python\", \"R\"]))"
      ],
      "execution_count": 7,
      "outputs": [
        {
          "output_type": "stream",
          "text": [
            "Java| Python| R\n"
          ],
          "name": "stdout"
        }
      ]
    },
    {
      "cell_type": "code",
      "metadata": {
        "colab": {
          "base_uri": "https://localhost:8080/"
        },
        "id": "Q4SqTaBu2kzm",
        "outputId": "98120582-7147-4265-d6e2-6d6f47cfba68"
      },
      "source": [
        "x = \"Python é muito legal.\"\n",
        "y = x.startswith(\"Python\")\n",
        "y"
      ],
      "execution_count": 10,
      "outputs": [
        {
          "output_type": "execute_result",
          "data": {
            "text/plain": [
              "True"
            ]
          },
          "metadata": {
            "tags": []
          },
          "execution_count": 10
        }
      ]
    },
    {
      "cell_type": "code",
      "metadata": {
        "colab": {
          "base_uri": "https://localhost:8080/"
        },
        "id": "7Mlx22Gf3CIM",
        "outputId": "8b843ba9-f1b1-43ff-b741-d1cadf842826"
      },
      "source": [
        "len(x)"
      ],
      "execution_count": 11,
      "outputs": [
        {
          "output_type": "execute_result",
          "data": {
            "text/plain": [
              "21"
            ]
          },
          "metadata": {
            "tags": []
          },
          "execution_count": 11
        }
      ]
    },
    {
      "cell_type": "code",
      "metadata": {
        "colab": {
          "base_uri": "https://localhost:8080/"
        },
        "id": "Bf7wTXM53178",
        "outputId": "ee76cf9b-5357-48ca-81a5-cadc63b4c441"
      },
      "source": [
        "busca = 'legal'\n",
        "print(x.find(busca))"
      ],
      "execution_count": 15,
      "outputs": [
        {
          "output_type": "stream",
          "text": [
            "15\n"
          ],
          "name": "stdout"
        }
      ]
    },
    {
      "cell_type": "code",
      "metadata": {
        "colab": {
          "base_uri": "https://localhost:8080/"
        },
        "id": "IeLa4ANh4GkE",
        "outputId": "08b242e8-4702-4c75-ab7b-9f235f75a346"
      },
      "source": [
        "print(s.title())"
      ],
      "execution_count": 17,
      "outputs": [
        {
          "output_type": "stream",
          "text": [
            "Seja Bem Vindo Ao Universo De Python\n"
          ],
          "name": "stdout"
        }
      ]
    },
    {
      "cell_type": "code",
      "metadata": {
        "id": "RvUIWyvM4Yy7"
      },
      "source": [
        ""
      ],
      "execution_count": null,
      "outputs": []
    }
  ]
}