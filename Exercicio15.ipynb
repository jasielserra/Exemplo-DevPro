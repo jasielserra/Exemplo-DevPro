{
  "nbformat": 4,
  "nbformat_minor": 0,
  "metadata": {
    "colab": {
      "name": "Exercicio15.ipynb",
      "provenance": [],
      "authorship_tag": "ABX9TyPNQPSbzBVFf6nVwLY3DI71",
      "include_colab_link": true
    },
    "kernelspec": {
      "name": "python3",
      "display_name": "Python 3"
    },
    "language_info": {
      "name": "python"
    }
  },
  "cells": [
    {
      "cell_type": "markdown",
      "metadata": {
        "id": "view-in-github",
        "colab_type": "text"
      },
      "source": [
        "<a href=\"https://colab.research.google.com/github/jasielserra/Exemplo-DevPro/blob/main/Exercicio15.ipynb\" target=\"_parent\"><img src=\"https://colab.research.google.com/assets/colab-badge.svg\" alt=\"Open In Colab\"/></a>"
      ]
    },
    {
      "cell_type": "code",
      "metadata": {
        "colab": {
          "base_uri": "https://localhost:8080/"
        },
        "id": "_v9Bkoir8cHU",
        "outputId": "7a60f083-bee3-4db9-9f9e-cc959cf1ef05"
      },
      "source": [
        "notas = []\n",
        "\n",
        "while True:\n",
        "  entrada = input(\"Digite um número: \")\n",
        "  if entrada == '-1':\n",
        "    break\n",
        "  notas.append(float(entrada))\n",
        "\n",
        "\n",
        "tamanho = len(notas)\n",
        "print(f'tamanho lidas {tamanho} notas')\n",
        "print(' '.join([str(nota) for nota in notas]))\n",
        "notas.reverse()\n",
        "\n",
        "for nota in notas:\n",
        "  print(nota)\n",
        "\n",
        "\n",
        "soma = sum(notas)\n",
        "\n",
        "print(f'soma das notas é: {soma}') \n",
        "\n",
        "media = soma / tamanho\n",
        "\n",
        "print(f'A média das notas é: {media}')\n",
        "\n",
        "print('Notas acima da média: ')\n",
        "\n",
        "print(' '.join([str(nota) for nota in notas if nota > media ]))\n",
        "\n",
        "print(\"Notas abaixo de 7: \")\n",
        "print(\" \".join([str(notas) for nota in notas if nota < 7]))\n",
        "\n",
        "print(\"Encerrando programa de estatística de notas\")"
      ],
      "execution_count": 2,
      "outputs": [
        {
          "output_type": "stream",
          "text": [
            "Digite um número: 4\n",
            "Digite um número: 9\n",
            "Digite um número: 12\n",
            "Digite um número: 23\n",
            "Digite um número: 12.3\n",
            "Digite um número: 2.4\n",
            "Digite um número: .4\n",
            "Digite um número: -1\n",
            "tamanho lidas 7 notas\n",
            "4.0 9.0 12.0 23.0 12.3 2.4 0.4\n",
            "0.4\n",
            "2.4\n",
            "12.3\n",
            "23.0\n",
            "12.0\n",
            "9.0\n",
            "4.0\n",
            "soma das notas é: 63.1\n",
            "A média das notas é: 9.014285714285714\n",
            "Notas acima da média: \n",
            "12.3 23.0 12.0\n",
            "Notas abaixo de 7: \n",
            "[0.4, 2.4, 12.3, 23.0, 12.0, 9.0, 4.0] [0.4, 2.4, 12.3, 23.0, 12.0, 9.0, 4.0] [0.4, 2.4, 12.3, 23.0, 12.0, 9.0, 4.0]\n",
            "Encerrando programa de estatística de notas\n"
          ],
          "name": "stdout"
        }
      ]
    },
    {
      "cell_type": "code",
      "metadata": {
        "id": "uQDC2U-iBj7H"
      },
      "source": [
        ""
      ],
      "execution_count": null,
      "outputs": []
    }
  ]
}