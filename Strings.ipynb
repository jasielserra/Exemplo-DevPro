{
  "nbformat": 4,
  "nbformat_minor": 0,
  "metadata": {
    "colab": {
      "name": "Strings.ipynb",
      "provenance": [],
      "authorship_tag": "ABX9TyNace7leWv/alh6Wlx+u2MP",
      "include_colab_link": true
    },
    "kernelspec": {
      "name": "python3",
      "display_name": "Python 3"
    },
    "language_info": {
      "name": "python"
    }
  },
  "cells": [
    {
      "cell_type": "markdown",
      "metadata": {
        "id": "view-in-github",
        "colab_type": "text"
      },
      "source": [
        "<a href=\"https://colab.research.google.com/github/jasielserra/Exemplo-DevPro/blob/main/Strings.ipynb\" target=\"_parent\"><img src=\"https://colab.research.google.com/assets/colab-badge.svg\" alt=\"Open In Colab\"/></a>"
      ]
    },
    {
      "cell_type": "markdown",
      "metadata": {
        "id": "2ivOZFEBgv6v"
      },
      "source": [
        "# Manipulando Strings\n"
      ]
    },
    {
      "cell_type": "code",
      "metadata": {
        "colab": {
          "base_uri": "https://localhost:8080/"
        },
        "id": "yKB6aJllkVv9",
        "outputId": "2a72cb84-effd-4585-98f8-363696b99005"
      },
      "source": [
        "print(s.lower()) # Lower Case"
      ],
      "execution_count": 2,
      "outputs": [
        {
          "output_type": "stream",
          "text": [
            "jasiel\n"
          ],
          "name": "stdout"
        }
      ]
    },
    {
      "cell_type": "code",
      "metadata": {
        "colab": {
          "base_uri": "https://localhost:8080/"
        },
        "id": "nXdlgFkGgqv0",
        "outputId": "87fbc106-beaa-4b6b-8c15-669adc17014a"
      },
      "source": [
        "s = 'Jasiel'\n",
        "print(s.upper()) # Upper Case"
      ],
      "execution_count": 1,
      "outputs": [
        {
          "output_type": "stream",
          "text": [
            "JASIEL\n"
          ],
          "name": "stdout"
        }
      ]
    },
    {
      "cell_type": "markdown",
      "metadata": {
        "id": "RfGMQe9UgsHO"
      },
      "source": [
        ""
      ]
    },
    {
      "cell_type": "code",
      "metadata": {
        "colab": {
          "base_uri": "https://localhost:8080/"
        },
        "id": "03gGGtDdklyH",
        "outputId": "ae68c890-f6c0-41ee-a4e0-25db31c20d4f"
      },
      "source": [
        "name = 'Jasiel de Cristo Serra'\n",
        "print(name.split())"
      ],
      "execution_count": 3,
      "outputs": [
        {
          "output_type": "stream",
          "text": [
            "['Jasiel', 'de', 'Cristo', 'Serra']\n"
          ],
          "name": "stdout"
        }
      ]
    },
    {
      "cell_type": "code",
      "metadata": {
        "colab": {
          "base_uri": "https://localhost:8080/",
          "height": 35
        },
        "id": "DHUwShglkumG",
        "outputId": "2822e4b5-8553-4b8f-9fd8-d8d4179d6378"
      },
      "source": [
        "frase = 'seja bem vindo ao universo do python'\n",
        "frase.capitalize()"
      ],
      "execution_count": 4,
      "outputs": [
        {
          "output_type": "execute_result",
          "data": {
            "application/vnd.google.colaboratory.intrinsic+json": {
              "type": "string"
            },
            "text/plain": [
              "'Seja bem vindo ao universo do python'"
            ]
          },
          "metadata": {
            "tags": []
          },
          "execution_count": 4
        }
      ]
    },
    {
      "cell_type": "code",
      "metadata": {
        "colab": {
          "base_uri": "https://localhost:8080/"
        },
        "id": "JFXjR3zpnMGI",
        "outputId": "2859ddc5-bfe7-4bd7-ee40-3e35929b034b"
      },
      "source": [
        "frase.count('a')"
      ],
      "execution_count": 6,
      "outputs": [
        {
          "output_type": "execute_result",
          "data": {
            "text/plain": [
              "2"
            ]
          },
          "metadata": {
            "tags": []
          },
          "execution_count": 6
        }
      ]
    },
    {
      "cell_type": "code",
      "metadata": {
        "colab": {
          "base_uri": "https://localhost:8080/"
        },
        "id": "VMelNbyFnSQb",
        "outputId": "97bd82df-eca3-4af9-dbc9-b2e828f8ee01"
      },
      "source": [
        "frase.find('p')"
      ],
      "execution_count": 7,
      "outputs": [
        {
          "output_type": "execute_result",
          "data": {
            "text/plain": [
              "30"
            ]
          },
          "metadata": {
            "tags": []
          },
          "execution_count": 7
        }
      ]
    },
    {
      "cell_type": "code",
      "metadata": {
        "colab": {
          "base_uri": "https://localhost:8080/"
        },
        "id": "UZuhf0K4nh0j",
        "outputId": "23438e11-44ac-4da2-b553-f81a91356e26"
      },
      "source": [
        "print('Python' == 'R')"
      ],
      "execution_count": 8,
      "outputs": [
        {
          "output_type": "stream",
          "text": [
            "False\n"
          ],
          "name": "stdout"
        }
      ]
    },
    {
      "cell_type": "code",
      "metadata": {
        "colab": {
          "base_uri": "https://localhost:8080/"
        },
        "id": "w8dhiUlrnueA",
        "outputId": "323cfdc2-ac86-456f-e2a5-72c5616649e3"
      },
      "source": [
        "print('Python' == 'Python')"
      ],
      "execution_count": 9,
      "outputs": [
        {
          "output_type": "stream",
          "text": [
            "True\n"
          ],
          "name": "stdout"
        }
      ]
    },
    {
      "cell_type": "code",
      "metadata": {
        "colab": {
          "base_uri": "https://localhost:8080/"
        },
        "id": "QfTv-FWun007",
        "outputId": "ae0e94f2-5348-4a0f-ce21-62933da4735a"
      },
      "source": [
        "nome = 'Fulano'\n",
        "idade = 38\n",
        "\n",
        "print(\"Meu nome é %s. Minha idade é %d\" %(nome, idade))"
      ],
      "execution_count": 10,
      "outputs": [
        {
          "output_type": "stream",
          "text": [
            "Meu nome é Fulano. Minha idade é 38\n"
          ],
          "name": "stdout"
        }
      ]
    },
    {
      "cell_type": "code",
      "metadata": {
        "colab": {
          "base_uri": "https://localhost:8080/"
        },
        "id": "efMIf4KWxB9a",
        "outputId": "f07db3a2-ab97-4cd3-ac55-f683dd2150a4"
      },
      "source": [
        "print(\"Meu nome é {fname}, Minha idade é {age}\". format(fname='Fulano', age=28))"
      ],
      "execution_count": 11,
      "outputs": [
        {
          "output_type": "stream",
          "text": [
            "Meu nome é Fulano, Minha idade é 28\n"
          ],
          "name": "stdout"
        }
      ]
    },
    {
      "cell_type": "code",
      "metadata": {
        "id": "At9kdkxmxxyE"
      },
      "source": [
        ""
      ],
      "execution_count": null,
      "outputs": []
    }
  ]
}