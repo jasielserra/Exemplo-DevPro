{
  "nbformat": 4,
  "nbformat_minor": 0,
  "metadata": {
    "colab": {
      "name": "Strings.ipynb",
      "provenance": [],
      "authorship_tag": "ABX9TyNrsK7CclOod0uXw9Obcy6x",
      "include_colab_link": true
    },
    "kernelspec": {
      "name": "python3",
      "display_name": "Python 3"
    },
    "language_info": {
      "name": "python"
    }
  },
  "cells": [
    {
      "cell_type": "markdown",
      "metadata": {
        "id": "view-in-github",
        "colab_type": "text"
      },
      "source": [
        "<a href=\"https://colab.research.google.com/github/jasielserra/Exemplo-DevPro/blob/main/Strings.ipynb\" target=\"_parent\"><img src=\"https://colab.research.google.com/assets/colab-badge.svg\" alt=\"Open In Colab\"/></a>"
      ]
    },
    {
      "cell_type": "markdown",
      "metadata": {
        "id": "2ivOZFEBgv6v"
      },
      "source": [
        "# Manipulando Strings\n"
      ]
    },
    {
      "cell_type": "code",
      "metadata": {
        "colab": {
          "base_uri": "https://localhost:8080/"
        },
        "id": "nXdlgFkGgqv0",
        "outputId": "87fbc106-beaa-4b6b-8c15-669adc17014a"
      },
      "source": [
        "s = 'Jasiel'\n",
        "print(s.upper())"
      ],
      "execution_count": 1,
      "outputs": [
        {
          "output_type": "stream",
          "text": [
            "JASIEL\n"
          ],
          "name": "stdout"
        }
      ]
    },
    {
      "cell_type": "markdown",
      "metadata": {
        "id": "RfGMQe9UgsHO"
      },
      "source": [
        ""
      ]
    }
  ]
}