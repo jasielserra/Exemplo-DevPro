{
  "nbformat": 4,
  "nbformat_minor": 0,
  "metadata": {
    "colab": {
      "name": "ListasOutrasOperacoes.ipynb",
      "provenance": [],
      "authorship_tag": "ABX9TyMtCid2Fd5MRqOQEkbZo9is",
      "include_colab_link": true
    },
    "kernelspec": {
      "name": "python3",
      "display_name": "Python 3"
    },
    "language_info": {
      "name": "python"
    }
  },
  "cells": [
    {
      "cell_type": "markdown",
      "metadata": {
        "id": "view-in-github",
        "colab_type": "text"
      },
      "source": [
        "<a href=\"https://colab.research.google.com/github/jasielserra/Exemplo-DevPro/blob/main/ListasOutrasOperacoes.ipynb\" target=\"_parent\"><img src=\"https://colab.research.google.com/assets/colab-badge.svg\" alt=\"Open In Colab\"/></a>"
      ]
    },
    {
      "cell_type": "code",
      "metadata": {
        "id": "W4PfNf869v6H"
      },
      "source": [
        "#Criando uma Lista\n",
        "lista_teste_op = [100,2,-5,3.4]"
      ],
      "execution_count": 1,
      "outputs": []
    },
    {
      "cell_type": "code",
      "metadata": {
        "colab": {
          "base_uri": "https://localhost:8080/"
        },
        "id": "MMS-wGB6-Hd5",
        "outputId": "1536d43b-25f5-44b9-8f3c-b62e4402bbc7"
      },
      "source": [
        "# Verificando se o valor 10 pertence a lista\n",
        "print(10 in lista_teste_op)"
      ],
      "execution_count": 2,
      "outputs": [
        {
          "output_type": "stream",
          "text": [
            "False\n"
          ],
          "name": "stdout"
        }
      ]
    },
    {
      "cell_type": "code",
      "metadata": {
        "colab": {
          "base_uri": "https://localhost:8080/"
        },
        "id": "gp-o8yV--S13",
        "outputId": "523a121d-24ae-4d20-a7c1-d3df9b36eeea"
      },
      "source": [
        "# Verificando se o valor 100 pertence a lista\n",
        "print(100 in lista_teste_op)"
      ],
      "execution_count": 3,
      "outputs": [
        {
          "output_type": "stream",
          "text": [
            "True\n"
          ],
          "name": "stdout"
        }
      ]
    },
    {
      "cell_type": "code",
      "metadata": {
        "colab": {
          "base_uri": "https://localhost:8080/"
        },
        "id": "M_BdGo91-1EM",
        "outputId": "43150d5a-f4df-4009-b8fe-51b99cab286d"
      },
      "source": [
        "len(lista_teste_op)"
      ],
      "execution_count": 4,
      "outputs": [
        {
          "output_type": "execute_result",
          "data": {
            "text/plain": [
              "4"
            ]
          },
          "metadata": {
            "tags": []
          },
          "execution_count": 4
        }
      ]
    },
    {
      "cell_type": "code",
      "metadata": {
        "colab": {
          "base_uri": "https://localhost:8080/"
        },
        "id": "0C4OzEzo-66y",
        "outputId": "70dad0c9-51ff-478c-9bd2-2accb241e53a"
      },
      "source": [
        "max(lista_teste_op)"
      ],
      "execution_count": 5,
      "outputs": [
        {
          "output_type": "execute_result",
          "data": {
            "text/plain": [
              "100"
            ]
          },
          "metadata": {
            "tags": []
          },
          "execution_count": 5
        }
      ]
    },
    {
      "cell_type": "code",
      "metadata": {
        "colab": {
          "base_uri": "https://localhost:8080/"
        },
        "id": "zBMMaf9f-_tj",
        "outputId": "d51327e4-ddb2-4848-896f-bfd0923682b6"
      },
      "source": [
        "min(lista_teste_op)"
      ],
      "execution_count": 6,
      "outputs": [
        {
          "output_type": "execute_result",
          "data": {
            "text/plain": [
              "-5"
            ]
          },
          "metadata": {
            "tags": []
          },
          "execution_count": 6
        }
      ]
    },
    {
      "cell_type": "code",
      "metadata": {
        "id": "ss-CazHa_DOo"
      },
      "source": [
        ""
      ],
      "execution_count": null,
      "outputs": []
    }
  ]
}