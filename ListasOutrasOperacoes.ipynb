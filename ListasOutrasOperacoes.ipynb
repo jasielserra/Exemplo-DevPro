{
  "nbformat": 4,
  "nbformat_minor": 0,
  "metadata": {
    "colab": {
      "name": "ListasOutrasOperacoes.ipynb",
      "provenance": [],
      "authorship_tag": "ABX9TyM4KcyRqoHqdSQVo2ZYcGQk",
      "include_colab_link": true
    },
    "kernelspec": {
      "name": "python3",
      "display_name": "Python 3"
    },
    "language_info": {
      "name": "python"
    }
  },
  "cells": [
    {
      "cell_type": "markdown",
      "metadata": {
        "id": "view-in-github",
        "colab_type": "text"
      },
      "source": [
        "<a href=\"https://colab.research.google.com/github/jasielserra/Exemplo-DevPro/blob/main/ListasOutrasOperacoes.ipynb\" target=\"_parent\"><img src=\"https://colab.research.google.com/assets/colab-badge.svg\" alt=\"Open In Colab\"/></a>"
      ]
    },
    {
      "cell_type": "code",
      "metadata": {
        "id": "W4PfNf869v6H"
      },
      "source": [
        "#Criando uma Lista\n",
        "lista_teste_op = [100,2,-5,3.4]"
      ],
      "execution_count": 1,
      "outputs": []
    },
    {
      "cell_type": "code",
      "metadata": {
        "colab": {
          "base_uri": "https://localhost:8080/"
        },
        "id": "MMS-wGB6-Hd5",
        "outputId": "1536d43b-25f5-44b9-8f3c-b62e4402bbc7"
      },
      "source": [
        "# Verificando se o valor 10 pertence a lista\n",
        "print(10 in lista_teste_op)"
      ],
      "execution_count": 2,
      "outputs": [
        {
          "output_type": "stream",
          "text": [
            "False\n"
          ],
          "name": "stdout"
        }
      ]
    },
    {
      "cell_type": "code",
      "metadata": {
        "colab": {
          "base_uri": "https://localhost:8080/"
        },
        "id": "gp-o8yV--S13",
        "outputId": "523a121d-24ae-4d20-a7c1-d3df9b36eeea"
      },
      "source": [
        "# Verificando se o valor 100 pertence a lista\n",
        "print(100 in lista_teste_op)"
      ],
      "execution_count": 3,
      "outputs": [
        {
          "output_type": "stream",
          "text": [
            "True\n"
          ],
          "name": "stdout"
        }
      ]
    },
    {
      "cell_type": "code",
      "metadata": {
        "colab": {
          "base_uri": "https://localhost:8080/"
        },
        "id": "M_BdGo91-1EM",
        "outputId": "43150d5a-f4df-4009-b8fe-51b99cab286d"
      },
      "source": [
        "len(lista_teste_op)"
      ],
      "execution_count": 4,
      "outputs": [
        {
          "output_type": "execute_result",
          "data": {
            "text/plain": [
              "4"
            ]
          },
          "metadata": {
            "tags": []
          },
          "execution_count": 4
        }
      ]
    },
    {
      "cell_type": "code",
      "metadata": {
        "colab": {
          "base_uri": "https://localhost:8080/"
        },
        "id": "0C4OzEzo-66y",
        "outputId": "70dad0c9-51ff-478c-9bd2-2accb241e53a"
      },
      "source": [
        "max(lista_teste_op)"
      ],
      "execution_count": 5,
      "outputs": [
        {
          "output_type": "execute_result",
          "data": {
            "text/plain": [
              "100"
            ]
          },
          "metadata": {
            "tags": []
          },
          "execution_count": 5
        }
      ]
    },
    {
      "cell_type": "code",
      "metadata": {
        "colab": {
          "base_uri": "https://localhost:8080/"
        },
        "id": "zBMMaf9f-_tj",
        "outputId": "d51327e4-ddb2-4848-896f-bfd0923682b6"
      },
      "source": [
        "min(lista_teste_op)"
      ],
      "execution_count": 6,
      "outputs": [
        {
          "output_type": "execute_result",
          "data": {
            "text/plain": [
              "-5"
            ]
          },
          "metadata": {
            "tags": []
          },
          "execution_count": 6
        }
      ]
    },
    {
      "cell_type": "code",
      "metadata": {
        "id": "ss-CazHa_DOo"
      },
      "source": [
        "# Criando uma lista\n",
        "listadomercado2 = [\"ovos\", \"farinhas\", \"leites\", \"maças\"]"
      ],
      "execution_count": 9,
      "outputs": []
    },
    {
      "cell_type": "code",
      "metadata": {
        "id": "CCsqa8ONAg-P"
      },
      "source": [
        "# Adicionando um item á lista\n",
        "listadomercado2.append(\"carne\")"
      ],
      "execution_count": 10,
      "outputs": []
    },
    {
      "cell_type": "code",
      "metadata": {
        "colab": {
          "base_uri": "https://localhost:8080/"
        },
        "id": "pN_pwBVuAgxU",
        "outputId": "8d85a17b-629f-47b3-e19c-87d385215383"
      },
      "source": [
        "listadomercado2"
      ],
      "execution_count": 11,
      "outputs": [
        {
          "output_type": "execute_result",
          "data": {
            "text/plain": [
              "['ovos', 'farinhas', 'leites', 'maças', 'carne']"
            ]
          },
          "metadata": {
            "tags": []
          },
          "execution_count": 11
        }
      ]
    },
    {
      "cell_type": "code",
      "metadata": {
        "id": "-Q0W_dp0BaLz"
      },
      "source": [
        "listadomercado2.append(\"carne\")"
      ],
      "execution_count": 13,
      "outputs": []
    },
    {
      "cell_type": "code",
      "metadata": {
        "colab": {
          "base_uri": "https://localhost:8080/"
        },
        "id": "N9fHSlI1BMbF",
        "outputId": "2ab7ee1e-17ec-4b61-fb52-0b84f7c650a0"
      },
      "source": [
        "listadomercado2"
      ],
      "execution_count": 14,
      "outputs": [
        {
          "output_type": "execute_result",
          "data": {
            "text/plain": [
              "['ovos', 'farinhas', 'leites', 'maças', 'carne', 'carne']"
            ]
          },
          "metadata": {
            "tags": []
          },
          "execution_count": 14
        }
      ]
    },
    {
      "cell_type": "code",
      "metadata": {
        "colab": {
          "base_uri": "https://localhost:8080/"
        },
        "id": "CkKh5LRWBstt",
        "outputId": "37106897-62f5-4a36-d95a-1aa1a59c8b79"
      },
      "source": [
        "listadomercado2.count(\"carne\")"
      ],
      "execution_count": 15,
      "outputs": [
        {
          "output_type": "execute_result",
          "data": {
            "text/plain": [
              "2"
            ]
          },
          "metadata": {
            "tags": []
          },
          "execution_count": 15
        }
      ]
    },
    {
      "cell_type": "code",
      "metadata": {
        "id": "ReLHKvceBzV_"
      },
      "source": [
        "x = [4,3,2,1]\n"
      ],
      "execution_count": 16,
      "outputs": []
    },
    {
      "cell_type": "code",
      "metadata": {
        "id": "njHZ9E6ODfdh"
      },
      "source": [
        "# Ordena lista\n",
        "x.sort()\n"
      ],
      "execution_count": 17,
      "outputs": []
    },
    {
      "cell_type": "code",
      "metadata": {
        "colab": {
          "base_uri": "https://localhost:8080/"
        },
        "id": "KhsfeNSTDtI4",
        "outputId": "df28923d-d9ec-430f-9f1b-912a9dcb4f02"
      },
      "source": [
        "x"
      ],
      "execution_count": 18,
      "outputs": [
        {
          "output_type": "execute_result",
          "data": {
            "text/plain": [
              "[1, 2, 3, 4]"
            ]
          },
          "metadata": {
            "tags": []
          },
          "execution_count": 18
        }
      ]
    },
    {
      "cell_type": "code",
      "metadata": {
        "id": "coJPrgznDxRD"
      },
      "source": [
        "cidades = [\"Recife\",\"Manuas\", \"Salvador\", \"Fortaleza\", \"Palmas\"]"
      ],
      "execution_count": 19,
      "outputs": []
    },
    {
      "cell_type": "code",
      "metadata": {
        "id": "nmqMhOEAENPR"
      },
      "source": [
        "cidades.insert(2,\"Alagoinhas\")"
      ],
      "execution_count": 21,
      "outputs": []
    },
    {
      "cell_type": "code",
      "metadata": {
        "colab": {
          "base_uri": "https://localhost:8080/"
        },
        "id": "OQ0n9kahEVGK",
        "outputId": "4c6c30bc-ede2-41ad-cd46-c70f930926bc"
      },
      "source": [
        "print(cidades)"
      ],
      "execution_count": 22,
      "outputs": [
        {
          "output_type": "stream",
          "text": [
            "['Recife', 'Manuas', 'Alagoinhas', 'Alagoinhas', 'Salvador', 'Fortaleza', 'Palmas']\n"
          ],
          "name": "stdout"
        }
      ]
    },
    {
      "cell_type": "code",
      "metadata": {
        "id": "F0lTpbprEZ4x"
      },
      "source": [
        "cidades.insert(1,\"Inhambupe\")"
      ],
      "execution_count": 23,
      "outputs": []
    },
    {
      "cell_type": "code",
      "metadata": {
        "colab": {
          "base_uri": "https://localhost:8080/"
        },
        "id": "kNkVr8AzEtkH",
        "outputId": "40847dcb-0b76-4c8c-a2d5-875ec7f92ae4"
      },
      "source": [
        "cidades"
      ],
      "execution_count": 24,
      "outputs": [
        {
          "output_type": "execute_result",
          "data": {
            "text/plain": [
              "['Recife',\n",
              " 'Inhambupe',\n",
              " 'Manuas',\n",
              " 'Alagoinhas',\n",
              " 'Alagoinhas',\n",
              " 'Salvador',\n",
              " 'Fortaleza',\n",
              " 'Palmas']"
            ]
          },
          "metadata": {
            "tags": []
          },
          "execution_count": 24
        }
      ]
    },
    {
      "cell_type": "code",
      "metadata": {
        "id": "kQf-58E5EwVk"
      },
      "source": [
        ""
      ],
      "execution_count": null,
      "outputs": []
    }
  ]
}