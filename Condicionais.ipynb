{
  "nbformat": 4,
  "nbformat_minor": 0,
  "metadata": {
    "colab": {
      "name": "Condicionais.ipynb",
      "provenance": [],
      "authorship_tag": "ABX9TyMwKbqHxreN7ngyRfvNfYsz",
      "include_colab_link": true
    },
    "kernelspec": {
      "name": "python3",
      "display_name": "Python 3"
    },
    "language_info": {
      "name": "python"
    }
  },
  "cells": [
    {
      "cell_type": "markdown",
      "metadata": {
        "id": "view-in-github",
        "colab_type": "text"
      },
      "source": [
        "<a href=\"https://colab.research.google.com/github/jasielserra/Exemplo-DevPro/blob/main/Condicionais.ipynb\" target=\"_parent\"><img src=\"https://colab.research.google.com/assets/colab-badge.svg\" alt=\"Open In Colab\"/></a>"
      ]
    },
    {
      "cell_type": "code",
      "metadata": {
        "colab": {
          "base_uri": "https://localhost:8080/"
        },
        "id": "3QTtyo99ySlY",
        "outputId": "4eab177b-8c6c-45e0-9eb3-ccee4348c056"
      },
      "source": [
        "# Condicional if\n",
        "if 5 > 2:\n",
        "  print(\"Python funciona!!\")"
      ],
      "execution_count": 1,
      "outputs": [
        {
          "output_type": "stream",
          "text": [
            "Python funciona!!\n"
          ],
          "name": "stdout"
        }
      ]
    },
    {
      "cell_type": "code",
      "metadata": {
        "colab": {
          "base_uri": "https://localhost:8080/"
        },
        "id": "c_Xv79ZXymCN",
        "outputId": "1dd88ca8-c5c0-4722-e74b-1b88269dc3b1"
      },
      "source": [
        "# Statement If... Else\n",
        "if 5 < 2:\n",
        "  print(\"Python funciona! \")\n",
        "else:\n",
        "  print(\"Algo está errado!\")"
      ],
      "execution_count": 2,
      "outputs": [
        {
          "output_type": "stream",
          "text": [
            "Algo está errado!\n"
          ],
          "name": "stdout"
        }
      ]
    },
    {
      "cell_type": "code",
      "metadata": {
        "id": "L94ntCIiz4r8"
      },
      "source": [
        "dia = \"Segunda\""
      ],
      "execution_count": 5,
      "outputs": []
    },
    {
      "cell_type": "code",
      "metadata": {
        "colab": {
          "base_uri": "https://localhost:8080/"
        },
        "id": "jXBKpMN8zI6d",
        "outputId": "d3990c38-3b44-4f72-803f-c4acaea02c72"
      },
      "source": [
        "if dia == \"Segunda\":\n",
        "  print(\"Hoje fará sol!\")\n",
        "elif dia == \"Terça\":\n",
        "  print(\"Hoje vai chover\")\n",
        "else:\n",
        "  print(\"Sem previsão do tempo para o dia selecionado\")"
      ],
      "execution_count": 6,
      "outputs": [
        {
          "output_type": "stream",
          "text": [
            "Hoje fará sol!\n"
          ],
          "name": "stdout"
        }
      ]
    },
    {
      "cell_type": "code",
      "metadata": {
        "id": "Df3FIxuOz1Id"
      },
      "source": [
        ""
      ],
      "execution_count": null,
      "outputs": []
    }
  ]
}