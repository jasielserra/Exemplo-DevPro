{
  "nbformat": 4,
  "nbformat_minor": 0,
  "metadata": {
    "colab": {
      "name": "regexes.ipynb",
      "provenance": [],
      "authorship_tag": "ABX9TyM3YKjRfUxGeXhKbMW8vtEc",
      "include_colab_link": true
    },
    "kernelspec": {
      "name": "python3",
      "display_name": "Python 3"
    },
    "language_info": {
      "name": "python"
    }
  },
  "cells": [
    {
      "cell_type": "markdown",
      "metadata": {
        "id": "view-in-github",
        "colab_type": "text"
      },
      "source": [
        "<a href=\"https://colab.research.google.com/github/jasielserra/Exemplo-DevPro/blob/main/regexes.ipynb\" target=\"_parent\"><img src=\"https://colab.research.google.com/assets/colab-badge.svg\" alt=\"Open In Colab\"/></a>"
      ]
    },
    {
      "cell_type": "code",
      "execution_count": 2,
      "metadata": {
        "id": "kCwYc5bCGjRr"
      },
      "outputs": [],
      "source": [
        "import re"
      ]
    },
    {
      "cell_type": "code",
      "source": [
        "def isPhoneNumber(text):\n",
        "    if len(text) != 12:\n",
        "        return False\n",
        "    for i in range(0,3):\n",
        "        if not text[i].isdecimal():\n",
        "            return False\n",
        "    if text[3] != '-':\n",
        "        return False\n",
        "    for i in range(4,7):\n",
        "        if not text[i].isdecimal():\n",
        "            return False\n",
        "    if text[7] != '-':\n",
        "        return False\n",
        "    for i in range(8,12):\n",
        "        if not text[i].isdecimal():\n",
        "            return False\n",
        "    return True"
      ],
      "metadata": {
        "id": "KkOy3ROlG1Ts"
      },
      "execution_count": 3,
      "outputs": []
    },
    {
      "cell_type": "code",
      "source": [
        "print('415-555-4242 is a phone number:')\n",
        "print(isPhoneNumber('415-555-4242'))\n",
        "print(\"Moshi moshi is a phone number:\")\n",
        "print(isPhoneNumber('Moshi moshi'))\n",
        "\n",
        "message = 'Call me at 415-555-1011 tomorrow. 415-555-999 is my Office'\n",
        "\n",
        "for i in range(len(message)):\n",
        "    chunk = message[i:i+12]\n",
        "    if isPhoneNumber(chunk):\n",
        "        print('Phone number found '  + chunk)\n",
        "\n",
        "        print('Done')"
      ],
      "metadata": {
        "colab": {
          "base_uri": "https://localhost:8080/"
        },
        "id": "SLNlK2gcG8hc",
        "outputId": "a240b9ae-43d2-46a2-c39b-283e68493422"
      },
      "execution_count": 4,
      "outputs": [
        {
          "output_type": "stream",
          "name": "stdout",
          "text": [
            "415-555-4242 is a phone number:\n",
            "True\n",
            "Moshi moshi is a phone number:\n",
            "False\n",
            "Phone number found 415-555-1011\n",
            "Done\n"
          ]
        }
      ]
    },
    {
      "cell_type": "code",
      "source": [
        "phoneNumRegex = re.compile(r'\\d\\d\\d-\\d\\d\\d\\d-\\d\\d\\d\\d')"
      ],
      "metadata": {
        "id": "sahC3FU9rfkA"
      },
      "execution_count": 5,
      "outputs": []
    },
    {
      "cell_type": "code",
      "source": [
        "mo = phoneNumRegex.search('My number is 075-3422-4912')"
      ],
      "metadata": {
        "id": "rE2UhSedr3nl"
      },
      "execution_count": 6,
      "outputs": []
    },
    {
      "cell_type": "code",
      "source": [
        "print('Phone number found: ' + mo.group())"
      ],
      "metadata": {
        "id": "7WH97YwasOJe",
        "outputId": "5d55a9a9-5ff4-44cb-e77c-2d4fe171d75a",
        "colab": {
          "base_uri": "https://localhost:8080/"
        }
      },
      "execution_count": 7,
      "outputs": [
        {
          "output_type": "stream",
          "name": "stdout",
          "text": [
            "Phone number found: 075-3422-4912\n"
          ]
        }
      ]
    },
    {
      "cell_type": "code",
      "source": [
        "phoneNumRegex = re.compile(r'(\\d\\d\\d)-(\\d\\d\\d\\d-\\d\\d\\d\\d)')"
      ],
      "metadata": {
        "id": "7H_U2htrsZoK"
      },
      "execution_count": 9,
      "outputs": []
    },
    {
      "cell_type": "code",
      "source": [
        "mo = phoneNumRegex.search('My number is 075-3422-4912')"
      ],
      "metadata": {
        "id": "Y6DS_adEwnxI"
      },
      "execution_count": 10,
      "outputs": []
    },
    {
      "cell_type": "code",
      "source": [
        "mo.group(1)"
      ],
      "metadata": {
        "id": "MuMdLovKw5Sv",
        "outputId": "ead9735f-8724-46cf-bd46-a74418335e68",
        "colab": {
          "base_uri": "https://localhost:8080/",
          "height": 35
        }
      },
      "execution_count": 11,
      "outputs": [
        {
          "output_type": "execute_result",
          "data": {
            "text/plain": [
              "'075'"
            ],
            "application/vnd.google.colaboratory.intrinsic+json": {
              "type": "string"
            }
          },
          "metadata": {},
          "execution_count": 11
        }
      ]
    },
    {
      "cell_type": "code",
      "source": [
        "mo.group(2)"
      ],
      "metadata": {
        "id": "BoLZZl5jw9-o",
        "outputId": "da78364c-de3f-4c6d-c184-019968cf06a1",
        "colab": {
          "base_uri": "https://localhost:8080/",
          "height": 35
        }
      },
      "execution_count": 12,
      "outputs": [
        {
          "output_type": "execute_result",
          "data": {
            "text/plain": [
              "'3422-4912'"
            ],
            "application/vnd.google.colaboratory.intrinsic+json": {
              "type": "string"
            }
          },
          "metadata": {},
          "execution_count": 12
        }
      ]
    },
    {
      "cell_type": "code",
      "source": [
        "mo.group()"
      ],
      "metadata": {
        "id": "XazxN-AgxEA6",
        "outputId": "2b14a2c1-8492-4047-cb48-3acfab2b68a1",
        "colab": {
          "base_uri": "https://localhost:8080/",
          "height": 35
        }
      },
      "execution_count": 13,
      "outputs": [
        {
          "output_type": "execute_result",
          "data": {
            "text/plain": [
              "'075-3422-4912'"
            ],
            "application/vnd.google.colaboratory.intrinsic+json": {
              "type": "string"
            }
          },
          "metadata": {},
          "execution_count": 13
        }
      ]
    },
    {
      "cell_type": "code",
      "source": [
        "mo.groups()"
      ],
      "metadata": {
        "id": "Erkf599SxS-l",
        "outputId": "956f8cad-a496-4684-cfa8-86d1ba683b5b",
        "colab": {
          "base_uri": "https://localhost:8080/"
        }
      },
      "execution_count": 14,
      "outputs": [
        {
          "output_type": "execute_result",
          "data": {
            "text/plain": [
              "('075', '3422-4912')"
            ]
          },
          "metadata": {},
          "execution_count": 14
        }
      ]
    },
    {
      "cell_type": "code",
      "source": [
        "areaCode, mainNumber = mo.groups()"
      ],
      "metadata": {
        "id": "buKrogQnyIoe"
      },
      "execution_count": 15,
      "outputs": []
    },
    {
      "cell_type": "code",
      "source": [
        "print(areaCode)"
      ],
      "metadata": {
        "id": "0Nq0heTryzOn",
        "outputId": "b7ddee11-de04-477a-c40c-4127c82ce651",
        "colab": {
          "base_uri": "https://localhost:8080/"
        }
      },
      "execution_count": 16,
      "outputs": [
        {
          "output_type": "stream",
          "name": "stdout",
          "text": [
            "075\n"
          ]
        }
      ]
    },
    {
      "cell_type": "code",
      "source": [
        "print(mainNumber)"
      ],
      "metadata": {
        "id": "7JDHJgaZy3j3",
        "outputId": "537bc7ba-d7a7-4b79-e278-8810c7d21df3",
        "colab": {
          "base_uri": "https://localhost:8080/"
        }
      },
      "execution_count": 17,
      "outputs": [
        {
          "output_type": "stream",
          "name": "stdout",
          "text": [
            "3422-4912\n"
          ]
        }
      ]
    },
    {
      "cell_type": "code",
      "source": [
        ""
      ],
      "metadata": {
        "id": "tN3D33ofy8E_"
      },
      "execution_count": null,
      "outputs": []
    }
  ]
}