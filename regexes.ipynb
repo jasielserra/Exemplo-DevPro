{
  "nbformat": 4,
  "nbformat_minor": 0,
  "metadata": {
    "colab": {
      "name": "regexes.ipynb",
      "provenance": [],
      "authorship_tag": "ABX9TyPnQxn8tf3wElUBIeyKYoD3",
      "include_colab_link": true
    },
    "kernelspec": {
      "name": "python3",
      "display_name": "Python 3"
    },
    "language_info": {
      "name": "python"
    }
  },
  "cells": [
    {
      "cell_type": "markdown",
      "metadata": {
        "id": "view-in-github",
        "colab_type": "text"
      },
      "source": [
        "<a href=\"https://colab.research.google.com/github/jasielserra/Exemplo-DevPro/blob/main/regexes.ipynb\" target=\"_parent\"><img src=\"https://colab.research.google.com/assets/colab-badge.svg\" alt=\"Open In Colab\"/></a>"
      ]
    },
    {
      "cell_type": "code",
      "execution_count": 1,
      "metadata": {
        "id": "kCwYc5bCGjRr"
      },
      "outputs": [],
      "source": [
        "import re"
      ]
    },
    {
      "cell_type": "code",
      "source": [
        "def isPhoneNumber(text):\n",
        "    if len(text) != 12:\n",
        "        return False\n",
        "    for i in range(0,3):\n",
        "        if not text[i].isdecimal():\n",
        "            return False\n",
        "    if text[3] != '-':\n",
        "        return False\n",
        "    for i in range(4,7):\n",
        "        if not text[i].isdecimal():\n",
        "            return False\n",
        "    if text[7] != '-':\n",
        "        return False\n",
        "    for i in range(8,12):\n",
        "        if not text[i].isdecimal():\n",
        "            return False\n",
        "    return True"
      ],
      "metadata": {
        "id": "KkOy3ROlG1Ts"
      },
      "execution_count": 2,
      "outputs": []
    },
    {
      "cell_type": "code",
      "source": [
        "print('415-555-4242 is a phone number:')\n",
        "print(isPhoneNumber('415-555-4242'))\n",
        "print(\"Moshi moshi is a phone number:\")\n",
        "print(isPhoneNumber('Moshi moshi'))\n",
        "\n",
        "message = 'Call me at 415-555-1011 tomorrow. 415-555-999 is my Office'\n",
        "\n",
        "for i in range(len(message)):\n",
        "    chunk = message[i:i+12]\n",
        "    if isPhoneNumber(chunk):\n",
        "        print('Phone number found '  + chunk)\n",
        "\n",
        "        print('Done')"
      ],
      "metadata": {
        "colab": {
          "base_uri": "https://localhost:8080/"
        },
        "id": "SLNlK2gcG8hc",
        "outputId": "9607b201-b46e-48c1-b82a-4fb877e8edfc"
      },
      "execution_count": 3,
      "outputs": [
        {
          "output_type": "stream",
          "name": "stdout",
          "text": [
            "415-555-4242 is a phone number:\n",
            "True\n",
            "Moshi moshi is a phone number:\n",
            "False\n",
            "Phone number found 415-555-1011\n",
            "Done\n"
          ]
        }
      ]
    },
    {
      "cell_type": "code",
      "source": [
        "phoneNumRegex = re.compile(r'\\d\\d\\d-\\d\\d\\d\\d-\\d\\d\\d\\d')"
      ],
      "metadata": {
        "id": "sahC3FU9rfkA"
      },
      "execution_count": 4,
      "outputs": []
    },
    {
      "cell_type": "code",
      "source": [
        "mo = phoneNumRegex.search('My number is 075-3422-4912')"
      ],
      "metadata": {
        "id": "rE2UhSedr3nl"
      },
      "execution_count": 5,
      "outputs": []
    },
    {
      "cell_type": "code",
      "source": [
        "print('Phone number found: ' + mo.group())"
      ],
      "metadata": {
        "id": "7WH97YwasOJe",
        "outputId": "af04f1e8-b7d1-458d-8416-eda9224e93eb",
        "colab": {
          "base_uri": "https://localhost:8080/"
        }
      },
      "execution_count": 6,
      "outputs": [
        {
          "output_type": "stream",
          "name": "stdout",
          "text": [
            "Phone number found: 075-3422-4912\n"
          ]
        }
      ]
    },
    {
      "cell_type": "code",
      "source": [
        "phoneNumRegex = re.compile(r'(\\d\\d\\d)-(\\d\\d\\d\\d-\\d\\d\\d\\d)')"
      ],
      "metadata": {
        "id": "7H_U2htrsZoK"
      },
      "execution_count": 7,
      "outputs": []
    },
    {
      "cell_type": "code",
      "source": [
        "mo = phoneNumRegex.search('My number is 075-3422-4912')"
      ],
      "metadata": {
        "id": "Y6DS_adEwnxI"
      },
      "execution_count": 8,
      "outputs": []
    },
    {
      "cell_type": "code",
      "source": [
        "mo.group(1)"
      ],
      "metadata": {
        "id": "MuMdLovKw5Sv",
        "outputId": "15ed18fe-4c90-4482-8d29-4db9ebc7444c",
        "colab": {
          "base_uri": "https://localhost:8080/",
          "height": 35
        }
      },
      "execution_count": 9,
      "outputs": [
        {
          "output_type": "execute_result",
          "data": {
            "text/plain": [
              "'075'"
            ],
            "application/vnd.google.colaboratory.intrinsic+json": {
              "type": "string"
            }
          },
          "metadata": {},
          "execution_count": 9
        }
      ]
    },
    {
      "cell_type": "code",
      "source": [
        "mo.group(2)"
      ],
      "metadata": {
        "id": "BoLZZl5jw9-o",
        "outputId": "9ce6c7c4-1e3f-43b7-d84f-3f404a335823",
        "colab": {
          "base_uri": "https://localhost:8080/",
          "height": 35
        }
      },
      "execution_count": 10,
      "outputs": [
        {
          "output_type": "execute_result",
          "data": {
            "text/plain": [
              "'3422-4912'"
            ],
            "application/vnd.google.colaboratory.intrinsic+json": {
              "type": "string"
            }
          },
          "metadata": {},
          "execution_count": 10
        }
      ]
    },
    {
      "cell_type": "code",
      "source": [
        "mo.group()"
      ],
      "metadata": {
        "id": "XazxN-AgxEA6",
        "outputId": "7a610266-63d9-483a-d322-0908af726ad3",
        "colab": {
          "base_uri": "https://localhost:8080/",
          "height": 35
        }
      },
      "execution_count": 11,
      "outputs": [
        {
          "output_type": "execute_result",
          "data": {
            "text/plain": [
              "'075-3422-4912'"
            ],
            "application/vnd.google.colaboratory.intrinsic+json": {
              "type": "string"
            }
          },
          "metadata": {},
          "execution_count": 11
        }
      ]
    },
    {
      "cell_type": "code",
      "source": [
        "mo.groups()"
      ],
      "metadata": {
        "id": "Erkf599SxS-l",
        "outputId": "3cfefc9d-5089-40c0-f4e4-667825de6efd",
        "colab": {
          "base_uri": "https://localhost:8080/"
        }
      },
      "execution_count": 12,
      "outputs": [
        {
          "output_type": "execute_result",
          "data": {
            "text/plain": [
              "('075', '3422-4912')"
            ]
          },
          "metadata": {},
          "execution_count": 12
        }
      ]
    },
    {
      "cell_type": "code",
      "source": [
        "areaCode, mainNumber = mo.groups()"
      ],
      "metadata": {
        "id": "buKrogQnyIoe"
      },
      "execution_count": 13,
      "outputs": []
    },
    {
      "cell_type": "code",
      "source": [
        "print(areaCode)"
      ],
      "metadata": {
        "id": "0Nq0heTryzOn",
        "outputId": "ff085d87-b38d-4880-e038-59602e53e71c",
        "colab": {
          "base_uri": "https://localhost:8080/"
        }
      },
      "execution_count": 14,
      "outputs": [
        {
          "output_type": "stream",
          "name": "stdout",
          "text": [
            "075\n"
          ]
        }
      ]
    },
    {
      "cell_type": "code",
      "source": [
        "print(mainNumber)"
      ],
      "metadata": {
        "id": "7JDHJgaZy3j3",
        "outputId": "fb8200f4-d9f2-4e7d-804b-f550ae8b91b2",
        "colab": {
          "base_uri": "https://localhost:8080/"
        }
      },
      "execution_count": 15,
      "outputs": [
        {
          "output_type": "stream",
          "name": "stdout",
          "text": [
            "3422-4912\n"
          ]
        }
      ]
    },
    {
      "cell_type": "code",
      "source": [
        "heroRegex = re.compile(r'Batman|Tina Fey')"
      ],
      "metadata": {
        "id": "tN3D33ofy8E_"
      },
      "execution_count": 16,
      "outputs": []
    },
    {
      "cell_type": "code",
      "source": [
        "mo1 = heroRegex.search('Batman and Tina Fey')"
      ],
      "metadata": {
        "id": "u-Xi9wBFtHLE"
      },
      "execution_count": 17,
      "outputs": []
    },
    {
      "cell_type": "code",
      "source": [
        "mo1.group()"
      ],
      "metadata": {
        "id": "6EgEsxq5tlYL",
        "outputId": "c6db71a1-74fb-46e1-f44a-724a5c196464",
        "colab": {
          "base_uri": "https://localhost:8080/",
          "height": 35
        }
      },
      "execution_count": 18,
      "outputs": [
        {
          "output_type": "execute_result",
          "data": {
            "text/plain": [
              "'Batman'"
            ],
            "application/vnd.google.colaboratory.intrinsic+json": {
              "type": "string"
            }
          },
          "metadata": {},
          "execution_count": 18
        }
      ]
    },
    {
      "cell_type": "code",
      "source": [
        "mo2 = heroRegex.search('Tina Fey and Batman')"
      ],
      "metadata": {
        "id": "DOMVhRfxtp7E"
      },
      "execution_count": 19,
      "outputs": []
    },
    {
      "cell_type": "code",
      "source": [
        "mo2.group()"
      ],
      "metadata": {
        "id": "2HDovzLFuACo",
        "outputId": "4b79b563-2253-4105-c371-684efe9e406a",
        "colab": {
          "base_uri": "https://localhost:8080/",
          "height": 35
        }
      },
      "execution_count": 20,
      "outputs": [
        {
          "output_type": "execute_result",
          "data": {
            "text/plain": [
              "'Tina Fey'"
            ],
            "application/vnd.google.colaboratory.intrinsic+json": {
              "type": "string"
            }
          },
          "metadata": {},
          "execution_count": 20
        }
      ]
    },
    {
      "cell_type": "code",
      "source": [
        "batRegex = re.compile(r'Bat(man|mobile|copter|bat)')"
      ],
      "metadata": {
        "id": "TIlIM1FauKV4"
      },
      "execution_count": 21,
      "outputs": []
    },
    {
      "cell_type": "code",
      "source": [
        "mo = batRegex.search('Batmobile lost a wheel')"
      ],
      "metadata": {
        "id": "Fvt0i4Lvu0Ii"
      },
      "execution_count": 22,
      "outputs": []
    },
    {
      "cell_type": "code",
      "source": [
        "mo.group()"
      ],
      "metadata": {
        "id": "V6VlsgiDvCem",
        "outputId": "610cb8fd-db3c-4129-c0ea-7b4df6017ea9",
        "colab": {
          "base_uri": "https://localhost:8080/",
          "height": 35
        }
      },
      "execution_count": 23,
      "outputs": [
        {
          "output_type": "execute_result",
          "data": {
            "text/plain": [
              "'Batmobile'"
            ],
            "application/vnd.google.colaboratory.intrinsic+json": {
              "type": "string"
            }
          },
          "metadata": {},
          "execution_count": 23
        }
      ]
    },
    {
      "cell_type": "code",
      "source": [
        "mo.group(1)"
      ],
      "metadata": {
        "id": "iqnrtQS6vEzG",
        "outputId": "2f0f703b-fabf-47c2-98d9-94a573d52548",
        "colab": {
          "base_uri": "https://localhost:8080/",
          "height": 35
        }
      },
      "execution_count": 24,
      "outputs": [
        {
          "output_type": "execute_result",
          "data": {
            "text/plain": [
              "'mobile'"
            ],
            "application/vnd.google.colaboratory.intrinsic+json": {
              "type": "string"
            }
          },
          "metadata": {},
          "execution_count": 24
        }
      ]
    },
    {
      "cell_type": "code",
      "source": [
        "batRegex = re.compile(r'Bat(wo)?man')"
      ],
      "metadata": {
        "id": "4WyO_lB1vRAP"
      },
      "execution_count": 25,
      "outputs": []
    },
    {
      "cell_type": "code",
      "source": [
        "mo1 = batRegex.search('The Adventure of Batman')"
      ],
      "metadata": {
        "id": "lQTzfQt-wvao"
      },
      "execution_count": 26,
      "outputs": []
    },
    {
      "cell_type": "code",
      "source": [
        "mo1.group()"
      ],
      "metadata": {
        "id": "aNn3j-FBxLLG",
        "outputId": "cb8e6fea-1d02-437d-9487-22a108cc9c7c",
        "colab": {
          "base_uri": "https://localhost:8080/",
          "height": 35
        }
      },
      "execution_count": 27,
      "outputs": [
        {
          "output_type": "execute_result",
          "data": {
            "text/plain": [
              "'Batman'"
            ],
            "application/vnd.google.colaboratory.intrinsic+json": {
              "type": "string"
            }
          },
          "metadata": {},
          "execution_count": 27
        }
      ]
    },
    {
      "cell_type": "code",
      "source": [
        "mo2 = batRegex.search('The Adventures of Batwoman')"
      ],
      "metadata": {
        "id": "b8Q3lv6UxSGk"
      },
      "execution_count": 28,
      "outputs": []
    },
    {
      "cell_type": "code",
      "source": [
        "mo2.group()"
      ],
      "metadata": {
        "id": "OnxmoAcuxidV",
        "outputId": "be66d1d8-ffb3-401a-c852-91e798b754c6",
        "colab": {
          "base_uri": "https://localhost:8080/",
          "height": 35
        }
      },
      "execution_count": 29,
      "outputs": [
        {
          "output_type": "execute_result",
          "data": {
            "text/plain": [
              "'Batwoman'"
            ],
            "application/vnd.google.colaboratory.intrinsic+json": {
              "type": "string"
            }
          },
          "metadata": {},
          "execution_count": 29
        }
      ]
    },
    {
      "cell_type": "code",
      "source": [
        "phoneRegex = re.compile(r'(\\d\\d\\d-)?\\d\\d\\d\\d-\\d\\d\\d\\d')"
      ],
      "metadata": {
        "id": "WT9S0gn8xl2P"
      },
      "execution_count": 30,
      "outputs": []
    },
    {
      "cell_type": "code",
      "source": [
        "mo1 = phoneRegex.search('My number is 075-3422-4912')"
      ],
      "metadata": {
        "id": "h9JswY1GyXWX"
      },
      "execution_count": 31,
      "outputs": []
    },
    {
      "cell_type": "code",
      "source": [
        "mo1.group()"
      ],
      "metadata": {
        "id": "4KHUNK8SynLV",
        "outputId": "1f1186d5-3827-4449-dbf8-a141fe24198e",
        "colab": {
          "base_uri": "https://localhost:8080/",
          "height": 35
        }
      },
      "execution_count": 32,
      "outputs": [
        {
          "output_type": "execute_result",
          "data": {
            "text/plain": [
              "'075-3422-4912'"
            ],
            "application/vnd.google.colaboratory.intrinsic+json": {
              "type": "string"
            }
          },
          "metadata": {},
          "execution_count": 32
        }
      ]
    },
    {
      "cell_type": "code",
      "source": [
        "mo2 = phoneRegex.search('My number is 3422-4912')"
      ],
      "metadata": {
        "id": "nwguG3H2ypk9"
      },
      "execution_count": 33,
      "outputs": []
    },
    {
      "cell_type": "code",
      "source": [
        "mo2.group()"
      ],
      "metadata": {
        "id": "krXWS9uEzU_V",
        "outputId": "664062bb-e75d-463c-b636-f3f0626aa798",
        "colab": {
          "base_uri": "https://localhost:8080/",
          "height": 35
        }
      },
      "execution_count": 34,
      "outputs": [
        {
          "output_type": "execute_result",
          "data": {
            "text/plain": [
              "'3422-4912'"
            ],
            "application/vnd.google.colaboratory.intrinsic+json": {
              "type": "string"
            }
          },
          "metadata": {},
          "execution_count": 34
        }
      ]
    },
    {
      "cell_type": "code",
      "source": [
        "batRegex = re.compile(r'Bat(wo)*man')"
      ],
      "metadata": {
        "id": "lHbqK0KJzY_O"
      },
      "execution_count": 35,
      "outputs": []
    },
    {
      "cell_type": "code",
      "source": [
        "mo1 = batRegex.search('The Adventure of Batman')"
      ],
      "metadata": {
        "id": "zJh89Rqk0uTL"
      },
      "execution_count": 36,
      "outputs": []
    },
    {
      "cell_type": "code",
      "source": [
        "mo1.group()"
      ],
      "metadata": {
        "id": "GHkqLPID044M",
        "outputId": "50bcfb9c-c214-4c66-e95d-b19b944f4ffe",
        "colab": {
          "base_uri": "https://localhost:8080/",
          "height": 35
        }
      },
      "execution_count": 37,
      "outputs": [
        {
          "output_type": "execute_result",
          "data": {
            "text/plain": [
              "'Batman'"
            ],
            "application/vnd.google.colaboratory.intrinsic+json": {
              "type": "string"
            }
          },
          "metadata": {},
          "execution_count": 37
        }
      ]
    },
    {
      "cell_type": "code",
      "source": [
        "mo2 = batRegex.search('The Adventure of Batwoman')"
      ],
      "metadata": {
        "id": "5VBk4pr9074H"
      },
      "execution_count": 38,
      "outputs": []
    },
    {
      "cell_type": "code",
      "source": [
        "mo2.group()"
      ],
      "metadata": {
        "id": "mIykvNh51Wmn",
        "outputId": "89f27711-eb19-4c2d-f91c-b394bbcc4175",
        "colab": {
          "base_uri": "https://localhost:8080/",
          "height": 35
        }
      },
      "execution_count": 39,
      "outputs": [
        {
          "output_type": "execute_result",
          "data": {
            "text/plain": [
              "'Batwoman'"
            ],
            "application/vnd.google.colaboratory.intrinsic+json": {
              "type": "string"
            }
          },
          "metadata": {},
          "execution_count": 39
        }
      ]
    },
    {
      "cell_type": "code",
      "source": [
        "mo3 = batRegex.search('The Adventures of Batwowowowoman')"
      ],
      "metadata": {
        "id": "99PtI1NF1izq"
      },
      "execution_count": 40,
      "outputs": []
    },
    {
      "cell_type": "code",
      "source": [
        "mo3.group()"
      ],
      "metadata": {
        "id": "QQDIsdw-1_8u",
        "outputId": "b8b9178a-e24f-4b96-cf62-550e579508bd",
        "colab": {
          "base_uri": "https://localhost:8080/",
          "height": 35
        }
      },
      "execution_count": 41,
      "outputs": [
        {
          "output_type": "execute_result",
          "data": {
            "text/plain": [
              "'Batwowowowoman'"
            ],
            "application/vnd.google.colaboratory.intrinsic+json": {
              "type": "string"
            }
          },
          "metadata": {},
          "execution_count": 41
        }
      ]
    },
    {
      "cell_type": "code",
      "source": [
        "batRegex = re.compile(r'Bat(wo)+man')"
      ],
      "metadata": {
        "id": "LnYxJ1UM2ER1"
      },
      "execution_count": 42,
      "outputs": []
    },
    {
      "cell_type": "code",
      "source": [
        "mo1 = batRegex.search('The Adventure of Batwoman')"
      ],
      "metadata": {
        "id": "UEnKYgr73eqq"
      },
      "execution_count": 43,
      "outputs": []
    },
    {
      "cell_type": "code",
      "source": [
        "mo1.group()"
      ],
      "metadata": {
        "id": "tkIHP-Us3pVs",
        "outputId": "9d690670-dc5e-4d46-ea8d-d96a06112e0f",
        "colab": {
          "base_uri": "https://localhost:8080/",
          "height": 35
        }
      },
      "execution_count": 44,
      "outputs": [
        {
          "output_type": "execute_result",
          "data": {
            "text/plain": [
              "'Batwoman'"
            ],
            "application/vnd.google.colaboratory.intrinsic+json": {
              "type": "string"
            }
          },
          "metadata": {},
          "execution_count": 44
        }
      ]
    },
    {
      "cell_type": "code",
      "source": [
        "mo2 = batRegex.search('The Adventure of Batwowowowoman')"
      ],
      "metadata": {
        "id": "Oi8FmPHa3sST"
      },
      "execution_count": 45,
      "outputs": []
    },
    {
      "cell_type": "code",
      "source": [
        "mo2.group()"
      ],
      "metadata": {
        "id": "a6v69FDs4VRe",
        "outputId": "79d6311a-5309-4aa9-8421-021a3d1356a1",
        "colab": {
          "base_uri": "https://localhost:8080/",
          "height": 35
        }
      },
      "execution_count": 46,
      "outputs": [
        {
          "output_type": "execute_result",
          "data": {
            "text/plain": [
              "'Batwowowowoman'"
            ],
            "application/vnd.google.colaboratory.intrinsic+json": {
              "type": "string"
            }
          },
          "metadata": {},
          "execution_count": 46
        }
      ]
    },
    {
      "cell_type": "code",
      "source": [
        "mo3 = batRegex.search('The Adventure of Batman')"
      ],
      "metadata": {
        "id": "YUWfiJ0u4YR2"
      },
      "execution_count": 47,
      "outputs": []
    },
    {
      "cell_type": "code",
      "source": [
        "mo3 == None"
      ],
      "metadata": {
        "id": "mOZFZ6PN4lTo",
        "outputId": "292d9c2a-0f95-4111-9c51-8dbdd913a8df",
        "colab": {
          "base_uri": "https://localhost:8080/"
        }
      },
      "execution_count": 48,
      "outputs": [
        {
          "output_type": "execute_result",
          "data": {
            "text/plain": [
              "True"
            ]
          },
          "metadata": {},
          "execution_count": 48
        }
      ]
    },
    {
      "cell_type": "code",
      "source": [
        "haRegex = re.compile(r'(Ha){3}')"
      ],
      "metadata": {
        "id": "G-GV7l4j4n5H"
      },
      "execution_count": 49,
      "outputs": []
    },
    {
      "cell_type": "code",
      "source": [
        "mo1 = haRegex.search('HaHaHa')"
      ],
      "metadata": {
        "id": "ig8zMI647H3x"
      },
      "execution_count": 50,
      "outputs": []
    },
    {
      "cell_type": "code",
      "source": [
        "mo1.group()"
      ],
      "metadata": {
        "id": "Rh990ucn7QbE",
        "outputId": "b3d52495-47a6-470c-8534-311515b3a83a",
        "colab": {
          "base_uri": "https://localhost:8080/",
          "height": 35
        }
      },
      "execution_count": 51,
      "outputs": [
        {
          "output_type": "execute_result",
          "data": {
            "text/plain": [
              "'HaHaHa'"
            ],
            "application/vnd.google.colaboratory.intrinsic+json": {
              "type": "string"
            }
          },
          "metadata": {},
          "execution_count": 51
        }
      ]
    },
    {
      "cell_type": "code",
      "source": [
        "mo2 = haRegex.search('Ha')"
      ],
      "metadata": {
        "id": "EQGn9LH67TJN"
      },
      "execution_count": 52,
      "outputs": []
    },
    {
      "cell_type": "code",
      "source": [
        "mo2 == None"
      ],
      "metadata": {
        "id": "FSHr6KuP7bjt",
        "outputId": "e3956989-9315-4a4e-e326-423e4b2d194b",
        "colab": {
          "base_uri": "https://localhost:8080/"
        }
      },
      "execution_count": 53,
      "outputs": [
        {
          "output_type": "execute_result",
          "data": {
            "text/plain": [
              "True"
            ]
          },
          "metadata": {},
          "execution_count": 53
        }
      ]
    },
    {
      "cell_type": "code",
      "source": [
        "greedyHaRegex = re.compile(r'(Ha){3,5}')"
      ],
      "metadata": {
        "id": "jnCJfDQP7dr1"
      },
      "execution_count": 54,
      "outputs": []
    },
    {
      "cell_type": "code",
      "source": [
        "mo1 = greedyHaRegex.search('HaHaHaHaHa')"
      ],
      "metadata": {
        "id": "LsnlH0cI-RZo"
      },
      "execution_count": 55,
      "outputs": []
    },
    {
      "cell_type": "code",
      "source": [
        "mo1.group()"
      ],
      "metadata": {
        "id": "PEGanvq8-dAC",
        "outputId": "ce644931-c985-4bed-d30f-1dbb59bc40e1",
        "colab": {
          "base_uri": "https://localhost:8080/",
          "height": 35
        }
      },
      "execution_count": 56,
      "outputs": [
        {
          "output_type": "execute_result",
          "data": {
            "text/plain": [
              "'HaHaHaHaHa'"
            ],
            "application/vnd.google.colaboratory.intrinsic+json": {
              "type": "string"
            }
          },
          "metadata": {},
          "execution_count": 56
        }
      ]
    },
    {
      "cell_type": "code",
      "source": [
        "nongreedyHaRegex = re.compile(r'(Ha){3,5}?')"
      ],
      "metadata": {
        "id": "T4AGcl6m-gED"
      },
      "execution_count": 57,
      "outputs": []
    },
    {
      "cell_type": "code",
      "source": [
        "mo2 = nongreedyHaRegex.search('HaHaHaHaHa')"
      ],
      "metadata": {
        "id": "-IxWsf_9-7rm"
      },
      "execution_count": 58,
      "outputs": []
    },
    {
      "cell_type": "code",
      "source": [
        "mo2.group()"
      ],
      "metadata": {
        "id": "vJaRWkdz_KQC",
        "outputId": "9f95c223-7bd1-4ce0-ed9d-1c094bbc920c",
        "colab": {
          "base_uri": "https://localhost:8080/",
          "height": 35
        }
      },
      "execution_count": 59,
      "outputs": [
        {
          "output_type": "execute_result",
          "data": {
            "text/plain": [
              "'HaHaHa'"
            ],
            "application/vnd.google.colaboratory.intrinsic+json": {
              "type": "string"
            }
          },
          "metadata": {},
          "execution_count": 59
        }
      ]
    },
    {
      "cell_type": "code",
      "source": [
        "phoneNumRegex = re.compile(r'\\d\\d\\d-\\d\\d\\d\\d-\\d\\d\\d\\d')"
      ],
      "metadata": {
        "id": "DqtbsfDFAZ2l"
      },
      "execution_count": 60,
      "outputs": []
    },
    {
      "cell_type": "code",
      "source": [
        "mo = phoneNumRegex.search('Cell: 075-3422-4912 Work: 075-3423-5886')"
      ],
      "metadata": {
        "id": "U7ueDArEMwGp"
      },
      "execution_count": 61,
      "outputs": []
    },
    {
      "cell_type": "code",
      "source": [
        "mo.group()"
      ],
      "metadata": {
        "id": "q7P7deRkND09",
        "outputId": "4b84c5f8-4db5-4430-9a23-0cddf68382f1",
        "colab": {
          "base_uri": "https://localhost:8080/",
          "height": 35
        }
      },
      "execution_count": 62,
      "outputs": [
        {
          "output_type": "execute_result",
          "data": {
            "text/plain": [
              "'075-3422-4912'"
            ],
            "application/vnd.google.colaboratory.intrinsic+json": {
              "type": "string"
            }
          },
          "metadata": {},
          "execution_count": 62
        }
      ]
    },
    {
      "cell_type": "code",
      "source": [
        "phoneNumRegex = re.compile(r'\\d\\d\\d-\\d\\d\\d\\d-\\d\\d\\d\\d')"
      ],
      "metadata": {
        "id": "fw1zzCqPNHON"
      },
      "execution_count": 63,
      "outputs": []
    },
    {
      "cell_type": "code",
      "source": [
        "phoneNumRegex.findall('Cell: 075-3422-4912 Work: 031-8676-7879')"
      ],
      "metadata": {
        "id": "925QflrLQtAf",
        "outputId": "7f425131-2c28-4d54-9a99-326568be6f1d",
        "colab": {
          "base_uri": "https://localhost:8080/"
        }
      },
      "execution_count": 64,
      "outputs": [
        {
          "output_type": "execute_result",
          "data": {
            "text/plain": [
              "['075-3422-4912', '031-8676-7879']"
            ]
          },
          "metadata": {},
          "execution_count": 64
        }
      ]
    },
    {
      "cell_type": "code",
      "source": [
        "consonantRegex = re.compile(r'[^aeiouAEIOU]')"
      ],
      "metadata": {
        "id": "FTMpsm-YQ8ZE"
      },
      "execution_count": 65,
      "outputs": []
    },
    {
      "cell_type": "code",
      "source": [
        "consonantRegex.findall('RoboCop eats baby food. BABY FOOD')"
      ],
      "metadata": {
        "id": "sIpPtFciYODF",
        "outputId": "5905ff2d-ec82-4dce-ce05-700f0d602ddd",
        "colab": {
          "base_uri": "https://localhost:8080/"
        }
      },
      "execution_count": 66,
      "outputs": [
        {
          "output_type": "execute_result",
          "data": {
            "text/plain": [
              "['R',\n",
              " 'b',\n",
              " 'C',\n",
              " 'p',\n",
              " ' ',\n",
              " 't',\n",
              " 's',\n",
              " ' ',\n",
              " 'b',\n",
              " 'b',\n",
              " 'y',\n",
              " ' ',\n",
              " 'f',\n",
              " 'd',\n",
              " '.',\n",
              " ' ',\n",
              " 'B',\n",
              " 'B',\n",
              " 'Y',\n",
              " ' ',\n",
              " 'F',\n",
              " 'D']"
            ]
          },
          "metadata": {},
          "execution_count": 66
        }
      ]
    },
    {
      "cell_type": "code",
      "source": [
        "beginsWithHello = re.compile(r'^Hello')\n"
      ],
      "metadata": {
        "id": "65Vjx0X-Ybed"
      },
      "execution_count": 67,
      "outputs": []
    },
    {
      "cell_type": "code",
      "source": [
        "s = beginsWithHello.search('Hello World')"
      ],
      "metadata": {
        "id": "a7YBju-jZ_jT"
      },
      "execution_count": 68,
      "outputs": []
    },
    {
      "cell_type": "code",
      "source": [
        "beginsWithHello.search('Hello World')"
      ],
      "metadata": {
        "id": "lRzqmYeQaPv4",
        "outputId": "41d69f24-39c8-4be7-88e8-d3c0f7996ee8",
        "colab": {
          "base_uri": "https://localhost:8080/"
        }
      },
      "execution_count": 69,
      "outputs": [
        {
          "output_type": "execute_result",
          "data": {
            "text/plain": [
              "<re.Match object; span=(0, 5), match='Hello'>"
            ]
          },
          "metadata": {},
          "execution_count": 69
        }
      ]
    },
    {
      "cell_type": "code",
      "source": [
        "s.groups()"
      ],
      "metadata": {
        "id": "sRr8vz_HaTBI",
        "outputId": "389b15e9-ec37-44ff-cc36-485e073e0133",
        "colab": {
          "base_uri": "https://localhost:8080/"
        }
      },
      "execution_count": 70,
      "outputs": [
        {
          "output_type": "execute_result",
          "data": {
            "text/plain": [
              "()"
            ]
          },
          "metadata": {},
          "execution_count": 70
        }
      ]
    },
    {
      "cell_type": "code",
      "source": [
        "endsWithNumber = re.compile(r'\\d$')"
      ],
      "metadata": {
        "id": "D548CfaHcfHh"
      },
      "execution_count": 71,
      "outputs": []
    },
    {
      "cell_type": "code",
      "source": [
        "endsWithNumber.search('Your number is 42')"
      ],
      "metadata": {
        "id": "OclMEM9WcvYl",
        "outputId": "72363597-3bb3-4096-e358-683f711a8afb",
        "colab": {
          "base_uri": "https://localhost:8080/"
        }
      },
      "execution_count": 72,
      "outputs": [
        {
          "output_type": "execute_result",
          "data": {
            "text/plain": [
              "<re.Match object; span=(16, 17), match='2'>"
            ]
          },
          "metadata": {},
          "execution_count": 72
        }
      ]
    },
    {
      "cell_type": "code",
      "source": [
        "endsWithNumber.search('Your number is forty two.') == None"
      ],
      "metadata": {
        "id": "x0ao0QKEc3TM",
        "outputId": "2307141e-9faa-4c00-ea3d-acbeaa4b848f",
        "colab": {
          "base_uri": "https://localhost:8080/"
        }
      },
      "execution_count": 73,
      "outputs": [
        {
          "output_type": "execute_result",
          "data": {
            "text/plain": [
              "True"
            ]
          },
          "metadata": {},
          "execution_count": 73
        }
      ]
    },
    {
      "cell_type": "code",
      "source": [
        "wholeStringIsNum = re.compile(r'^\\d+$')"
      ],
      "metadata": {
        "id": "8Q_PYo6KdKtO"
      },
      "execution_count": 74,
      "outputs": []
    },
    {
      "cell_type": "code",
      "source": [
        "wholeStringIsNum.search('1234567890')"
      ],
      "metadata": {
        "id": "ZPtX0fjmdgvU",
        "outputId": "7a8309d1-94ef-401f-fafb-23fb9f8d4e86",
        "colab": {
          "base_uri": "https://localhost:8080/"
        }
      },
      "execution_count": 75,
      "outputs": [
        {
          "output_type": "execute_result",
          "data": {
            "text/plain": [
              "<re.Match object; span=(0, 10), match='1234567890'>"
            ]
          },
          "metadata": {},
          "execution_count": 75
        }
      ]
    },
    {
      "cell_type": "code",
      "source": [
        "wholeStringIsNum.search('12345xyz67890') == None"
      ],
      "metadata": {
        "id": "Yw-Qljt2dqyb",
        "outputId": "f87c5df9-7a07-4caf-c266-a8638a59c3c0",
        "colab": {
          "base_uri": "https://localhost:8080/"
        }
      },
      "execution_count": 76,
      "outputs": [
        {
          "output_type": "execute_result",
          "data": {
            "text/plain": [
              "True"
            ]
          },
          "metadata": {},
          "execution_count": 76
        }
      ]
    },
    {
      "cell_type": "code",
      "source": [
        "wholeStringIsNum.search('12 34567890') == None"
      ],
      "metadata": {
        "id": "tKHykc0KdyFE",
        "outputId": "9f91e61f-2514-4079-e575-37b335711c98",
        "colab": {
          "base_uri": "https://localhost:8080/"
        }
      },
      "execution_count": 77,
      "outputs": [
        {
          "output_type": "execute_result",
          "data": {
            "text/plain": [
              "True"
            ]
          },
          "metadata": {},
          "execution_count": 77
        }
      ]
    },
    {
      "cell_type": "code",
      "source": [
        "atRegex = re.compile(r'.at')"
      ],
      "metadata": {
        "id": "_KCHHYQ5eBpQ"
      },
      "execution_count": 78,
      "outputs": []
    },
    {
      "cell_type": "code",
      "source": [
        "atRegex.findall('The cat in the hat sat on the flat mat')"
      ],
      "metadata": {
        "id": "XLSO3qRVfDve",
        "outputId": "6d163393-d192-4e7a-c326-64a463ddf760",
        "colab": {
          "base_uri": "https://localhost:8080/"
        }
      },
      "execution_count": 79,
      "outputs": [
        {
          "output_type": "execute_result",
          "data": {
            "text/plain": [
              "['cat', 'hat', 'sat', 'lat', 'mat']"
            ]
          },
          "metadata": {},
          "execution_count": 79
        }
      ]
    },
    {
      "cell_type": "code",
      "source": [
        "nameRegex = re.compile(r'First Name: (.*) Last Name: (.*)')"
      ],
      "metadata": {
        "id": "UdOLgCNJfT2j"
      },
      "execution_count": 80,
      "outputs": []
    },
    {
      "cell_type": "code",
      "source": [
        "mo = nameRegex.search('First Name: Al Last Name: Sweigart')"
      ],
      "metadata": {
        "id": "qeeXZHw7oMkm"
      },
      "execution_count": 81,
      "outputs": []
    },
    {
      "cell_type": "code",
      "source": [
        "mo.groups()"
      ],
      "metadata": {
        "id": "_1WDxT6doZus",
        "outputId": "cbe39e40-b7d3-4aa5-a432-093057ee7d73",
        "colab": {
          "base_uri": "https://localhost:8080/"
        }
      },
      "execution_count": 82,
      "outputs": [
        {
          "output_type": "execute_result",
          "data": {
            "text/plain": [
              "('Al', 'Sweigart')"
            ]
          },
          "metadata": {},
          "execution_count": 82
        }
      ]
    },
    {
      "cell_type": "code",
      "source": [
        "nongreedyRegex = re.compile(r'<.*?>')"
      ],
      "metadata": {
        "id": "fQFr01evocz2"
      },
      "execution_count": 83,
      "outputs": []
    },
    {
      "cell_type": "code",
      "source": [
        "mo = nongreedyRegex.search('<To serve man> for dinner.>')"
      ],
      "metadata": {
        "id": "dUlRwW-epKA8"
      },
      "execution_count": 84,
      "outputs": []
    },
    {
      "cell_type": "code",
      "source": [
        "mo.group()"
      ],
      "metadata": {
        "id": "PTyIAIXVpYo8",
        "outputId": "26aba230-18fa-43f1-8671-5d27101a0d65",
        "colab": {
          "base_uri": "https://localhost:8080/",
          "height": 35
        }
      },
      "execution_count": 85,
      "outputs": [
        {
          "output_type": "execute_result",
          "data": {
            "text/plain": [
              "'<To serve man>'"
            ],
            "application/vnd.google.colaboratory.intrinsic+json": {
              "type": "string"
            }
          },
          "metadata": {},
          "execution_count": 85
        }
      ]
    },
    {
      "cell_type": "code",
      "source": [
        "greedyRegex = re.compile(r'<.*>')"
      ],
      "metadata": {
        "id": "OfXrP92Jpask"
      },
      "execution_count": 86,
      "outputs": []
    },
    {
      "cell_type": "code",
      "source": [
        "mo = greedyRegex.search('<To serve man> for dinner.>')"
      ],
      "metadata": {
        "id": "9sdbVCXCpzLc"
      },
      "execution_count": 87,
      "outputs": []
    },
    {
      "cell_type": "code",
      "source": [
        "mo.group()"
      ],
      "metadata": {
        "id": "PcQkPRiKqDIb",
        "outputId": "94ca00a2-fe01-4a95-ba21-0facab3df65f",
        "colab": {
          "base_uri": "https://localhost:8080/",
          "height": 35
        }
      },
      "execution_count": 88,
      "outputs": [
        {
          "output_type": "execute_result",
          "data": {
            "text/plain": [
              "'<To serve man> for dinner.>'"
            ],
            "application/vnd.google.colaboratory.intrinsic+json": {
              "type": "string"
            }
          },
          "metadata": {},
          "execution_count": 88
        }
      ]
    },
    {
      "cell_type": "code",
      "source": [
        "noNewlineRegex = re.compile('.*')"
      ],
      "metadata": {
        "id": "TJovSDD2qFdM"
      },
      "execution_count": 89,
      "outputs": []
    },
    {
      "cell_type": "code",
      "source": [
        "noNewlineRegex.search('Serve the public trust. \\nProtect the innocent. \\nUphold the law.').group()"
      ],
      "metadata": {
        "id": "gtRKeYDbq55s",
        "outputId": "85c0d2c4-20f3-420a-9b0a-e2062474e245",
        "colab": {
          "base_uri": "https://localhost:8080/",
          "height": 35
        }
      },
      "execution_count": 90,
      "outputs": [
        {
          "output_type": "execute_result",
          "data": {
            "text/plain": [
              "'Serve the public trust. '"
            ],
            "application/vnd.google.colaboratory.intrinsic+json": {
              "type": "string"
            }
          },
          "metadata": {},
          "execution_count": 90
        }
      ]
    },
    {
      "cell_type": "code",
      "source": [
        "noNewlineRegex = re.compile('.*', re.DOTALL)"
      ],
      "metadata": {
        "id": "FWqXeIo9rOJ7"
      },
      "execution_count": 91,
      "outputs": []
    },
    {
      "cell_type": "code",
      "source": [
        "noNewlineRegex.search('Serve the public trust. \\nProtect the innocent. \\nUphold the law').group()"
      ],
      "metadata": {
        "id": "XHz5DJXurk6F",
        "outputId": "5c52a970-a3dc-4a10-de1c-a655c1aac106",
        "colab": {
          "base_uri": "https://localhost:8080/",
          "height": 35
        }
      },
      "execution_count": 92,
      "outputs": [
        {
          "output_type": "execute_result",
          "data": {
            "text/plain": [
              "'Serve the public trust. \\nProtect the innocent. \\nUphold the law'"
            ],
            "application/vnd.google.colaboratory.intrinsic+json": {
              "type": "string"
            }
          },
          "metadata": {},
          "execution_count": 92
        }
      ]
    },
    {
      "cell_type": "code",
      "source": [
        "regex1 = re.compile('RoboCop')"
      ],
      "metadata": {
        "id": "2kPYfSIXr5Ny"
      },
      "execution_count": 93,
      "outputs": []
    },
    {
      "cell_type": "code",
      "source": [
        "regex2 = re.compile('ROBOCOP')"
      ],
      "metadata": {
        "id": "3G3Lpoo8tXUR"
      },
      "execution_count": 94,
      "outputs": []
    },
    {
      "cell_type": "code",
      "source": [
        "regex3 = re.compile('rob0cop')"
      ],
      "metadata": {
        "id": "ZsSWdcU2teNp"
      },
      "execution_count": 95,
      "outputs": []
    },
    {
      "cell_type": "code",
      "source": [
        "regex4 = re.compile('Roboc0p')"
      ],
      "metadata": {
        "id": "pPyMUhuZtknc"
      },
      "execution_count": 96,
      "outputs": []
    },
    {
      "cell_type": "code",
      "source": [
        "robocop = re.compile(r'robocop', re.I)"
      ],
      "metadata": {
        "id": "GWmkEU8YtqsW"
      },
      "execution_count": 97,
      "outputs": []
    },
    {
      "cell_type": "code",
      "source": [
        "robocop.search('Robocop is part man, part machine, all cop').group()"
      ],
      "metadata": {
        "id": "YQ4mUSHCt2wY",
        "outputId": "7f0a1126-60c1-4282-b781-4faa3e7c4b08",
        "colab": {
          "base_uri": "https://localhost:8080/",
          "height": 35
        }
      },
      "execution_count": 98,
      "outputs": [
        {
          "output_type": "execute_result",
          "data": {
            "text/plain": [
              "'Robocop'"
            ],
            "application/vnd.google.colaboratory.intrinsic+json": {
              "type": "string"
            }
          },
          "metadata": {},
          "execution_count": 98
        }
      ]
    },
    {
      "cell_type": "code",
      "source": [
        "robocop.search('ROBOCOP protects the inocent.').group()"
      ],
      "metadata": {
        "id": "UJQiNkACuEa4",
        "outputId": "eb487434-c670-4fa4-a245-98176587e566",
        "colab": {
          "base_uri": "https://localhost:8080/",
          "height": 35
        }
      },
      "execution_count": 99,
      "outputs": [
        {
          "output_type": "execute_result",
          "data": {
            "text/plain": [
              "'ROBOCOP'"
            ],
            "application/vnd.google.colaboratory.intrinsic+json": {
              "type": "string"
            }
          },
          "metadata": {},
          "execution_count": 99
        }
      ]
    },
    {
      "cell_type": "code",
      "source": [
        "robocop.search('Al, why does your programming book talk about robocop so much?').group()"
      ],
      "metadata": {
        "id": "qJRrk8TouUR5",
        "outputId": "a06c274b-7437-4fec-b4ec-bb2e67fee1e1",
        "colab": {
          "base_uri": "https://localhost:8080/",
          "height": 35
        }
      },
      "execution_count": 100,
      "outputs": [
        {
          "output_type": "execute_result",
          "data": {
            "text/plain": [
              "'robocop'"
            ],
            "application/vnd.google.colaboratory.intrinsic+json": {
              "type": "string"
            }
          },
          "metadata": {},
          "execution_count": 100
        }
      ]
    },
    {
      "cell_type": "code",
      "source": [
        "namesRegex = re.compile(r'Agent \\w+')"
      ],
      "metadata": {
        "id": "-H7qyEjGul9d"
      },
      "execution_count": 101,
      "outputs": []
    },
    {
      "cell_type": "code",
      "source": [
        "namesRegex.sub('CENSORED', 'Agent Alice gave the secret documents to Agent Bob.')"
      ],
      "metadata": {
        "id": "1zZSBM-ivOAa",
        "outputId": "04ece011-e51b-4104-b901-4e263547f65a",
        "colab": {
          "base_uri": "https://localhost:8080/",
          "height": 35
        }
      },
      "execution_count": 102,
      "outputs": [
        {
          "output_type": "execute_result",
          "data": {
            "text/plain": [
              "'CENSORED gave the secret documents to CENSORED.'"
            ],
            "application/vnd.google.colaboratory.intrinsic+json": {
              "type": "string"
            }
          },
          "metadata": {},
          "execution_count": 102
        }
      ]
    },
    {
      "cell_type": "code",
      "source": [
        "agentNamesRegex = re.compile(r'Agent (\\w)\\w*')"
      ],
      "metadata": {
        "id": "crlRHmPXvhqW"
      },
      "execution_count": 103,
      "outputs": []
    },
    {
      "cell_type": "code",
      "source": [
        "agentNamesRegex.sub(r'\\1****','Agent Alice told Agent Carol that Agent Eve knew Agent Bob was a double agent')"
      ],
      "metadata": {
        "id": "cykEJkbFwNU9",
        "outputId": "ddcc021a-75b3-4032-ed6b-daaa36e09c77",
        "colab": {
          "base_uri": "https://localhost:8080/",
          "height": 35
        }
      },
      "execution_count": 104,
      "outputs": [
        {
          "output_type": "execute_result",
          "data": {
            "text/plain": [
              "'A**** told C**** that E**** knew B**** was a double agent'"
            ],
            "application/vnd.google.colaboratory.intrinsic+json": {
              "type": "string"
            }
          },
          "metadata": {},
          "execution_count": 104
        }
      ]
    },
    {
      "cell_type": "code",
      "source": [
        "phoneRegex = re.compile(r'''(\n",
        "  (\\d{3}|\\(\\d{3}\\))?   #código da área\n",
        "  (\\s|-|\\.)?           #separador\n",
        "  \\d{3}                #primeiros 3 dígitos\n",
        "  (\\s|-|\\.)            #separador\n",
        "  \\d{4}                #últimos 4 dígitos\n",
        "  (\\s*(ext|x|ext.)\\s*\\d{2,5})? #extensão\n",
        ")''', re.VERBOSE)"
      ],
      "metadata": {
        "id": "ksuFsnCgwjXn"
      },
      "execution_count": 105,
      "outputs": []
    },
    {
      "cell_type": "code",
      "source": [
        "re.match('abc','abc')"
      ],
      "metadata": {
        "id": "x5blNPKt4Jjp",
        "outputId": "61952bc9-30bb-4ca0-d9cb-103e8303bcc2",
        "colab": {
          "base_uri": "https://localhost:8080/"
        }
      },
      "execution_count": 106,
      "outputs": [
        {
          "output_type": "execute_result",
          "data": {
            "text/plain": [
              "<re.Match object; span=(0, 3), match='abc'>"
            ]
          },
          "metadata": {},
          "execution_count": 106
        }
      ]
    },
    {
      "cell_type": "code",
      "source": [
        "re.match('abc','efgabc')"
      ],
      "metadata": {
        "id": "SwF3Le7u4POB"
      },
      "execution_count": 107,
      "outputs": []
    },
    {
      "cell_type": "code",
      "source": [
        "re.search('abc','efgabc')"
      ],
      "metadata": {
        "id": "uH93MLDX4fHM",
        "outputId": "29784fe3-f3f2-441b-b6a6-4d4e0d5c414f",
        "colab": {
          "base_uri": "https://localhost:8080/"
        }
      },
      "execution_count": 108,
      "outputs": [
        {
          "output_type": "execute_result",
          "data": {
            "text/plain": [
              "<re.Match object; span=(3, 6), match='abc'>"
            ]
          },
          "metadata": {},
          "execution_count": 108
        }
      ]
    },
    {
      "cell_type": "code",
      "source": [
        "re.search('abc', 'efabcwhatabc')"
      ],
      "metadata": {
        "id": "-SNvGJlZ4oN7",
        "outputId": "c8651a36-5c1d-4c14-fe98-28401e63ab5e",
        "colab": {
          "base_uri": "https://localhost:8080/"
        }
      },
      "execution_count": 109,
      "outputs": [
        {
          "output_type": "execute_result",
          "data": {
            "text/plain": [
              "<re.Match object; span=(2, 5), match='abc'>"
            ]
          },
          "metadata": {},
          "execution_count": 109
        }
      ]
    },
    {
      "cell_type": "code",
      "source": [
        "re.findall('abc', 'efgabcwhatabclatexabc')"
      ],
      "metadata": {
        "id": "QMNXWFF85ATd",
        "outputId": "21bc2e0b-a94d-4108-d258-ab51935c93e8",
        "colab": {
          "base_uri": "https://localhost:8080/"
        }
      },
      "execution_count": 110,
      "outputs": [
        {
          "output_type": "execute_result",
          "data": {
            "text/plain": [
              "['abc', 'abc', 'abc']"
            ]
          },
          "metadata": {},
          "execution_count": 110
        }
      ]
    },
    {
      "cell_type": "code",
      "source": [
        "from re import match, search, findall"
      ],
      "metadata": {
        "id": "rawW61Q25UHn"
      },
      "execution_count": 111,
      "outputs": []
    },
    {
      "cell_type": "code",
      "source": [
        "findall('.', 'abc')"
      ],
      "metadata": {
        "id": "qLSKoBtx5rIX",
        "outputId": "5f25a10f-5783-4d47-ff25-ca15673865eb",
        "colab": {
          "base_uri": "https://localhost:8080/"
        }
      },
      "execution_count": 112,
      "outputs": [
        {
          "output_type": "execute_result",
          "data": {
            "text/plain": [
              "['a', 'b', 'c']"
            ]
          },
          "metadata": {},
          "execution_count": 112
        }
      ]
    },
    {
      "cell_type": "code",
      "source": [
        "match('^.$', 'abcdefg')"
      ],
      "metadata": {
        "id": "bddeB6ui6ZvG"
      },
      "execution_count": 113,
      "outputs": []
    },
    {
      "cell_type": "code",
      "source": [
        "s = match('^.$', 'abcdefg')"
      ],
      "metadata": {
        "id": "5H4Bf8yY7p5-"
      },
      "execution_count": 123,
      "outputs": []
    },
    {
      "cell_type": "code",
      "source": [
        "print(s)"
      ],
      "metadata": {
        "id": "q5VMjEogR3qw",
        "outputId": "c9dac86c-bc07-4a4d-f282-479148015d92",
        "colab": {
          "base_uri": "https://localhost:8080/"
        }
      },
      "execution_count": 124,
      "outputs": [
        {
          "output_type": "stream",
          "name": "stdout",
          "text": [
            "None\n"
          ]
        }
      ]
    },
    {
      "cell_type": "code",
      "source": [
        "match('^$','')"
      ],
      "metadata": {
        "id": "cya1K5927y5i",
        "outputId": "fd6d8312-c0cc-429f-e3fd-16586c0bdb2c",
        "colab": {
          "base_uri": "https://localhost:8080/"
        }
      },
      "execution_count": 115,
      "outputs": [
        {
          "output_type": "execute_result",
          "data": {
            "text/plain": [
              "<re.Match object; span=(0, 0), match=''>"
            ]
          },
          "metadata": {},
          "execution_count": 115
        }
      ]
    },
    {
      "cell_type": "code",
      "source": [
        "# Classes de caracteres"
      ],
      "metadata": {
        "id": "EpAmqwv075mN"
      },
      "execution_count": 116,
      "outputs": []
    },
    {
      "cell_type": "code",
      "source": [
        "findall('[aeiou]', 'Jasiel de Cristo Serra') # Encontra todas correspondências de vogais"
      ],
      "metadata": {
        "id": "pp8kPR6l_FkM",
        "outputId": "e6675af0-4217-4eee-bf60-8768e5f6c84c",
        "colab": {
          "base_uri": "https://localhost:8080/"
        }
      },
      "execution_count": 117,
      "outputs": [
        {
          "output_type": "execute_result",
          "data": {
            "text/plain": [
              "['a', 'i', 'e', 'e', 'i', 'o', 'e', 'a']"
            ]
          },
          "metadata": {},
          "execution_count": 117
        }
      ]
    },
    {
      "cell_type": "code",
      "source": [
        "findall('[^aeiou]', 'Jasiel de Cristo Serra') # Correspondências que não seja vogais"
      ],
      "metadata": {
        "id": "rS5kapoo_O21",
        "outputId": "dfc07a87-6a83-4b89-bc73-d0f681b0422d",
        "colab": {
          "base_uri": "https://localhost:8080/"
        }
      },
      "execution_count": 118,
      "outputs": [
        {
          "output_type": "execute_result",
          "data": {
            "text/plain": [
              "['J', 's', 'l', ' ', 'd', ' ', 'C', 'r', 's', 't', ' ', 'S', 'r', 'r']"
            ]
          },
          "metadata": {},
          "execution_count": 118
        }
      ]
    },
    {
      "cell_type": "code",
      "source": [
        "findall('[a-f]', 'Jasiel de Cristo Serra') # Correspondências do Alfabeto de A até F"
      ],
      "metadata": {
        "id": "TurJWmg3_rL9",
        "outputId": "836078ba-545c-4f69-dd41-d2068e3c891c",
        "colab": {
          "base_uri": "https://localhost:8080/"
        }
      },
      "execution_count": 119,
      "outputs": [
        {
          "output_type": "execute_result",
          "data": {
            "text/plain": [
              "['a', 'e', 'd', 'e', 'e', 'a']"
            ]
          },
          "metadata": {},
          "execution_count": 119
        }
      ]
    },
    {
      "cell_type": "code",
      "source": [
        "findall('[a-fA-Z]', 'Jasiel de Cristo Serra')# Correspondências do Alfabeto de A até F Maiuscula e minusculas"
      ],
      "metadata": {
        "id": "W_rLXBucAOTw",
        "outputId": "e4b853d8-c24f-4e0a-d177-dd8c100da671",
        "colab": {
          "base_uri": "https://localhost:8080/"
        }
      },
      "execution_count": 120,
      "outputs": [
        {
          "output_type": "execute_result",
          "data": {
            "text/plain": [
              "['J', 'a', 'e', 'd', 'e', 'C', 'S', 'e', 'a']"
            ]
          },
          "metadata": {},
          "execution_count": 120
        }
      ]
    },
    {
      "cell_type": "code",
      "source": [
        "findall('[a-zA-Z]', 'Jasiel de Cristo Serra') # Todas as correspondências do Alfabeto de A a Z Maiuscula e Minisculas"
      ],
      "metadata": {
        "id": "2Hi29ys8AnHg",
        "outputId": "d7ba613b-28bd-41ab-b044-89cc260c311b",
        "colab": {
          "base_uri": "https://localhost:8080/"
        }
      },
      "execution_count": 121,
      "outputs": [
        {
          "output_type": "execute_result",
          "data": {
            "text/plain": [
              "['J',\n",
              " 'a',\n",
              " 's',\n",
              " 'i',\n",
              " 'e',\n",
              " 'l',\n",
              " 'd',\n",
              " 'e',\n",
              " 'C',\n",
              " 'r',\n",
              " 'i',\n",
              " 's',\n",
              " 't',\n",
              " 'o',\n",
              " 'S',\n",
              " 'e',\n",
              " 'r',\n",
              " 'r',\n",
              " 'a']"
            ]
          },
          "metadata": {},
          "execution_count": 121
        }
      ]
    },
    {
      "cell_type": "code",
      "source": [
        "findall('[\\w]', 'Jasiel Serra')"
      ],
      "metadata": {
        "id": "giNutXF0BGwP",
        "outputId": "f5158b45-1a4b-4bd0-eec0-a0036180eb7c",
        "colab": {
          "base_uri": "https://localhost:8080/"
        }
      },
      "execution_count": 122,
      "outputs": [
        {
          "output_type": "execute_result",
          "data": {
            "text/plain": [
              "['J', 'a', 's', 'i', 'e', 'l', 'S', 'e', 'r', 'r', 'a']"
            ]
          },
          "metadata": {},
          "execution_count": 122
        }
      ]
    },
    {
      "cell_type": "code",
      "source": [
        "# Âncoras ^$"
      ],
      "metadata": {
        "id": "Y9tJiAzNBcbb"
      },
      "execution_count": 125,
      "outputs": []
    },
    {
      "cell_type": "code",
      "source": [
        "findall('^.','abc\\ndef\\nghi')"
      ],
      "metadata": {
        "id": "Z0F5MYlBUcrv",
        "outputId": "b856f2b9-eb0f-4c98-bc84-37361dfff1f9",
        "colab": {
          "base_uri": "https://localhost:8080/"
        }
      },
      "execution_count": 126,
      "outputs": [
        {
          "output_type": "execute_result",
          "data": {
            "text/plain": [
              "['a']"
            ]
          },
          "metadata": {},
          "execution_count": 126
        }
      ]
    },
    {
      "cell_type": "code",
      "source": [
        "findall('^.','abc\\ndef\\nghi', re.MULTILINE)"
      ],
      "metadata": {
        "id": "XIRIFX4-UoYD",
        "outputId": "fd0d5609-76e3-4839-b63e-750dd5bf8e54",
        "colab": {
          "base_uri": "https://localhost:8080/"
        }
      },
      "execution_count": 127,
      "outputs": [
        {
          "output_type": "execute_result",
          "data": {
            "text/plain": [
              "['a', 'd', 'g']"
            ]
          },
          "metadata": {},
          "execution_count": 127
        }
      ]
    },
    {
      "cell_type": "code",
      "source": [
        "findall('.$', 'abc\\ndef\\nghi')"
      ],
      "metadata": {
        "id": "WozhQQnrU6qR",
        "outputId": "a017a91b-a6f7-4ce9-b3c8-e1db63aa8029",
        "colab": {
          "base_uri": "https://localhost:8080/"
        }
      },
      "execution_count": 128,
      "outputs": [
        {
          "output_type": "execute_result",
          "data": {
            "text/plain": [
              "['i']"
            ]
          },
          "metadata": {},
          "execution_count": 128
        }
      ]
    },
    {
      "cell_type": "code",
      "source": [
        "findall('.$','abc\\ndef\\nghi', re.MULTILINE)"
      ],
      "metadata": {
        "id": "UyEXJofwVKfA",
        "outputId": "eebba460-0b68-423c-c11b-76c7470c16be",
        "colab": {
          "base_uri": "https://localhost:8080/"
        }
      },
      "execution_count": 129,
      "outputs": [
        {
          "output_type": "execute_result",
          "data": {
            "text/plain": [
              "['c', 'f', 'i']"
            ]
          },
          "metadata": {},
          "execution_count": 129
        }
      ]
    },
    {
      "cell_type": "code",
      "source": [
        ""
      ],
      "metadata": {
        "id": "xKKM71zfVZy8"
      },
      "execution_count": null,
      "outputs": []
    }
  ]
}