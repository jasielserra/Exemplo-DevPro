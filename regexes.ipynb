{
  "nbformat": 4,
  "nbformat_minor": 0,
  "metadata": {
    "colab": {
      "name": "regexes.ipynb",
      "provenance": [],
      "authorship_tag": "ABX9TyMlpffKOonsXSQ7j2mo2ten",
      "include_colab_link": true
    },
    "kernelspec": {
      "name": "python3",
      "display_name": "Python 3"
    },
    "language_info": {
      "name": "python"
    }
  },
  "cells": [
    {
      "cell_type": "markdown",
      "metadata": {
        "id": "view-in-github",
        "colab_type": "text"
      },
      "source": [
        "<a href=\"https://colab.research.google.com/github/jasielserra/Exemplo-DevPro/blob/main/regexes.ipynb\" target=\"_parent\"><img src=\"https://colab.research.google.com/assets/colab-badge.svg\" alt=\"Open In Colab\"/></a>"
      ]
    },
    {
      "cell_type": "code",
      "execution_count": 29,
      "metadata": {
        "id": "kCwYc5bCGjRr"
      },
      "outputs": [],
      "source": [
        "import re"
      ]
    },
    {
      "cell_type": "code",
      "source": [
        "def isPhoneNumber(text):\n",
        "    if len(text) != 12:\n",
        "        return False\n",
        "    for i in range(0,3):\n",
        "        if not text[i].isdecimal():\n",
        "            return False\n",
        "    if text[3] != '-':\n",
        "        return False\n",
        "    for i in range(4,7):\n",
        "        if not text[i].isdecimal():\n",
        "            return False\n",
        "    if text[7] != '-':\n",
        "        return False\n",
        "    for i in range(8,12):\n",
        "        if not text[i].isdecimal():\n",
        "            return False\n",
        "    return True"
      ],
      "metadata": {
        "id": "KkOy3ROlG1Ts"
      },
      "execution_count": null,
      "outputs": []
    },
    {
      "cell_type": "code",
      "source": [
        "print('415-555-4242 is a phone number:')\n",
        "print(isPhoneNumber('415-555-4242'))\n",
        "print(\"Moshi moshi is a phone number:\")\n",
        "print(isPhoneNumber('Moshi moshi'))\n",
        "\n",
        "message = 'Call me at 415-555-1011 tomorrow. 415-555-999 is my Office'\n",
        "\n",
        "for i in range(len(message)):\n",
        "    chunk = message[i:i+12]\n",
        "    if isPhoneNumber(chunk):\n",
        "        print('Phone number found '  + chunk)\n",
        "\n",
        "        print('Done')"
      ],
      "metadata": {
        "colab": {
          "base_uri": "https://localhost:8080/"
        },
        "id": "SLNlK2gcG8hc",
        "outputId": "a240b9ae-43d2-46a2-c39b-283e68493422"
      },
      "execution_count": null,
      "outputs": [
        {
          "output_type": "stream",
          "name": "stdout",
          "text": [
            "415-555-4242 is a phone number:\n",
            "True\n",
            "Moshi moshi is a phone number:\n",
            "False\n",
            "Phone number found 415-555-1011\n",
            "Done\n"
          ]
        }
      ]
    },
    {
      "cell_type": "code",
      "source": [
        "phoneNumRegex = re.compile(r'\\d\\d\\d-\\d\\d\\d\\d-\\d\\d\\d\\d')"
      ],
      "metadata": {
        "id": "sahC3FU9rfkA"
      },
      "execution_count": null,
      "outputs": []
    },
    {
      "cell_type": "code",
      "source": [
        "mo = phoneNumRegex.search('My number is 075-3422-4912')"
      ],
      "metadata": {
        "id": "rE2UhSedr3nl"
      },
      "execution_count": null,
      "outputs": []
    },
    {
      "cell_type": "code",
      "source": [
        "print('Phone number found: ' + mo.group())"
      ],
      "metadata": {
        "id": "7WH97YwasOJe",
        "outputId": "5d55a9a9-5ff4-44cb-e77c-2d4fe171d75a",
        "colab": {
          "base_uri": "https://localhost:8080/"
        }
      },
      "execution_count": null,
      "outputs": [
        {
          "output_type": "stream",
          "name": "stdout",
          "text": [
            "Phone number found: 075-3422-4912\n"
          ]
        }
      ]
    },
    {
      "cell_type": "code",
      "source": [
        "phoneNumRegex = re.compile(r'(\\d\\d\\d)-(\\d\\d\\d\\d-\\d\\d\\d\\d)')"
      ],
      "metadata": {
        "id": "7H_U2htrsZoK"
      },
      "execution_count": null,
      "outputs": []
    },
    {
      "cell_type": "code",
      "source": [
        "mo = phoneNumRegex.search('My number is 075-3422-4912')"
      ],
      "metadata": {
        "id": "Y6DS_adEwnxI"
      },
      "execution_count": null,
      "outputs": []
    },
    {
      "cell_type": "code",
      "source": [
        "mo.group(1)"
      ],
      "metadata": {
        "id": "MuMdLovKw5Sv",
        "outputId": "ead9735f-8724-46cf-bd46-a74418335e68",
        "colab": {
          "base_uri": "https://localhost:8080/",
          "height": 35
        }
      },
      "execution_count": null,
      "outputs": [
        {
          "output_type": "execute_result",
          "data": {
            "text/plain": [
              "'075'"
            ],
            "application/vnd.google.colaboratory.intrinsic+json": {
              "type": "string"
            }
          },
          "metadata": {},
          "execution_count": 11
        }
      ]
    },
    {
      "cell_type": "code",
      "source": [
        "mo.group(2)"
      ],
      "metadata": {
        "id": "BoLZZl5jw9-o",
        "outputId": "da78364c-de3f-4c6d-c184-019968cf06a1",
        "colab": {
          "base_uri": "https://localhost:8080/",
          "height": 35
        }
      },
      "execution_count": null,
      "outputs": [
        {
          "output_type": "execute_result",
          "data": {
            "text/plain": [
              "'3422-4912'"
            ],
            "application/vnd.google.colaboratory.intrinsic+json": {
              "type": "string"
            }
          },
          "metadata": {},
          "execution_count": 12
        }
      ]
    },
    {
      "cell_type": "code",
      "source": [
        "mo.group()"
      ],
      "metadata": {
        "id": "XazxN-AgxEA6",
        "outputId": "2b14a2c1-8492-4047-cb48-3acfab2b68a1",
        "colab": {
          "base_uri": "https://localhost:8080/",
          "height": 35
        }
      },
      "execution_count": null,
      "outputs": [
        {
          "output_type": "execute_result",
          "data": {
            "text/plain": [
              "'075-3422-4912'"
            ],
            "application/vnd.google.colaboratory.intrinsic+json": {
              "type": "string"
            }
          },
          "metadata": {},
          "execution_count": 13
        }
      ]
    },
    {
      "cell_type": "code",
      "source": [
        "mo.groups()"
      ],
      "metadata": {
        "id": "Erkf599SxS-l",
        "outputId": "956f8cad-a496-4684-cfa8-86d1ba683b5b",
        "colab": {
          "base_uri": "https://localhost:8080/"
        }
      },
      "execution_count": null,
      "outputs": [
        {
          "output_type": "execute_result",
          "data": {
            "text/plain": [
              "('075', '3422-4912')"
            ]
          },
          "metadata": {},
          "execution_count": 14
        }
      ]
    },
    {
      "cell_type": "code",
      "source": [
        "areaCode, mainNumber = mo.groups()"
      ],
      "metadata": {
        "id": "buKrogQnyIoe"
      },
      "execution_count": null,
      "outputs": []
    },
    {
      "cell_type": "code",
      "source": [
        "print(areaCode)"
      ],
      "metadata": {
        "id": "0Nq0heTryzOn",
        "outputId": "b7ddee11-de04-477a-c40c-4127c82ce651",
        "colab": {
          "base_uri": "https://localhost:8080/"
        }
      },
      "execution_count": null,
      "outputs": [
        {
          "output_type": "stream",
          "name": "stdout",
          "text": [
            "075\n"
          ]
        }
      ]
    },
    {
      "cell_type": "code",
      "source": [
        "print(mainNumber)"
      ],
      "metadata": {
        "id": "7JDHJgaZy3j3",
        "outputId": "537bc7ba-d7a7-4b79-e278-8810c7d21df3",
        "colab": {
          "base_uri": "https://localhost:8080/"
        }
      },
      "execution_count": null,
      "outputs": [
        {
          "output_type": "stream",
          "name": "stdout",
          "text": [
            "3422-4912\n"
          ]
        }
      ]
    },
    {
      "cell_type": "code",
      "source": [
        "heroRegex = re.compile(r'Batman|Tina Fey')"
      ],
      "metadata": {
        "id": "tN3D33ofy8E_"
      },
      "execution_count": null,
      "outputs": []
    },
    {
      "cell_type": "code",
      "source": [
        "mo1 = heroRegex.search('Batman and Tina Fey')"
      ],
      "metadata": {
        "id": "u-Xi9wBFtHLE"
      },
      "execution_count": null,
      "outputs": []
    },
    {
      "cell_type": "code",
      "source": [
        "mo1.group()"
      ],
      "metadata": {
        "id": "6EgEsxq5tlYL",
        "outputId": "6402eeed-68d0-4be6-b3c7-80d721a8aa0f",
        "colab": {
          "base_uri": "https://localhost:8080/",
          "height": 35
        }
      },
      "execution_count": null,
      "outputs": [
        {
          "output_type": "execute_result",
          "data": {
            "text/plain": [
              "'Batman'"
            ],
            "application/vnd.google.colaboratory.intrinsic+json": {
              "type": "string"
            }
          },
          "metadata": {},
          "execution_count": 5
        }
      ]
    },
    {
      "cell_type": "code",
      "source": [
        "mo2 = heroRegex.search('Tina Fey and Batman')"
      ],
      "metadata": {
        "id": "DOMVhRfxtp7E"
      },
      "execution_count": null,
      "outputs": []
    },
    {
      "cell_type": "code",
      "source": [
        "mo2.group()"
      ],
      "metadata": {
        "id": "2HDovzLFuACo",
        "outputId": "952bb7ee-745a-4ef2-c178-565fe97f43fb",
        "colab": {
          "base_uri": "https://localhost:8080/",
          "height": 35
        }
      },
      "execution_count": null,
      "outputs": [
        {
          "output_type": "execute_result",
          "data": {
            "text/plain": [
              "'Tina Fey'"
            ],
            "application/vnd.google.colaboratory.intrinsic+json": {
              "type": "string"
            }
          },
          "metadata": {},
          "execution_count": 9
        }
      ]
    },
    {
      "cell_type": "code",
      "source": [
        "batRegex = re.compile(r'Bat(man|mobile|copter|bat)')"
      ],
      "metadata": {
        "id": "TIlIM1FauKV4"
      },
      "execution_count": null,
      "outputs": []
    },
    {
      "cell_type": "code",
      "source": [
        "mo = batRegex.search('Batmobile lost a wheel')"
      ],
      "metadata": {
        "id": "Fvt0i4Lvu0Ii"
      },
      "execution_count": null,
      "outputs": []
    },
    {
      "cell_type": "code",
      "source": [
        "mo.group()"
      ],
      "metadata": {
        "id": "V6VlsgiDvCem",
        "outputId": "f9e48095-2ce8-41ba-9576-e66e46b83f0d",
        "colab": {
          "base_uri": "https://localhost:8080/",
          "height": 35
        }
      },
      "execution_count": null,
      "outputs": [
        {
          "output_type": "execute_result",
          "data": {
            "text/plain": [
              "'Batmobile'"
            ],
            "application/vnd.google.colaboratory.intrinsic+json": {
              "type": "string"
            }
          },
          "metadata": {},
          "execution_count": 12
        }
      ]
    },
    {
      "cell_type": "code",
      "source": [
        "mo.group(1)"
      ],
      "metadata": {
        "id": "iqnrtQS6vEzG",
        "outputId": "7f713c6c-01ad-4499-dd24-3ba12a3b0bdc",
        "colab": {
          "base_uri": "https://localhost:8080/",
          "height": 35
        }
      },
      "execution_count": null,
      "outputs": [
        {
          "output_type": "execute_result",
          "data": {
            "text/plain": [
              "'mobile'"
            ],
            "application/vnd.google.colaboratory.intrinsic+json": {
              "type": "string"
            }
          },
          "metadata": {},
          "execution_count": 13
        }
      ]
    },
    {
      "cell_type": "code",
      "source": [
        "batRegex = re.compile(r'Bat(wo)?man')"
      ],
      "metadata": {
        "id": "4WyO_lB1vRAP"
      },
      "execution_count": null,
      "outputs": []
    },
    {
      "cell_type": "code",
      "source": [
        "mo1 = batRegex.search('The Adventure of Batman')"
      ],
      "metadata": {
        "id": "lQTzfQt-wvao"
      },
      "execution_count": null,
      "outputs": []
    },
    {
      "cell_type": "code",
      "source": [
        "mo1.group()"
      ],
      "metadata": {
        "id": "aNn3j-FBxLLG",
        "outputId": "8c3f3f59-028d-4727-a9a7-115fb13196bb",
        "colab": {
          "base_uri": "https://localhost:8080/",
          "height": 35
        }
      },
      "execution_count": null,
      "outputs": [
        {
          "output_type": "execute_result",
          "data": {
            "text/plain": [
              "'Batman'"
            ],
            "application/vnd.google.colaboratory.intrinsic+json": {
              "type": "string"
            }
          },
          "metadata": {},
          "execution_count": 16
        }
      ]
    },
    {
      "cell_type": "code",
      "source": [
        "mo2 = batRegex.search('The Adventures of Batwoman')"
      ],
      "metadata": {
        "id": "b8Q3lv6UxSGk"
      },
      "execution_count": null,
      "outputs": []
    },
    {
      "cell_type": "code",
      "source": [
        "mo2.group()"
      ],
      "metadata": {
        "id": "OnxmoAcuxidV",
        "outputId": "7f0a4c8b-424f-43c8-dee5-718730dcc391",
        "colab": {
          "base_uri": "https://localhost:8080/",
          "height": 35
        }
      },
      "execution_count": null,
      "outputs": [
        {
          "output_type": "execute_result",
          "data": {
            "text/plain": [
              "'Batwoman'"
            ],
            "application/vnd.google.colaboratory.intrinsic+json": {
              "type": "string"
            }
          },
          "metadata": {},
          "execution_count": 18
        }
      ]
    },
    {
      "cell_type": "code",
      "source": [
        "phoneRegex = re.compile(r'(\\d\\d\\d-)?\\d\\d\\d\\d-\\d\\d\\d\\d')"
      ],
      "metadata": {
        "id": "WT9S0gn8xl2P"
      },
      "execution_count": null,
      "outputs": []
    },
    {
      "cell_type": "code",
      "source": [
        "mo1 = phoneRegex.search('My number is 075-3422-4912')"
      ],
      "metadata": {
        "id": "h9JswY1GyXWX"
      },
      "execution_count": null,
      "outputs": []
    },
    {
      "cell_type": "code",
      "source": [
        "mo1.group()"
      ],
      "metadata": {
        "id": "4KHUNK8SynLV",
        "outputId": "ae64ee5d-2f62-4453-b0de-af2f0f27cd78",
        "colab": {
          "base_uri": "https://localhost:8080/",
          "height": 35
        }
      },
      "execution_count": null,
      "outputs": [
        {
          "output_type": "execute_result",
          "data": {
            "text/plain": [
              "'075-3422-4912'"
            ],
            "application/vnd.google.colaboratory.intrinsic+json": {
              "type": "string"
            }
          },
          "metadata": {},
          "execution_count": 21
        }
      ]
    },
    {
      "cell_type": "code",
      "source": [
        "mo2 = phoneRegex.search('My number is 3422-4912')"
      ],
      "metadata": {
        "id": "nwguG3H2ypk9"
      },
      "execution_count": null,
      "outputs": []
    },
    {
      "cell_type": "code",
      "source": [
        "mo2.group()"
      ],
      "metadata": {
        "id": "krXWS9uEzU_V",
        "outputId": "6bb20637-7add-4030-e404-d440c56ff2b6",
        "colab": {
          "base_uri": "https://localhost:8080/",
          "height": 35
        }
      },
      "execution_count": null,
      "outputs": [
        {
          "output_type": "execute_result",
          "data": {
            "text/plain": [
              "'3422-4912'"
            ],
            "application/vnd.google.colaboratory.intrinsic+json": {
              "type": "string"
            }
          },
          "metadata": {},
          "execution_count": 23
        }
      ]
    },
    {
      "cell_type": "code",
      "source": [
        "batRegex = re.compile(r'Bat(wo)*man')"
      ],
      "metadata": {
        "id": "lHbqK0KJzY_O"
      },
      "execution_count": null,
      "outputs": []
    },
    {
      "cell_type": "code",
      "source": [
        "mo1 = batRegex.search('The Adventure of Batman')"
      ],
      "metadata": {
        "id": "zJh89Rqk0uTL"
      },
      "execution_count": null,
      "outputs": []
    },
    {
      "cell_type": "code",
      "source": [
        "mo1.group()"
      ],
      "metadata": {
        "id": "GHkqLPID044M",
        "outputId": "f5f13f3b-e1af-4528-e013-9baa2f4704dd",
        "colab": {
          "base_uri": "https://localhost:8080/",
          "height": 35
        }
      },
      "execution_count": null,
      "outputs": [
        {
          "output_type": "execute_result",
          "data": {
            "text/plain": [
              "'Batman'"
            ],
            "application/vnd.google.colaboratory.intrinsic+json": {
              "type": "string"
            }
          },
          "metadata": {},
          "execution_count": 26
        }
      ]
    },
    {
      "cell_type": "code",
      "source": [
        "mo2 = batRegex.search('The Adventure of Batwoman')"
      ],
      "metadata": {
        "id": "5VBk4pr9074H"
      },
      "execution_count": null,
      "outputs": []
    },
    {
      "cell_type": "code",
      "source": [
        "mo2.group()"
      ],
      "metadata": {
        "id": "mIykvNh51Wmn",
        "outputId": "2c6e4a26-a74c-4633-8494-12c965796d49",
        "colab": {
          "base_uri": "https://localhost:8080/",
          "height": 35
        }
      },
      "execution_count": null,
      "outputs": [
        {
          "output_type": "execute_result",
          "data": {
            "text/plain": [
              "'Batwoman'"
            ],
            "application/vnd.google.colaboratory.intrinsic+json": {
              "type": "string"
            }
          },
          "metadata": {},
          "execution_count": 29
        }
      ]
    },
    {
      "cell_type": "code",
      "source": [
        "mo3 = batRegex.search('The Adventures of Batwowowowoman')"
      ],
      "metadata": {
        "id": "99PtI1NF1izq"
      },
      "execution_count": null,
      "outputs": []
    },
    {
      "cell_type": "code",
      "source": [
        "mo3.group()"
      ],
      "metadata": {
        "id": "QQDIsdw-1_8u",
        "outputId": "43253cbf-9882-4e83-b979-a12fa35259db",
        "colab": {
          "base_uri": "https://localhost:8080/",
          "height": 35
        }
      },
      "execution_count": null,
      "outputs": [
        {
          "output_type": "execute_result",
          "data": {
            "text/plain": [
              "'Batwowowowoman'"
            ],
            "application/vnd.google.colaboratory.intrinsic+json": {
              "type": "string"
            }
          },
          "metadata": {},
          "execution_count": 31
        }
      ]
    },
    {
      "cell_type": "code",
      "source": [
        "batRegex = re.compile(r'Bat(wo)+man')"
      ],
      "metadata": {
        "id": "LnYxJ1UM2ER1"
      },
      "execution_count": null,
      "outputs": []
    },
    {
      "cell_type": "code",
      "source": [
        "mo1 = batRegex.search('The Adventure of Batwoman')"
      ],
      "metadata": {
        "id": "UEnKYgr73eqq"
      },
      "execution_count": null,
      "outputs": []
    },
    {
      "cell_type": "code",
      "source": [
        "mo1.group()"
      ],
      "metadata": {
        "id": "tkIHP-Us3pVs",
        "outputId": "c2809265-31ed-42f5-af94-ca5edd8a4d77",
        "colab": {
          "base_uri": "https://localhost:8080/",
          "height": 35
        }
      },
      "execution_count": null,
      "outputs": [
        {
          "output_type": "execute_result",
          "data": {
            "text/plain": [
              "'Batwoman'"
            ],
            "application/vnd.google.colaboratory.intrinsic+json": {
              "type": "string"
            }
          },
          "metadata": {},
          "execution_count": 34
        }
      ]
    },
    {
      "cell_type": "code",
      "source": [
        "mo2 = batRegex.search('The Adventure of Batwowowowoman')"
      ],
      "metadata": {
        "id": "Oi8FmPHa3sST"
      },
      "execution_count": null,
      "outputs": []
    },
    {
      "cell_type": "code",
      "source": [
        "mo2.group()"
      ],
      "metadata": {
        "id": "a6v69FDs4VRe",
        "outputId": "c9f2ab8e-0f46-401f-cf90-35ff319ab1ee",
        "colab": {
          "base_uri": "https://localhost:8080/",
          "height": 35
        }
      },
      "execution_count": null,
      "outputs": [
        {
          "output_type": "execute_result",
          "data": {
            "text/plain": [
              "'Batwowowowoman'"
            ],
            "application/vnd.google.colaboratory.intrinsic+json": {
              "type": "string"
            }
          },
          "metadata": {},
          "execution_count": 36
        }
      ]
    },
    {
      "cell_type": "code",
      "source": [
        "mo3 = batRegex.search('The Adventure of Batman')"
      ],
      "metadata": {
        "id": "YUWfiJ0u4YR2"
      },
      "execution_count": null,
      "outputs": []
    },
    {
      "cell_type": "code",
      "source": [
        "mo3 == None"
      ],
      "metadata": {
        "id": "mOZFZ6PN4lTo",
        "outputId": "0f368f68-0041-4165-e258-773fd0424e2a",
        "colab": {
          "base_uri": "https://localhost:8080/"
        }
      },
      "execution_count": null,
      "outputs": [
        {
          "output_type": "execute_result",
          "data": {
            "text/plain": [
              "True"
            ]
          },
          "metadata": {},
          "execution_count": 38
        }
      ]
    },
    {
      "cell_type": "code",
      "source": [
        "haRegex = re.compile(r'(Ha){3}')"
      ],
      "metadata": {
        "id": "G-GV7l4j4n5H"
      },
      "execution_count": null,
      "outputs": []
    },
    {
      "cell_type": "code",
      "source": [
        "mo1 = haRegex.search('HaHaHa')"
      ],
      "metadata": {
        "id": "ig8zMI647H3x"
      },
      "execution_count": null,
      "outputs": []
    },
    {
      "cell_type": "code",
      "source": [
        "mo1.group()"
      ],
      "metadata": {
        "id": "Rh990ucn7QbE",
        "outputId": "88ecb220-44e9-4240-83ce-fbf578985f60",
        "colab": {
          "base_uri": "https://localhost:8080/",
          "height": 35
        }
      },
      "execution_count": null,
      "outputs": [
        {
          "output_type": "execute_result",
          "data": {
            "text/plain": [
              "'HaHaHa'"
            ],
            "application/vnd.google.colaboratory.intrinsic+json": {
              "type": "string"
            }
          },
          "metadata": {},
          "execution_count": 41
        }
      ]
    },
    {
      "cell_type": "code",
      "source": [
        "mo2 = haRegex.search('Ha')"
      ],
      "metadata": {
        "id": "EQGn9LH67TJN"
      },
      "execution_count": null,
      "outputs": []
    },
    {
      "cell_type": "code",
      "source": [
        "mo2 == None"
      ],
      "metadata": {
        "id": "FSHr6KuP7bjt",
        "outputId": "763da6dd-4dd4-4fc2-e4b5-e1db8cba5277",
        "colab": {
          "base_uri": "https://localhost:8080/"
        }
      },
      "execution_count": null,
      "outputs": [
        {
          "output_type": "execute_result",
          "data": {
            "text/plain": [
              "True"
            ]
          },
          "metadata": {},
          "execution_count": 43
        }
      ]
    },
    {
      "cell_type": "code",
      "source": [
        "greedyHaRegex = re.compile(r'(Ha){3,5}')"
      ],
      "metadata": {
        "id": "jnCJfDQP7dr1"
      },
      "execution_count": null,
      "outputs": []
    },
    {
      "cell_type": "code",
      "source": [
        "mo1 = greedyHaRegex.search('HaHaHaHaHa')"
      ],
      "metadata": {
        "id": "LsnlH0cI-RZo"
      },
      "execution_count": null,
      "outputs": []
    },
    {
      "cell_type": "code",
      "source": [
        "mo1.group()"
      ],
      "metadata": {
        "id": "PEGanvq8-dAC",
        "outputId": "51711ae9-f717-4c8d-a1b4-e760590480bf",
        "colab": {
          "base_uri": "https://localhost:8080/",
          "height": 35
        }
      },
      "execution_count": null,
      "outputs": [
        {
          "output_type": "execute_result",
          "data": {
            "text/plain": [
              "'HaHaHaHaHa'"
            ],
            "application/vnd.google.colaboratory.intrinsic+json": {
              "type": "string"
            }
          },
          "metadata": {},
          "execution_count": 46
        }
      ]
    },
    {
      "cell_type": "code",
      "source": [
        "nongreedyHaRegex = re.compile(r'(Ha){3,5}?')"
      ],
      "metadata": {
        "id": "T4AGcl6m-gED"
      },
      "execution_count": null,
      "outputs": []
    },
    {
      "cell_type": "code",
      "source": [
        "mo2 = nongreedyHaRegex.search('HaHaHaHaHa')"
      ],
      "metadata": {
        "id": "-IxWsf_9-7rm"
      },
      "execution_count": null,
      "outputs": []
    },
    {
      "cell_type": "code",
      "source": [
        "mo2.group()"
      ],
      "metadata": {
        "id": "vJaRWkdz_KQC",
        "outputId": "bdfadbd9-2463-44e8-9729-6ebc0ab6de44",
        "colab": {
          "base_uri": "https://localhost:8080/",
          "height": 35
        }
      },
      "execution_count": null,
      "outputs": [
        {
          "output_type": "execute_result",
          "data": {
            "text/plain": [
              "'HaHaHa'"
            ],
            "application/vnd.google.colaboratory.intrinsic+json": {
              "type": "string"
            }
          },
          "metadata": {},
          "execution_count": 53
        }
      ]
    },
    {
      "cell_type": "code",
      "source": [
        "phoneNumRegex = re.compile(r'\\d\\d\\d-\\d\\d\\d\\d-\\d\\d\\d\\d')"
      ],
      "metadata": {
        "id": "DqtbsfDFAZ2l"
      },
      "execution_count": null,
      "outputs": []
    },
    {
      "cell_type": "code",
      "source": [
        "mo = phoneNumRegex.search('Cell: 075-3422-4912 Work: 075-3423-5886')"
      ],
      "metadata": {
        "id": "U7ueDArEMwGp"
      },
      "execution_count": null,
      "outputs": []
    },
    {
      "cell_type": "code",
      "source": [
        "mo.group()"
      ],
      "metadata": {
        "id": "q7P7deRkND09",
        "outputId": "45289656-b766-437b-d803-20d80e10eabf",
        "colab": {
          "base_uri": "https://localhost:8080/",
          "height": 35
        }
      },
      "execution_count": null,
      "outputs": [
        {
          "output_type": "execute_result",
          "data": {
            "text/plain": [
              "'075-3422-4912'"
            ],
            "application/vnd.google.colaboratory.intrinsic+json": {
              "type": "string"
            }
          },
          "metadata": {},
          "execution_count": 56
        }
      ]
    },
    {
      "cell_type": "code",
      "source": [
        "phoneNumRegex = re.compile(r'\\d\\d\\d-\\d\\d\\d\\d-\\d\\d\\d\\d')"
      ],
      "metadata": {
        "id": "fw1zzCqPNHON"
      },
      "execution_count": null,
      "outputs": []
    },
    {
      "cell_type": "code",
      "source": [
        "phoneNumRegex.findall('Cell: 075-3422-4912 Work: 031-8676-7879')"
      ],
      "metadata": {
        "id": "925QflrLQtAf",
        "outputId": "1ceb73f4-daba-41c9-bda3-1a31817b9175",
        "colab": {
          "base_uri": "https://localhost:8080/"
        }
      },
      "execution_count": null,
      "outputs": [
        {
          "output_type": "execute_result",
          "data": {
            "text/plain": [
              "['075-3422-4912', '031-8676-7879']"
            ]
          },
          "metadata": {},
          "execution_count": 59
        }
      ]
    },
    {
      "cell_type": "code",
      "source": [
        "consonantRegex = re.compile(r'[^aeiouAEIOU]')"
      ],
      "metadata": {
        "id": "FTMpsm-YQ8ZE"
      },
      "execution_count": null,
      "outputs": []
    },
    {
      "cell_type": "code",
      "source": [
        "consonantRegex.findall('RoboCop eats baby food. BABY FOOD')"
      ],
      "metadata": {
        "id": "sIpPtFciYODF",
        "outputId": "fc95f998-074c-4b09-f3d4-9cead0f2c294",
        "colab": {
          "base_uri": "https://localhost:8080/"
        }
      },
      "execution_count": null,
      "outputs": [
        {
          "output_type": "execute_result",
          "data": {
            "text/plain": [
              "['R',\n",
              " 'b',\n",
              " 'C',\n",
              " 'p',\n",
              " ' ',\n",
              " 't',\n",
              " 's',\n",
              " ' ',\n",
              " 'b',\n",
              " 'b',\n",
              " 'y',\n",
              " ' ',\n",
              " 'f',\n",
              " 'd',\n",
              " '.',\n",
              " ' ',\n",
              " 'B',\n",
              " 'B',\n",
              " 'Y',\n",
              " ' ',\n",
              " 'F',\n",
              " 'D']"
            ]
          },
          "metadata": {},
          "execution_count": 63
        }
      ]
    },
    {
      "cell_type": "code",
      "source": [
        "beginsWithHello = re.compile(r'^Hello')\n"
      ],
      "metadata": {
        "id": "65Vjx0X-Ybed"
      },
      "execution_count": null,
      "outputs": []
    },
    {
      "cell_type": "code",
      "source": [
        "s = beginsWithHello.search('Hello World')"
      ],
      "metadata": {
        "id": "a7YBju-jZ_jT"
      },
      "execution_count": null,
      "outputs": []
    },
    {
      "cell_type": "code",
      "source": [
        "beginsWithHello.search('Hello World')"
      ],
      "metadata": {
        "id": "lRzqmYeQaPv4",
        "outputId": "c78aad29-c483-4f19-f323-b20ad1920bc3",
        "colab": {
          "base_uri": "https://localhost:8080/"
        }
      },
      "execution_count": null,
      "outputs": [
        {
          "output_type": "execute_result",
          "data": {
            "text/plain": [
              "<re.Match object; span=(0, 5), match='Hello'>"
            ]
          },
          "metadata": {},
          "execution_count": 69
        }
      ]
    },
    {
      "cell_type": "code",
      "source": [
        "s.groups()"
      ],
      "metadata": {
        "id": "sRr8vz_HaTBI",
        "outputId": "55a18c6f-31b1-46fe-cd99-bd5a276a4b16",
        "colab": {
          "base_uri": "https://localhost:8080/"
        }
      },
      "execution_count": null,
      "outputs": [
        {
          "output_type": "execute_result",
          "data": {
            "text/plain": [
              "()"
            ]
          },
          "metadata": {},
          "execution_count": 71
        }
      ]
    },
    {
      "cell_type": "code",
      "source": [
        "endsWithNumber = re.compile(r'\\d$')"
      ],
      "metadata": {
        "id": "D548CfaHcfHh"
      },
      "execution_count": null,
      "outputs": []
    },
    {
      "cell_type": "code",
      "source": [
        "endsWithNumber.search('Your number is 42')"
      ],
      "metadata": {
        "id": "OclMEM9WcvYl",
        "outputId": "27286353-7570-48b0-84ec-b7a6182ae5b1",
        "colab": {
          "base_uri": "https://localhost:8080/"
        }
      },
      "execution_count": null,
      "outputs": [
        {
          "output_type": "execute_result",
          "data": {
            "text/plain": [
              "<re.Match object; span=(16, 17), match='2'>"
            ]
          },
          "metadata": {},
          "execution_count": 73
        }
      ]
    },
    {
      "cell_type": "code",
      "source": [
        "endsWithNumber.search('Your number is forty two.') == None"
      ],
      "metadata": {
        "id": "x0ao0QKEc3TM",
        "outputId": "e2accd16-2608-4ec1-95f8-12bbed887a76",
        "colab": {
          "base_uri": "https://localhost:8080/"
        }
      },
      "execution_count": null,
      "outputs": [
        {
          "output_type": "execute_result",
          "data": {
            "text/plain": [
              "True"
            ]
          },
          "metadata": {},
          "execution_count": 74
        }
      ]
    },
    {
      "cell_type": "code",
      "source": [
        "wholeStringIsNum = re.compile(r'^\\d+$')"
      ],
      "metadata": {
        "id": "8Q_PYo6KdKtO"
      },
      "execution_count": null,
      "outputs": []
    },
    {
      "cell_type": "code",
      "source": [
        "wholeStringIsNum.search('1234567890')"
      ],
      "metadata": {
        "id": "ZPtX0fjmdgvU",
        "outputId": "5084c932-8c0e-480b-c017-2122bc4ed6b6",
        "colab": {
          "base_uri": "https://localhost:8080/"
        }
      },
      "execution_count": null,
      "outputs": [
        {
          "output_type": "execute_result",
          "data": {
            "text/plain": [
              "<re.Match object; span=(0, 10), match='1234567890'>"
            ]
          },
          "metadata": {},
          "execution_count": 76
        }
      ]
    },
    {
      "cell_type": "code",
      "source": [
        "wholeStringIsNum.search('12345xyz67890') == None"
      ],
      "metadata": {
        "id": "Yw-Qljt2dqyb",
        "outputId": "da61b3ca-3c1a-4ee2-bfba-5eb1146ef6ad",
        "colab": {
          "base_uri": "https://localhost:8080/"
        }
      },
      "execution_count": null,
      "outputs": [
        {
          "output_type": "execute_result",
          "data": {
            "text/plain": [
              "True"
            ]
          },
          "metadata": {},
          "execution_count": 78
        }
      ]
    },
    {
      "cell_type": "code",
      "source": [
        "wholeStringIsNum.search('12 34567890') == None"
      ],
      "metadata": {
        "id": "tKHykc0KdyFE",
        "outputId": "a2304419-44d1-416c-bcf0-f63ff55a1a3d",
        "colab": {
          "base_uri": "https://localhost:8080/"
        }
      },
      "execution_count": null,
      "outputs": [
        {
          "output_type": "execute_result",
          "data": {
            "text/plain": [
              "True"
            ]
          },
          "metadata": {},
          "execution_count": 79
        }
      ]
    },
    {
      "cell_type": "code",
      "source": [
        "atRegex = re.compile(r'.at')"
      ],
      "metadata": {
        "id": "_KCHHYQ5eBpQ"
      },
      "execution_count": null,
      "outputs": []
    },
    {
      "cell_type": "code",
      "source": [
        "atRegex.findall('The cat in the hat sat on the flat mat')"
      ],
      "metadata": {
        "id": "XLSO3qRVfDve",
        "outputId": "95c464c7-68c7-4a9d-ffee-99de63f4868c",
        "colab": {
          "base_uri": "https://localhost:8080/"
        }
      },
      "execution_count": null,
      "outputs": [
        {
          "output_type": "execute_result",
          "data": {
            "text/plain": [
              "['cat', 'hat', 'sat', 'lat', 'mat']"
            ]
          },
          "metadata": {},
          "execution_count": 81
        }
      ]
    },
    {
      "cell_type": "code",
      "source": [
        "nameRegex = re.compile(r'First Name: (.*) Last Name: (.*)')"
      ],
      "metadata": {
        "id": "UdOLgCNJfT2j"
      },
      "execution_count": null,
      "outputs": []
    },
    {
      "cell_type": "code",
      "source": [
        "mo = nameRegex.search('First Name: Al Last Name: Sweigart')"
      ],
      "metadata": {
        "id": "qeeXZHw7oMkm"
      },
      "execution_count": null,
      "outputs": []
    },
    {
      "cell_type": "code",
      "source": [
        "mo.groups()"
      ],
      "metadata": {
        "id": "_1WDxT6doZus",
        "outputId": "8ac25c6c-bb13-4d6a-84b4-6f66a0a44bc2",
        "colab": {
          "base_uri": "https://localhost:8080/"
        }
      },
      "execution_count": null,
      "outputs": [
        {
          "output_type": "execute_result",
          "data": {
            "text/plain": [
              "('Al', 'Sweigart')"
            ]
          },
          "metadata": {},
          "execution_count": 4
        }
      ]
    },
    {
      "cell_type": "code",
      "source": [
        "nongreedyRegex = re.compile(r'<.*?>')"
      ],
      "metadata": {
        "id": "fQFr01evocz2"
      },
      "execution_count": null,
      "outputs": []
    },
    {
      "cell_type": "code",
      "source": [
        "mo = nongreedyRegex.search('<To serve man> for dinner.>')"
      ],
      "metadata": {
        "id": "dUlRwW-epKA8"
      },
      "execution_count": null,
      "outputs": []
    },
    {
      "cell_type": "code",
      "source": [
        "mo.group()"
      ],
      "metadata": {
        "id": "PTyIAIXVpYo8",
        "outputId": "5dfd68af-ca27-4300-d3e9-fb81d793ccaf",
        "colab": {
          "base_uri": "https://localhost:8080/",
          "height": 35
        }
      },
      "execution_count": null,
      "outputs": [
        {
          "output_type": "execute_result",
          "data": {
            "text/plain": [
              "'<To serve man>'"
            ],
            "application/vnd.google.colaboratory.intrinsic+json": {
              "type": "string"
            }
          },
          "metadata": {},
          "execution_count": 8
        }
      ]
    },
    {
      "cell_type": "code",
      "source": [
        "greedyRegex = re.compile(r'<.*>')"
      ],
      "metadata": {
        "id": "OfXrP92Jpask"
      },
      "execution_count": null,
      "outputs": []
    },
    {
      "cell_type": "code",
      "source": [
        "mo = greedyRegex.search('<To serve man> for dinner.>')"
      ],
      "metadata": {
        "id": "9sdbVCXCpzLc"
      },
      "execution_count": null,
      "outputs": []
    },
    {
      "cell_type": "code",
      "source": [
        "mo.group()"
      ],
      "metadata": {
        "id": "PcQkPRiKqDIb",
        "outputId": "671cfa99-c584-469c-883c-760acbf5f568",
        "colab": {
          "base_uri": "https://localhost:8080/",
          "height": 35
        }
      },
      "execution_count": null,
      "outputs": [
        {
          "output_type": "execute_result",
          "data": {
            "text/plain": [
              "'<To serve man> for dinner.>'"
            ],
            "application/vnd.google.colaboratory.intrinsic+json": {
              "type": "string"
            }
          },
          "metadata": {},
          "execution_count": 11
        }
      ]
    },
    {
      "cell_type": "code",
      "source": [
        "noNewlineRegex = re.compile('.*')"
      ],
      "metadata": {
        "id": "TJovSDD2qFdM"
      },
      "execution_count": null,
      "outputs": []
    },
    {
      "cell_type": "code",
      "source": [
        "noNewlineRegex.search('Serve the public trust. \\nProtect the innocent. \\nUphold the law.').group()"
      ],
      "metadata": {
        "id": "gtRKeYDbq55s",
        "outputId": "6bb24d8c-aad7-436c-8fe0-d5a72fc7b071",
        "colab": {
          "base_uri": "https://localhost:8080/",
          "height": 35
        }
      },
      "execution_count": null,
      "outputs": [
        {
          "output_type": "execute_result",
          "data": {
            "text/plain": [
              "'Serve the public trust. '"
            ],
            "application/vnd.google.colaboratory.intrinsic+json": {
              "type": "string"
            }
          },
          "metadata": {},
          "execution_count": 13
        }
      ]
    },
    {
      "cell_type": "code",
      "source": [
        "noNewlineRegex = re.compile('.*', re.DOTALL)"
      ],
      "metadata": {
        "id": "FWqXeIo9rOJ7"
      },
      "execution_count": null,
      "outputs": []
    },
    {
      "cell_type": "code",
      "source": [
        "noNewlineRegex.search('Serve the public trust. \\nProtect the innocent. \\nUphold the law').group()"
      ],
      "metadata": {
        "id": "XHz5DJXurk6F",
        "outputId": "33b8d4ac-c218-42a2-d786-8c6508a55555",
        "colab": {
          "base_uri": "https://localhost:8080/",
          "height": 35
        }
      },
      "execution_count": null,
      "outputs": [
        {
          "output_type": "execute_result",
          "data": {
            "text/plain": [
              "'Serve the public trust. \\nProtect the innocent. \\nUphold the law'"
            ],
            "application/vnd.google.colaboratory.intrinsic+json": {
              "type": "string"
            }
          },
          "metadata": {},
          "execution_count": 15
        }
      ]
    },
    {
      "cell_type": "code",
      "source": [
        "regex1 = re.compile('RoboCop')"
      ],
      "metadata": {
        "id": "2kPYfSIXr5Ny"
      },
      "execution_count": null,
      "outputs": []
    },
    {
      "cell_type": "code",
      "source": [
        "regex2 = re.compile('ROBOCOP')"
      ],
      "metadata": {
        "id": "3G3Lpoo8tXUR"
      },
      "execution_count": null,
      "outputs": []
    },
    {
      "cell_type": "code",
      "source": [
        "regex3 = re.compile('rob0cop')"
      ],
      "metadata": {
        "id": "ZsSWdcU2teNp"
      },
      "execution_count": null,
      "outputs": []
    },
    {
      "cell_type": "code",
      "source": [
        "regex4 = re.compile('Roboc0p')"
      ],
      "metadata": {
        "id": "pPyMUhuZtknc"
      },
      "execution_count": null,
      "outputs": []
    },
    {
      "cell_type": "code",
      "source": [
        "robocop = re.compile(r'robocop', re.I)"
      ],
      "metadata": {
        "id": "GWmkEU8YtqsW"
      },
      "execution_count": null,
      "outputs": []
    },
    {
      "cell_type": "code",
      "source": [
        "robocop.search('Robocop is part man, part machine, all cop').group()"
      ],
      "metadata": {
        "id": "YQ4mUSHCt2wY",
        "outputId": "525ccccb-2336-4f85-9df6-e78d26854014",
        "colab": {
          "base_uri": "https://localhost:8080/",
          "height": 35
        }
      },
      "execution_count": null,
      "outputs": [
        {
          "output_type": "execute_result",
          "data": {
            "text/plain": [
              "'Robocop'"
            ],
            "application/vnd.google.colaboratory.intrinsic+json": {
              "type": "string"
            }
          },
          "metadata": {},
          "execution_count": 21
        }
      ]
    },
    {
      "cell_type": "code",
      "source": [
        "robocop.search('ROBOCOP protects the inocent.').group()"
      ],
      "metadata": {
        "id": "UJQiNkACuEa4",
        "outputId": "d0c0f0c2-8d65-4d77-ff7c-640c0c713ccf",
        "colab": {
          "base_uri": "https://localhost:8080/",
          "height": 35
        }
      },
      "execution_count": null,
      "outputs": [
        {
          "output_type": "execute_result",
          "data": {
            "text/plain": [
              "'ROBOCOP'"
            ],
            "application/vnd.google.colaboratory.intrinsic+json": {
              "type": "string"
            }
          },
          "metadata": {},
          "execution_count": 22
        }
      ]
    },
    {
      "cell_type": "code",
      "source": [
        "robocop.search('Al, why does your programming book talk about robocop so much?').group()"
      ],
      "metadata": {
        "id": "qJRrk8TouUR5",
        "outputId": "1b3bf8ce-f378-45f3-f3e3-86a59e09ac65",
        "colab": {
          "base_uri": "https://localhost:8080/",
          "height": 35
        }
      },
      "execution_count": null,
      "outputs": [
        {
          "output_type": "execute_result",
          "data": {
            "text/plain": [
              "'robocop'"
            ],
            "application/vnd.google.colaboratory.intrinsic+json": {
              "type": "string"
            }
          },
          "metadata": {},
          "execution_count": 23
        }
      ]
    },
    {
      "cell_type": "code",
      "source": [
        "namesRegex = re.compile(r'Agent \\w+')"
      ],
      "metadata": {
        "id": "-H7qyEjGul9d"
      },
      "execution_count": null,
      "outputs": []
    },
    {
      "cell_type": "code",
      "source": [
        "namesRegex.sub('CENSORED', 'Agent Alice gave the secret documents to Agent Bob.')"
      ],
      "metadata": {
        "id": "1zZSBM-ivOAa",
        "outputId": "ebc8fdc4-3475-408b-db71-c315b08ffddd",
        "colab": {
          "base_uri": "https://localhost:8080/",
          "height": 35
        }
      },
      "execution_count": null,
      "outputs": [
        {
          "output_type": "execute_result",
          "data": {
            "text/plain": [
              "'CENSORED gave the secret documents to CENSORED.'"
            ],
            "application/vnd.google.colaboratory.intrinsic+json": {
              "type": "string"
            }
          },
          "metadata": {},
          "execution_count": 26
        }
      ]
    },
    {
      "cell_type": "code",
      "source": [
        "agentNamesRegex = re.compile(r'Agent (\\w)\\w*')"
      ],
      "metadata": {
        "id": "crlRHmPXvhqW"
      },
      "execution_count": null,
      "outputs": []
    },
    {
      "cell_type": "code",
      "source": [
        "agentNamesRegex.sub(r'\\1****','Agent Alice told Agent Carol that Agent Eve knew Agent Bob was a double agent')"
      ],
      "metadata": {
        "id": "cykEJkbFwNU9",
        "outputId": "3fbfaf7a-af70-4940-e4ab-f18461cc3b8f",
        "colab": {
          "base_uri": "https://localhost:8080/",
          "height": 35
        }
      },
      "execution_count": null,
      "outputs": [
        {
          "output_type": "execute_result",
          "data": {
            "text/plain": [
              "'A**** told C**** that E**** knew B**** was a double agent'"
            ],
            "application/vnd.google.colaboratory.intrinsic+json": {
              "type": "string"
            }
          },
          "metadata": {},
          "execution_count": 28
        }
      ]
    },
    {
      "cell_type": "code",
      "source": [
        "phoneRegex = re.compile(r'''(\n",
        "  (\\d{3}|\\(\\d{3}\\))?   #código da área\n",
        "  (\\s|-|\\.)?           #separador\n",
        "  \\d{3}                #primeiros 3 dígitos\n",
        "  (\\s|-|\\.)            #separador\n",
        "  \\d{4}                #últimos 4 dígitos\n",
        "  (\\s*(ext|x|ext.)\\s*\\d{2,5})? #extensão\n",
        ")''', re.VERBOSE)"
      ],
      "metadata": {
        "id": "ksuFsnCgwjXn"
      },
      "execution_count": 30,
      "outputs": []
    },
    {
      "cell_type": "code",
      "source": [
        "re.match('abc','abc')"
      ],
      "metadata": {
        "id": "x5blNPKt4Jjp",
        "outputId": "b7bbc780-dacd-47f6-bf1f-ba24a55c69c1",
        "colab": {
          "base_uri": "https://localhost:8080/"
        }
      },
      "execution_count": 31,
      "outputs": [
        {
          "output_type": "execute_result",
          "data": {
            "text/plain": [
              "<re.Match object; span=(0, 3), match='abc'>"
            ]
          },
          "metadata": {},
          "execution_count": 31
        }
      ]
    },
    {
      "cell_type": "code",
      "source": [
        "re.match('abc','efgabc')"
      ],
      "metadata": {
        "id": "SwF3Le7u4POB"
      },
      "execution_count": 32,
      "outputs": []
    },
    {
      "cell_type": "code",
      "source": [
        "re.search('abc','efgabc')"
      ],
      "metadata": {
        "id": "uH93MLDX4fHM",
        "outputId": "0e243402-e9a1-479d-e711-664d52c18365",
        "colab": {
          "base_uri": "https://localhost:8080/"
        }
      },
      "execution_count": 33,
      "outputs": [
        {
          "output_type": "execute_result",
          "data": {
            "text/plain": [
              "<re.Match object; span=(3, 6), match='abc'>"
            ]
          },
          "metadata": {},
          "execution_count": 33
        }
      ]
    },
    {
      "cell_type": "code",
      "source": [
        "re.search('abc', 'efabcwhatabc')"
      ],
      "metadata": {
        "id": "-SNvGJlZ4oN7",
        "outputId": "1012f8a3-8dfa-4958-e75f-81dce827d8a6",
        "colab": {
          "base_uri": "https://localhost:8080/"
        }
      },
      "execution_count": 34,
      "outputs": [
        {
          "output_type": "execute_result",
          "data": {
            "text/plain": [
              "<re.Match object; span=(2, 5), match='abc'>"
            ]
          },
          "metadata": {},
          "execution_count": 34
        }
      ]
    },
    {
      "cell_type": "code",
      "source": [
        "re.findall('abc', 'efgabcwhatabclatexabc')"
      ],
      "metadata": {
        "id": "QMNXWFF85ATd",
        "outputId": "3991e27e-4f1e-4110-8fd5-d9e5515eb200",
        "colab": {
          "base_uri": "https://localhost:8080/"
        }
      },
      "execution_count": 35,
      "outputs": [
        {
          "output_type": "execute_result",
          "data": {
            "text/plain": [
              "['abc', 'abc', 'abc']"
            ]
          },
          "metadata": {},
          "execution_count": 35
        }
      ]
    },
    {
      "cell_type": "code",
      "source": [
        "from re import match, search, findall"
      ],
      "metadata": {
        "id": "rawW61Q25UHn"
      },
      "execution_count": 36,
      "outputs": []
    },
    {
      "cell_type": "code",
      "source": [
        "findall('.', 'abc')"
      ],
      "metadata": {
        "id": "qLSKoBtx5rIX",
        "outputId": "9c1998c4-c427-496c-e2d2-184ba9d66368",
        "colab": {
          "base_uri": "https://localhost:8080/"
        }
      },
      "execution_count": 37,
      "outputs": [
        {
          "output_type": "execute_result",
          "data": {
            "text/plain": [
              "['a', 'b', 'c']"
            ]
          },
          "metadata": {},
          "execution_count": 37
        }
      ]
    },
    {
      "cell_type": "code",
      "source": [
        "match('^.$', 'abcdefg')"
      ],
      "metadata": {
        "id": "bddeB6ui6ZvG"
      },
      "execution_count": 38,
      "outputs": []
    },
    {
      "cell_type": "code",
      "source": [
        "s = match('^.$', 'abcdefg')"
      ],
      "metadata": {
        "id": "5H4Bf8yY7p5-"
      },
      "execution_count": 40,
      "outputs": []
    },
    {
      "cell_type": "code",
      "source": [
        "match('^$','')"
      ],
      "metadata": {
        "id": "cya1K5927y5i",
        "outputId": "7b714adf-b6d8-48bb-d433-7f8ca97d32de",
        "colab": {
          "base_uri": "https://localhost:8080/"
        }
      },
      "execution_count": 44,
      "outputs": [
        {
          "output_type": "execute_result",
          "data": {
            "text/plain": [
              "<re.Match object; span=(0, 0), match=''>"
            ]
          },
          "metadata": {},
          "execution_count": 44
        }
      ]
    },
    {
      "cell_type": "code",
      "source": [
        "# Classes de caracteres"
      ],
      "metadata": {
        "id": "EpAmqwv075mN"
      },
      "execution_count": 45,
      "outputs": []
    },
    {
      "cell_type": "code",
      "source": [
        "findall('[aeiou]', 'Jasiel de Cristo Serra') # Encontra todas correspondências de vogais"
      ],
      "metadata": {
        "id": "pp8kPR6l_FkM",
        "outputId": "9706f7c2-d7b9-4d02-8d27-65dfeace2f3f",
        "colab": {
          "base_uri": "https://localhost:8080/"
        }
      },
      "execution_count": 46,
      "outputs": [
        {
          "output_type": "execute_result",
          "data": {
            "text/plain": [
              "['a', 'i', 'e', 'e', 'i', 'o', 'e', 'a']"
            ]
          },
          "metadata": {},
          "execution_count": 46
        }
      ]
    },
    {
      "cell_type": "code",
      "source": [
        "findall('[^aeiou]', 'Jasiel de Cristo Serra') # Correspondências que não seja vogais"
      ],
      "metadata": {
        "id": "rS5kapoo_O21",
        "outputId": "93c892f2-7811-4769-c02a-e4edd5cf1cb1",
        "colab": {
          "base_uri": "https://localhost:8080/"
        }
      },
      "execution_count": 47,
      "outputs": [
        {
          "output_type": "execute_result",
          "data": {
            "text/plain": [
              "['J', 's', 'l', ' ', 'd', ' ', 'C', 'r', 's', 't', ' ', 'S', 'r', 'r']"
            ]
          },
          "metadata": {},
          "execution_count": 47
        }
      ]
    },
    {
      "cell_type": "code",
      "source": [
        "findall('[a-f]', 'Jasiel de Cristo Serra') # Correspondências do Alfabeto de A até F"
      ],
      "metadata": {
        "id": "TurJWmg3_rL9",
        "outputId": "e6134df7-6bf0-4cc4-c191-e4da0fddb3c0",
        "colab": {
          "base_uri": "https://localhost:8080/"
        }
      },
      "execution_count": 48,
      "outputs": [
        {
          "output_type": "execute_result",
          "data": {
            "text/plain": [
              "['a', 'e', 'd', 'e', 'e', 'a']"
            ]
          },
          "metadata": {},
          "execution_count": 48
        }
      ]
    },
    {
      "cell_type": "code",
      "source": [
        "findall('[a-fA-Z]', 'Jasiel de Cristo Serra')# Correspondências do Alfabeto de A até F Maiuscula e minusculas"
      ],
      "metadata": {
        "id": "W_rLXBucAOTw",
        "outputId": "ff499ef7-a627-4b72-ec6b-a50c2db693da",
        "colab": {
          "base_uri": "https://localhost:8080/"
        }
      },
      "execution_count": 49,
      "outputs": [
        {
          "output_type": "execute_result",
          "data": {
            "text/plain": [
              "['J', 'a', 'e', 'd', 'e', 'C', 'S', 'e', 'a']"
            ]
          },
          "metadata": {},
          "execution_count": 49
        }
      ]
    },
    {
      "cell_type": "code",
      "source": [
        "findall('[a-zA-Z]', 'Jasiel de Cristo Serra') # Todas as correspondências do Alfabeto de A a Z Maiuscula e Minisculas"
      ],
      "metadata": {
        "id": "2Hi29ys8AnHg",
        "outputId": "2747015b-dc3f-4835-d18b-22963b216275",
        "colab": {
          "base_uri": "https://localhost:8080/"
        }
      },
      "execution_count": 50,
      "outputs": [
        {
          "output_type": "execute_result",
          "data": {
            "text/plain": [
              "['J',\n",
              " 'a',\n",
              " 's',\n",
              " 'i',\n",
              " 'e',\n",
              " 'l',\n",
              " 'd',\n",
              " 'e',\n",
              " 'C',\n",
              " 'r',\n",
              " 'i',\n",
              " 's',\n",
              " 't',\n",
              " 'o',\n",
              " 'S',\n",
              " 'e',\n",
              " 'r',\n",
              " 'r',\n",
              " 'a']"
            ]
          },
          "metadata": {},
          "execution_count": 50
        }
      ]
    },
    {
      "cell_type": "code",
      "source": [
        "findall('[\\w]', 'Jasiel Serra')"
      ],
      "metadata": {
        "id": "giNutXF0BGwP",
        "outputId": "14dc7f05-2aaf-4a55-83d5-10bbc12541b5",
        "colab": {
          "base_uri": "https://localhost:8080/"
        }
      },
      "execution_count": 51,
      "outputs": [
        {
          "output_type": "execute_result",
          "data": {
            "text/plain": [
              "['J', 'a', 's', 'i', 'e', 'l', 'S', 'e', 'r', 'r', 'a']"
            ]
          },
          "metadata": {},
          "execution_count": 51
        }
      ]
    },
    {
      "cell_type": "code",
      "source": [
        ""
      ],
      "metadata": {
        "id": "Y9tJiAzNBcbb"
      },
      "execution_count": null,
      "outputs": []
    }
  ]
}