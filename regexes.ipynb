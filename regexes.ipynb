{
  "nbformat": 4,
  "nbformat_minor": 0,
  "metadata": {
    "colab": {
      "name": "regexes.ipynb",
      "provenance": [],
      "authorship_tag": "ABX9TyM7lSo20bI/g3FnzFH4gYB1",
      "include_colab_link": true
    },
    "kernelspec": {
      "name": "python3",
      "display_name": "Python 3"
    },
    "language_info": {
      "name": "python"
    }
  },
  "cells": [
    {
      "cell_type": "markdown",
      "metadata": {
        "id": "view-in-github",
        "colab_type": "text"
      },
      "source": [
        "<a href=\"https://colab.research.google.com/github/jasielserra/Exemplo-DevPro/blob/main/regexes.ipynb\" target=\"_parent\"><img src=\"https://colab.research.google.com/assets/colab-badge.svg\" alt=\"Open In Colab\"/></a>"
      ]
    },
    {
      "cell_type": "code",
      "execution_count": 1,
      "metadata": {
        "id": "kCwYc5bCGjRr"
      },
      "outputs": [],
      "source": [
        "import re"
      ]
    },
    {
      "cell_type": "code",
      "source": [
        "def isPhoneNumber(text):\n",
        "    if len(text) != 12:\n",
        "        return False\n",
        "    for i in range(0,3):\n",
        "        if not text[i].isdecimal():\n",
        "            return False\n",
        "    if text[3] != '-':\n",
        "        return False\n",
        "    for i in range(4,7):\n",
        "        if not text[i].isdecimal():\n",
        "            return False\n",
        "    if text[7] != '-':\n",
        "        return False\n",
        "    for i in range(8,12):\n",
        "        if not text[i].isdecimal():\n",
        "            return False\n",
        "    return True"
      ],
      "metadata": {
        "id": "KkOy3ROlG1Ts"
      },
      "execution_count": 2,
      "outputs": []
    },
    {
      "cell_type": "code",
      "source": [
        "print('415-555-4242 is a phone number:')\n",
        "print(isPhoneNumber('415-555-4242'))\n",
        "print(\"Moshi moshi is a phone number:\")\n",
        "print(isPhoneNumber('Moshi moshi'))\n",
        "\n",
        "message = 'Call me at 415-555-1011 tomorrow. 415-555-999 is my Office'\n",
        "\n",
        "for i in range(len(message)):\n",
        "    chunk = message[i:i+12]\n",
        "    if isPhoneNumber(chunk):\n",
        "        print('Phone number found '  + chunk)\n",
        "\n",
        "        print('Done')"
      ],
      "metadata": {
        "colab": {
          "base_uri": "https://localhost:8080/"
        },
        "id": "SLNlK2gcG8hc",
        "outputId": "44782f74-782d-4871-b736-c25ef10a507a"
      },
      "execution_count": 3,
      "outputs": [
        {
          "output_type": "stream",
          "name": "stdout",
          "text": [
            "415-555-4242 is a phone number:\n",
            "True\n",
            "Moshi moshi is a phone number:\n",
            "False\n",
            "Phone number found 415-555-1011\n",
            "Done\n"
          ]
        }
      ]
    }
  ]
}